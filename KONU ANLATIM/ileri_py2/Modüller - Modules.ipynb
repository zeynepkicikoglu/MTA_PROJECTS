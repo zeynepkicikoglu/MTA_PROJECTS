{
 "cells": [
  {
   "cell_type": "markdown",
   "id": "d8316cdc",
   "metadata": {},
   "source": [
    "# Modül Nedir?"
   ]
  },
  {
   "cell_type": "markdown",
   "id": "ec4b0785",
   "metadata": {},
   "source": [
    "#### İndirilebilir ve taşıması kolay kodlar bütünüdür."
   ]
  },
  {
   "cell_type": "markdown",
   "id": "7910efa0",
   "metadata": {},
   "source": [
    "#### Python içerisinde bulunan veya dışarıdan indirilebilen bir çok modül vardır"
   ]
  },
  {
   "cell_type": "code",
   "execution_count": 1,
   "id": "fa21f528",
   "metadata": {},
   "outputs": [],
   "source": [
    "import math"
   ]
  },
  {
   "cell_type": "code",
   "execution_count": null,
   "id": "9a949906",
   "metadata": {
    "scrolled": false
   },
   "outputs": [],
   "source": [
    "help(math)"
   ]
  },
  {
   "cell_type": "code",
   "execution_count": 2,
   "id": "ff499935",
   "metadata": {},
   "outputs": [
    {
     "data": {
      "text/plain": [
       "3.141592653589793"
      ]
     },
     "execution_count": 2,
     "metadata": {},
     "output_type": "execute_result"
    }
   ],
   "source": [
    "math.pi"
   ]
  },
  {
   "cell_type": "code",
   "execution_count": 3,
   "id": "b9d35ac3",
   "metadata": {},
   "outputs": [
    {
     "data": {
      "text/plain": [
       "1.6197751905438615"
      ]
     },
     "execution_count": 3,
     "metadata": {},
     "output_type": "execute_result"
    }
   ],
   "source": [
    "math.tan(45.0)"
   ]
  },
  {
   "cell_type": "code",
   "execution_count": 4,
   "id": "aac5f6d0",
   "metadata": {},
   "outputs": [
    {
     "name": "stdout",
     "output_type": "stream",
     "text": [
      "Help on built-in function tan in module math:\n",
      "\n",
      "tan(x, /)\n",
      "    Return the tangent of x (measured in radians).\n",
      "\n"
     ]
    }
   ],
   "source": [
    "help(math.tan)"
   ]
  },
  {
   "cell_type": "code",
   "execution_count": 5,
   "id": "a992c6c4",
   "metadata": {
    "scrolled": true
   },
   "outputs": [
    {
     "data": {
      "text/plain": [
       "0.9999999999999999"
      ]
     },
     "execution_count": 5,
     "metadata": {},
     "output_type": "execute_result"
    }
   ],
   "source": [
    "math.tan(math.radians(45.0))"
   ]
  },
  {
   "cell_type": "markdown",
   "id": "a9070505",
   "metadata": {},
   "source": [
    "#### Bütün modülü kullanmak yerine sadece gerekli olan yapıyı kullanmak da mümkündür"
   ]
  },
  {
   "cell_type": "code",
   "execution_count": 6,
   "id": "d74ea071",
   "metadata": {},
   "outputs": [],
   "source": [
    "from numpy import mean"
   ]
  },
  {
   "cell_type": "code",
   "execution_count": 7,
   "id": "9d3f5bc2",
   "metadata": {},
   "outputs": [],
   "source": [
    "q = [1,7,2,4,12]"
   ]
  },
  {
   "cell_type": "code",
   "execution_count": 8,
   "id": "3752c28f",
   "metadata": {
    "scrolled": true
   },
   "outputs": [
    {
     "data": {
      "text/plain": [
       "5.2"
      ]
     },
     "execution_count": 8,
     "metadata": {},
     "output_type": "execute_result"
    }
   ],
   "source": [
    "mean(q) # artık numpy.mean(...) değil"
   ]
  },
  {
   "cell_type": "code",
   "execution_count": 9,
   "id": "f3b9ccc4",
   "metadata": {},
   "outputs": [
    {
     "ename": "NameError",
     "evalue": "name 'numpy' is not defined",
     "output_type": "error",
     "traceback": [
      "\u001b[1;31m---------------------------------------------------------------------------\u001b[0m",
      "\u001b[1;31mNameError\u001b[0m                                 Traceback (most recent call last)",
      "\u001b[1;32m~\\AppData\\Local\\Temp/ipykernel_11524/3749671752.py\u001b[0m in \u001b[0;36m<module>\u001b[1;34m\u001b[0m\n\u001b[1;32m----> 1\u001b[1;33m \u001b[0mnumpy\u001b[0m\u001b[1;33m.\u001b[0m\u001b[0mmean\u001b[0m\u001b[1;33m(\u001b[0m\u001b[0mq\u001b[0m\u001b[1;33m)\u001b[0m\u001b[1;33m\u001b[0m\u001b[1;33m\u001b[0m\u001b[0m\n\u001b[0m",
      "\u001b[1;31mNameError\u001b[0m: name 'numpy' is not defined"
     ]
    }
   ],
   "source": [
    "numpy.mean(q)"
   ]
  },
  {
   "cell_type": "code",
   "execution_count": 10,
   "id": "fbad3bc0",
   "metadata": {
    "scrolled": true
   },
   "outputs": [
    {
     "ename": "NameError",
     "evalue": "name 'std' is not defined",
     "output_type": "error",
     "traceback": [
      "\u001b[1;31m---------------------------------------------------------------------------\u001b[0m",
      "\u001b[1;31mNameError\u001b[0m                                 Traceback (most recent call last)",
      "\u001b[1;32m~\\AppData\\Local\\Temp/ipykernel_11524/2465326075.py\u001b[0m in \u001b[0;36m<module>\u001b[1;34m\u001b[0m\n\u001b[1;32m----> 1\u001b[1;33m \u001b[0mstd\u001b[0m\u001b[1;33m(\u001b[0m\u001b[0mq\u001b[0m\u001b[1;33m)\u001b[0m\u001b[1;33m\u001b[0m\u001b[1;33m\u001b[0m\u001b[0m\n\u001b[0m",
      "\u001b[1;31mNameError\u001b[0m: name 'std' is not defined"
     ]
    }
   ],
   "source": [
    "std(q)"
   ]
  },
  {
   "cell_type": "code",
   "execution_count": 11,
   "id": "467b9c3b",
   "metadata": {},
   "outputs": [],
   "source": [
    "from numpy import std"
   ]
  },
  {
   "cell_type": "code",
   "execution_count": 12,
   "id": "86532a3a",
   "metadata": {
    "scrolled": false
   },
   "outputs": [
    {
     "data": {
      "text/plain": [
       "3.9698866482558417"
      ]
     },
     "execution_count": 12,
     "metadata": {},
     "output_type": "execute_result"
    }
   ],
   "source": [
    "std(q)"
   ]
  },
  {
   "cell_type": "markdown",
   "id": "436bac66",
   "metadata": {},
   "source": [
    "#### Çoklu indirmek de mümkündür"
   ]
  },
  {
   "cell_type": "code",
   "execution_count": 13,
   "id": "ccc73637",
   "metadata": {},
   "outputs": [],
   "source": [
    "from numpy import arange, linspace"
   ]
  },
  {
   "cell_type": "code",
   "execution_count": 14,
   "id": "72acb5f3",
   "metadata": {},
   "outputs": [
    {
     "data": {
      "text/plain": [
       "array([0, 1, 2, 3, 4, 5, 6, 7, 8, 9])"
      ]
     },
     "execution_count": 14,
     "metadata": {},
     "output_type": "execute_result"
    }
   ],
   "source": [
    "arange(10)"
   ]
  },
  {
   "cell_type": "code",
   "execution_count": 15,
   "id": "d7e86bd3",
   "metadata": {},
   "outputs": [
    {
     "data": {
      "text/plain": [
       "array([ 5.  ,  6.25,  7.5 ,  8.75, 10.  ])"
      ]
     },
     "execution_count": 15,
     "metadata": {},
     "output_type": "execute_result"
    }
   ],
   "source": [
    "linspace(5,10,5)"
   ]
  },
  {
   "cell_type": "markdown",
   "id": "bdbc48a0",
   "metadata": {},
   "source": [
    "# Kendi Modülümüzü Yazmak ve Kullanmak"
   ]
  },
  {
   "cell_type": "markdown",
   "id": "4a54548d",
   "metadata": {},
   "source": [
    "#### Aynı klasör içerisine bir adet .py uzantılı dosya oluşturalım"
   ]
  },
  {
   "cell_type": "markdown",
   "id": "e574f7b9",
   "metadata": {},
   "source": [
    "#### Aynı klasör içerisinde olmazsa python göremez, ayarlamalar yapmamız gerekir. (Bugünün konusu değil)"
   ]
  },
  {
   "cell_type": "code",
   "execution_count": 16,
   "id": "ba1f2578",
   "metadata": {},
   "outputs": [],
   "source": [
    "import benim_modulum"
   ]
  },
  {
   "cell_type": "code",
   "execution_count": 17,
   "id": "25231234",
   "metadata": {},
   "outputs": [
    {
     "name": "stdout",
     "output_type": "stream",
     "text": [
      "Help on module benim_modulum:\n",
      "\n",
      "NAME\n",
      "    benim_modulum - Asil Can Yılmaz tarafından 14.03.2023 tarihinde yazılmıştır.\n",
      "\n",
      "FUNCTIONS\n",
      "    factorial(n)\n",
      "        Bu fonksiyon 1'den büyük tam sayıların faktoriyelini hesaplar\n",
      "        1'den küçük veya tam sayı değeri olmayan değeri hesaplayamaz, -1 sonucunu üretir.\n",
      "\n",
      "DATA\n",
      "    favori_sayim = 12\n",
      "\n",
      "FILE\n",
      "    c:\\users\\pc_n_281\\desktop\\asil can yilmaz\\7_uni_ders\\konu_anlatimleri_temiz\\hafta_04_temel_python_4\\benim_modulum.py\n",
      "\n",
      "\n"
     ]
    }
   ],
   "source": [
    "help(benim_modulum)"
   ]
  },
  {
   "cell_type": "code",
   "execution_count": 18,
   "id": "6b8098fc",
   "metadata": {},
   "outputs": [
    {
     "data": {
      "text/plain": [
       "12"
      ]
     },
     "execution_count": 18,
     "metadata": {},
     "output_type": "execute_result"
    }
   ],
   "source": [
    "benim_modulum.favori_sayim"
   ]
  },
  {
   "cell_type": "code",
   "execution_count": 19,
   "id": "1234d350",
   "metadata": {},
   "outputs": [
    {
     "data": {
      "text/plain": [
       "120"
      ]
     },
     "execution_count": 19,
     "metadata": {},
     "output_type": "execute_result"
    }
   ],
   "source": [
    "benim_modulum.factorial(5)"
   ]
  },
  {
   "cell_type": "markdown",
   "id": "d765c792",
   "metadata": {},
   "source": [
    "#### Jupyter Notebook'a özel özellikler"
   ]
  },
  {
   "cell_type": "code",
   "execution_count": 20,
   "id": "0fc07913",
   "metadata": {},
   "outputs": [],
   "source": [
    "benim_modulum.factorial?"
   ]
  },
  {
   "cell_type": "code",
   "execution_count": 21,
   "id": "31d4bd0a",
   "metadata": {},
   "outputs": [],
   "source": [
    "benim_modulum.factorial??"
   ]
  }
 ],
 "metadata": {
  "kernelspec": {
   "display_name": "Python 3 (ipykernel)",
   "language": "python",
   "name": "python3"
  },
  "language_info": {
   "codemirror_mode": {
    "name": "ipython",
    "version": 3
   },
   "file_extension": ".py",
   "mimetype": "text/x-python",
   "name": "python",
   "nbconvert_exporter": "python",
   "pygments_lexer": "ipython3",
   "version": "3.9.7"
  }
 },
 "nbformat": 4,
 "nbformat_minor": 5
}
