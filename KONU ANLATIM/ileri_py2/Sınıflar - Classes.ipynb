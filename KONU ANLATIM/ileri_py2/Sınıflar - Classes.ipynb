{
 "cells": [
  {
   "cell_type": "markdown",
   "id": "9a7a79f3",
   "metadata": {},
   "source": [
    "# Nesne Yönelimli Program Nedir?"
   ]
  },
  {
   "cell_type": "markdown",
   "id": "68b6e7c4",
   "metadata": {},
   "source": [
    "Nesne Yönelimli Programlama (Object Oriented Programming), sınıflar ve nesneler kavramına dayanan bir programlama yaklaşımıdır. Bu yaklaşımın amacı, ihtiyaç duyulan programı daha küçük parçalara bölerek, **yönetilebilir** ve **yeniden kullanılabilir** hale getirmektir. Her küçük parçanın kendine ait özelliği, verileri ve diğer küçük parçalarla nasıl iletişim kuracağı bilgileri bulunur."
   ]
  },
  {
   "cell_type": "markdown",
   "id": "e27d69ff",
   "metadata": {},
   "source": [
    "Python’da oluşturacağımız nesnelerin de **özellikleri (attributes)** ve **davranışları/fonksiyonları (methods)** vardır."
   ]
  },
  {
   "cell_type": "markdown",
   "id": "478759ae",
   "metadata": {},
   "source": [
    "# Neden Nesne Yönelimli Programlama Kullanılıyor?"
   ]
  },
  {
   "cell_type": "markdown",
   "id": "d2832e85",
   "metadata": {},
   "source": [
    "- Nesne oluşturma bir sınıf içerisinde toplanır ve tüm projelerde kullanılabilirliğe olanak sağlar.\n",
    "- Sınıfların 1 kez oluşturulması sayesinde uzun kodları tekrardan yazmak yerine kısa kodlamalar ile çalıştırılabilir.\n",
    "- Uzun kodların tekrar yazılmasının engellenmesi sayesinde geliştirme süreci kısalır.\n",
    "- Nesneler birbirinden bağımsız olduğundan bilgi gizliliği konusunda avantaj sağlar.\n",
    "- Sınıflar sayesinde tüm projelerde değişiklik yapmak yerine tek bir sınıfta değişiklik yapılıp tüm projelerde çalışması sağlanır. Bu zaman kaybını büyük ölçüde azaltır."
   ]
  },
  {
   "cell_type": "markdown",
   "id": "dde1e328",
   "metadata": {},
   "source": [
    "# Sınıf Nedir?"
   ]
  },
  {
   "cell_type": "markdown",
   "id": "72432da9",
   "metadata": {},
   "source": [
    "Bir arada bulunması gereken ve bir arada bulunması ile daha büyük bir anlam kazanan değişken ve fonksiyonlar bütünüdür. **class** anahtar kelimesi ile yönetilirler. Bir **nesne**nin taslağıdır."
   ]
  },
  {
   "cell_type": "markdown",
   "id": "75004f61",
   "metadata": {},
   "source": [
    "#### Sınıflar nasıl tanımlanır?"
   ]
  },
  {
   "cell_type": "code",
   "execution_count": 1,
   "id": "685c0612",
   "metadata": {},
   "outputs": [],
   "source": [
    "# Sınıf bu sekilde tanımlanabilir\n",
    "class Egitmen:\n",
    "    isim        = \"Asil Can Yılmaz\"\n",
    "    firma       = \"Baykar/Cezeri\"\n",
    "    deneyim_yil = 3.5\n",
    "    pozisyon    = \"Sinyal Analiz Sistemleri Takim Lideri\"\n",
    "    lisans      = \"Bilkent Üniversitesi\"\n",
    "    y_lisans    = \"Kings College London\"\n",
    "    yas         = 29"
   ]
  },
  {
   "cell_type": "code",
   "execution_count": 2,
   "id": "2a2f8754",
   "metadata": {},
   "outputs": [],
   "source": [
    "# Nesne bu şekilde oluşturulabilir\n",
    "egitmen_objem = Egitmen()"
   ]
  },
  {
   "cell_type": "code",
   "execution_count": 3,
   "id": "75ca16ed",
   "metadata": {},
   "outputs": [
    {
     "data": {
      "text/plain": [
       "'Asil Can Yılmaz'"
      ]
     },
     "execution_count": 3,
     "metadata": {},
     "output_type": "execute_result"
    }
   ],
   "source": [
    "# Nesneden bir değişkeni alalım\n",
    "egitmen_objem.isim"
   ]
  },
  {
   "cell_type": "code",
   "execution_count": 4,
   "id": "8ff1d83e",
   "metadata": {},
   "outputs": [
    {
     "data": {
      "text/plain": [
       "29"
      ]
     },
     "execution_count": 4,
     "metadata": {},
     "output_type": "execute_result"
    }
   ],
   "source": [
    "# Nesneden başka bir değişkeni alalım\n",
    "egitmen_objem.yas"
   ]
  },
  {
   "cell_type": "code",
   "execution_count": 5,
   "id": "4802a5e7",
   "metadata": {
    "scrolled": true
   },
   "outputs": [
    {
     "ename": "NameError",
     "evalue": "name 'isim' is not defined",
     "output_type": "error",
     "traceback": [
      "\u001b[1;31m---------------------------------------------------------------------------\u001b[0m",
      "\u001b[1;31mNameError\u001b[0m                                 Traceback (most recent call last)",
      "\u001b[1;32m~\\AppData\\Local\\Temp/ipykernel_3896/2115245401.py\u001b[0m in \u001b[0;36m<module>\u001b[1;34m\u001b[0m\n\u001b[0;32m      1\u001b[0m \u001b[1;31m# Nesnenin içindeki bir değişkene, nesne üzerinden ulaşmak zorundayız\u001b[0m\u001b[1;33m\u001b[0m\u001b[1;33m\u001b[0m\u001b[0m\n\u001b[1;32m----> 2\u001b[1;33m \u001b[0misim\u001b[0m\u001b[1;33m\u001b[0m\u001b[1;33m\u001b[0m\u001b[0m\n\u001b[0m",
      "\u001b[1;31mNameError\u001b[0m: name 'isim' is not defined"
     ]
    }
   ],
   "source": [
    "# Nesnenin içindeki bir değişkene, nesne üzerinden ulaşmak zorundayız\n",
    "isim"
   ]
  },
  {
   "cell_type": "code",
   "execution_count": 6,
   "id": "f57054a7",
   "metadata": {},
   "outputs": [],
   "source": [
    "# Sınıf içinde kullanılan değişken ismi dışarıda da kullanılabilir\n",
    "yas = 10"
   ]
  },
  {
   "cell_type": "code",
   "execution_count": 7,
   "id": "cb51e58f",
   "metadata": {},
   "outputs": [
    {
     "data": {
      "text/plain": [
       "10"
      ]
     },
     "execution_count": 7,
     "metadata": {},
     "output_type": "execute_result"
    }
   ],
   "source": [
    "# Nesne dışındaki aynı isimli değişken ile ...\n",
    "yas"
   ]
  },
  {
   "cell_type": "code",
   "execution_count": 8,
   "id": "7789f463",
   "metadata": {},
   "outputs": [
    {
     "data": {
      "text/plain": [
       "29"
      ]
     },
     "execution_count": 8,
     "metadata": {},
     "output_type": "execute_result"
    }
   ],
   "source": [
    "# Nesne içindeki aynı isimli değişken farklıdır. \n",
    "egitmen_objem.yas"
   ]
  },
  {
   "cell_type": "code",
   "execution_count": 9,
   "id": "1206e455",
   "metadata": {},
   "outputs": [],
   "source": [
    "# Nesne değişkenleri de güncellenebilir\n",
    "egitmen_objem.yas += 1"
   ]
  },
  {
   "cell_type": "code",
   "execution_count": 10,
   "id": "014bb5f8",
   "metadata": {},
   "outputs": [
    {
     "data": {
      "text/plain": [
       "30"
      ]
     },
     "execution_count": 10,
     "metadata": {},
     "output_type": "execute_result"
    }
   ],
   "source": [
    "egitmen_objem.yas"
   ]
  },
  {
   "cell_type": "code",
   "execution_count": 11,
   "id": "9f2a2575",
   "metadata": {},
   "outputs": [
    {
     "data": {
      "text/plain": [
       "29"
      ]
     },
     "execution_count": 11,
     "metadata": {},
     "output_type": "execute_result"
    }
   ],
   "source": [
    "Egitmen.yas"
   ]
  },
  {
   "cell_type": "markdown",
   "id": "1e68301d",
   "metadata": {},
   "source": [
    "**class attributes** ve **instance attributes** nelerdir?"
   ]
  },
  {
   "cell_type": "markdown",
   "id": "eac0c2f6",
   "metadata": {},
   "source": [
    "# Aynı sınıfa ait farklı objeler oluşturmak"
   ]
  },
  {
   "cell_type": "code",
   "execution_count": 12,
   "id": "b62b0f70",
   "metadata": {},
   "outputs": [],
   "source": [
    "# Başka bir sınıf oluşturalım\n",
    "\n",
    "class Ogrenci:\n",
    "    \"\"\"\n",
    "    Türkiyede 19.155.571 adet objesi olan bir sınıf\n",
    "    \"\"\"\n",
    "    \n",
    "    tur = \"İnsan\"\n",
    "    \n",
    "    def __init__(self, isim, yas): # Dunder fonksiyonlar -> Constructor\n",
    "        \"\"\"\n",
    "        Öğrenci sınıfına ait objeler bu fonksiyon ile tanımlanır\n",
    "        \"\"\"\n",
    "        print(\"Class Constructor'ı çağırıldı\")\n",
    "        self.objenin_ismi = isim\n",
    "        self.objenin_yasi = yas"
   ]
  },
  {
   "cell_type": "code",
   "execution_count": 13,
   "id": "4f6d23cf",
   "metadata": {},
   "outputs": [
    {
     "name": "stdout",
     "output_type": "stream",
     "text": [
      "Class Constructor'ı çağırıldı\n"
     ]
    }
   ],
   "source": [
    "# Bir öğrenci nesnesi oluşturalım\n",
    "ogrenci_objesi_1 = Ogrenci(\"Ali\", 18)"
   ]
  },
  {
   "cell_type": "code",
   "execution_count": 14,
   "id": "5848db3d",
   "metadata": {},
   "outputs": [
    {
     "data": {
      "text/plain": [
       "<__main__.Ogrenci at 0x22ca367ce80>"
      ]
     },
     "execution_count": 14,
     "metadata": {},
     "output_type": "execute_result"
    }
   ],
   "source": [
    "# Bu nesnenin adresi nedir?\n",
    "ogrenci_objesi_1"
   ]
  },
  {
   "cell_type": "code",
   "execution_count": 15,
   "id": "06e66083",
   "metadata": {
    "scrolled": false
   },
   "outputs": [
    {
     "name": "stdout",
     "output_type": "stream",
     "text": [
      "Class Constructor'ı çağırıldı\n"
     ]
    }
   ],
   "source": [
    "# Başka bir öğrenci nesnesi daha oluşturalım\n",
    "ogrenci_objesi_2 = Ogrenci(\"Ayşe\", 19)"
   ]
  },
  {
   "cell_type": "code",
   "execution_count": 16,
   "id": "ad525c9a",
   "metadata": {},
   "outputs": [
    {
     "data": {
      "text/plain": [
       "<__main__.Ogrenci at 0x22ca368fe50>"
      ]
     },
     "execution_count": 16,
     "metadata": {},
     "output_type": "execute_result"
    }
   ],
   "source": [
    "# Bu nesnenin adresi, ilk nesnenin adresinden farklı olacaktır.\n",
    "ogrenci_objesi_2"
   ]
  },
  {
   "cell_type": "code",
   "execution_count": 17,
   "id": "30a7ca5a",
   "metadata": {},
   "outputs": [
    {
     "data": {
      "text/plain": [
       "'Ali'"
      ]
     },
     "execution_count": 17,
     "metadata": {},
     "output_type": "execute_result"
    }
   ],
   "source": [
    "# Nesnenin içinde tutulan değişkenlere aynı şekilde ulaşılabilir.\n",
    "ogrenci_objesi_1.objenin_ismi"
   ]
  },
  {
   "cell_type": "code",
   "execution_count": 18,
   "id": "cb5eee28",
   "metadata": {},
   "outputs": [
    {
     "data": {
      "text/plain": [
       "'İnsan'"
      ]
     },
     "execution_count": 18,
     "metadata": {},
     "output_type": "execute_result"
    }
   ],
   "source": [
    "# Aynı şekilde nesneye özel olmayan değişkenlere de ulaşılabilir\n",
    "ogrenci_objesi_1.tur"
   ]
  },
  {
   "cell_type": "code",
   "execution_count": 19,
   "id": "9cfd437d",
   "metadata": {},
   "outputs": [
    {
     "data": {
      "text/plain": [
       "False"
      ]
     },
     "execution_count": 19,
     "metadata": {},
     "output_type": "execute_result"
    }
   ],
   "source": [
    "# Bu iki nesne birbirinden tamamen farklı yapılardır.\n",
    "ogrenci_objesi_1 == ogrenci_objesi_2"
   ]
  },
  {
   "cell_type": "code",
   "execution_count": 20,
   "id": "7ff66ec2",
   "metadata": {},
   "outputs": [
    {
     "data": {
      "text/plain": [
       "False"
      ]
     },
     "execution_count": 20,
     "metadata": {},
     "output_type": "execute_result"
    }
   ],
   "source": [
    "# Nesnelerin içerikleri de farklıdır. \n",
    "ogrenci_objesi_1.objenin_ismi == ogrenci_objesi_2.objenin_ismi"
   ]
  },
  {
   "cell_type": "code",
   "execution_count": 21,
   "id": "d94b02c3",
   "metadata": {},
   "outputs": [
    {
     "name": "stdout",
     "output_type": "stream",
     "text": [
      "Class Constructor'ı çağırıldı\n"
     ]
    }
   ],
   "source": [
    "# Birinci öğrenci nesnesi ile aynı özelliklere sahip yeni bir nesne oluşturalım.\n",
    "ogrenci_objesi_3 = Ogrenci(\"Ali\", 18)"
   ]
  },
  {
   "cell_type": "code",
   "execution_count": 22,
   "id": "f500435f",
   "metadata": {},
   "outputs": [
    {
     "data": {
      "text/plain": [
       "False"
      ]
     },
     "execution_count": 22,
     "metadata": {},
     "output_type": "execute_result"
    }
   ],
   "source": [
    "# İçerikleri aynı olan iki nesne, aynı nesne midir?\n",
    "ogrenci_objesi_1 == ogrenci_objesi_3"
   ]
  },
  {
   "cell_type": "code",
   "execution_count": 63,
   "id": "938dcfc6",
   "metadata": {},
   "outputs": [
    {
     "data": {
      "text/plain": [
       "<__main__.Ogrenci at 0x22ca367ce80>"
      ]
     },
     "execution_count": 63,
     "metadata": {},
     "output_type": "execute_result"
    }
   ],
   "source": [
    "ogrenci_objesi_1"
   ]
  },
  {
   "cell_type": "code",
   "execution_count": 64,
   "id": "f2bba833",
   "metadata": {},
   "outputs": [
    {
     "data": {
      "text/plain": [
       "<__main__.Ogrenci at 0x22ca368f130>"
      ]
     },
     "execution_count": 64,
     "metadata": {},
     "output_type": "execute_result"
    }
   ],
   "source": [
    "ogrenci_objesi_3"
   ]
  },
  {
   "cell_type": "markdown",
   "id": "299f46ac",
   "metadata": {},
   "source": [
    "#### Sınıfa özel fonksiyonlar (METODLAR) yazabiliriz"
   ]
  },
  {
   "cell_type": "code",
   "execution_count": 23,
   "id": "847b0eb1",
   "metadata": {},
   "outputs": [],
   "source": [
    "# Başka bir sınıf yazdıralım, ama bu sınıfın fonksiyonları/metodları da olsun\n",
    "\n",
    "class Bebek:\n",
    "    def __init__(self, isim, dogum_tarihi):\n",
    "        self.isim         = isim\n",
    "        self.dogum_tarihi = dogum_tarihi\n",
    "        self.dis_sayisi   = 0\n",
    "        \n",
    "    def konus(self):\n",
    "        print(\"Agu Bugu\")\n",
    "        \n",
    "    def agla(self):\n",
    "        print(\"Ingaaaa\")\n",
    "        \n",
    "    def dis_cikar(self):\n",
    "        self.dis_sayisi += 1"
   ]
  },
  {
   "cell_type": "code",
   "execution_count": 24,
   "id": "70e2da87",
   "metadata": {},
   "outputs": [],
   "source": [
    "# Yeni bir bebek nesnesi oluşturalım\n",
    "bebegim = Bebek(\"Ayşegül\", \"15.03.2023\")"
   ]
  },
  {
   "cell_type": "code",
   "execution_count": 25,
   "id": "e7d5bc87",
   "metadata": {},
   "outputs": [
    {
     "name": "stdout",
     "output_type": "stream",
     "text": [
      "Agu Bugu\n"
     ]
    }
   ],
   "source": [
    "# Bebek nesnesinin metodunu çağıralım\n",
    "bebegim.konus()"
   ]
  },
  {
   "cell_type": "code",
   "execution_count": 26,
   "id": "11a63e63",
   "metadata": {},
   "outputs": [
    {
     "ename": "NameError",
     "evalue": "name 'konus' is not defined",
     "output_type": "error",
     "traceback": [
      "\u001b[1;31m---------------------------------------------------------------------------\u001b[0m",
      "\u001b[1;31mNameError\u001b[0m                                 Traceback (most recent call last)",
      "\u001b[1;32m~\\AppData\\Local\\Temp/ipykernel_3896/147672515.py\u001b[0m in \u001b[0;36m<module>\u001b[1;34m\u001b[0m\n\u001b[0;32m      1\u001b[0m \u001b[1;31m# Nesnenin içindeki fonksiyona erişebilir miyiz?\u001b[0m\u001b[1;33m\u001b[0m\u001b[1;33m\u001b[0m\u001b[0m\n\u001b[1;32m----> 2\u001b[1;33m \u001b[0mkonus\u001b[0m\u001b[1;33m(\u001b[0m\u001b[1;33m)\u001b[0m\u001b[1;33m\u001b[0m\u001b[1;33m\u001b[0m\u001b[0m\n\u001b[0m",
      "\u001b[1;31mNameError\u001b[0m: name 'konus' is not defined"
     ]
    }
   ],
   "source": [
    "# Nesnenin içindeki fonksiyona erişebilir miyiz?\n",
    "konus()"
   ]
  },
  {
   "cell_type": "code",
   "execution_count": 27,
   "id": "6ebd4430",
   "metadata": {},
   "outputs": [],
   "source": [
    "# Aynı isimli fonksiyon tanımlayalım\n",
    "def konus():\n",
    "    print(\"Ne diyim abi?\")"
   ]
  },
  {
   "cell_type": "code",
   "execution_count": 28,
   "id": "21f05eb6",
   "metadata": {},
   "outputs": [
    {
     "name": "stdout",
     "output_type": "stream",
     "text": [
      "Ne diyim abi?\n"
     ]
    }
   ],
   "source": [
    "# Bu fonksiyon ve ...\n",
    "konus()"
   ]
  },
  {
   "cell_type": "code",
   "execution_count": 29,
   "id": "d5933cb6",
   "metadata": {},
   "outputs": [
    {
     "name": "stdout",
     "output_type": "stream",
     "text": [
      "Agu Bugu\n"
     ]
    }
   ],
   "source": [
    "# Nesnenin içindeki metod aynı isimli farklı amaçlı iki fonksiyondur.\n",
    "bebegim.konus()"
   ]
  },
  {
   "cell_type": "code",
   "execution_count": 30,
   "id": "26054e63",
   "metadata": {},
   "outputs": [
    {
     "name": "stdout",
     "output_type": "stream",
     "text": [
      "bebegim.dis_sayisi=0\n",
      "bebegim.dis_sayisi=1\n"
     ]
    }
   ],
   "source": [
    "# Nesnenin metodları, nesnenin içinde tutulan değişkenleri de kullanabilir/değiştirebilir.\n",
    "\n",
    "print(f\"{bebegim.dis_sayisi=}\")\n",
    "\n",
    "bebegim.dis_cikar()\n",
    "\n",
    "print(f\"{bebegim.dis_sayisi=}\")"
   ]
  },
  {
   "cell_type": "markdown",
   "id": "a5fc087f",
   "metadata": {},
   "source": [
    "#### Python Sınıflarında public, private veya protected gibi bir ayrım yoktur! \"Konvansiyonel\" bir kullanım vardır."
   ]
  },
  {
   "cell_type": "code",
   "execution_count": 37,
   "id": "1342443a",
   "metadata": {},
   "outputs": [],
   "source": [
    "class Daire:\n",
    "    def __init__(self, yari_cap):\n",
    "        self._yari_cap = yari_cap\n",
    "        self._alan = self._alan_hesapla()\n",
    "        self._cevre = self._cevre_hesapla()\n",
    "        \n",
    "    def _alan_hesapla(self):\n",
    "        return 3.14 * self._yari_cap**2\n",
    "    \n",
    "    def _cevre_hesapla(self):\n",
    "        return 3.14 * 2 * self._yari_cap\n",
    "    \n",
    "    def tanimla(self):\n",
    "        print(f\"Yarı Çap = {self._yari_cap}\\nAlan = {self._alan}\\nCevre = {self._cevre}\")"
   ]
  },
  {
   "cell_type": "code",
   "execution_count": 39,
   "id": "60fe1552",
   "metadata": {},
   "outputs": [],
   "source": [
    "daire = Daire(15)"
   ]
  },
  {
   "cell_type": "code",
   "execution_count": 40,
   "id": "3a935f42",
   "metadata": {},
   "outputs": [
    {
     "name": "stdout",
     "output_type": "stream",
     "text": [
      "Yarı Çap = 15\n",
      "Alan = 706.5\n",
      "Cevre = 94.2\n"
     ]
    }
   ],
   "source": [
    "daire.tanimla()"
   ]
  },
  {
   "cell_type": "code",
   "execution_count": 34,
   "id": "ecb5c69f",
   "metadata": {},
   "outputs": [
    {
     "ename": "SyntaxError",
     "evalue": "invalid syntax (Temp/ipykernel_3896/3202027048.py, line 1)",
     "output_type": "error",
     "traceback": [
      "\u001b[1;36m  File \u001b[1;32m\"C:\\Users\\PC_N_281\\AppData\\Local\\Temp/ipykernel_3896/3202027048.py\"\u001b[1;36m, line \u001b[1;32m1\u001b[0m\n\u001b[1;33m    daire. #Tab'a basarak görelim\u001b[0m\n\u001b[1;37m           ^\u001b[0m\n\u001b[1;31mSyntaxError\u001b[0m\u001b[1;31m:\u001b[0m invalid syntax\n"
     ]
    }
   ],
   "source": [
    "daire. #Tab'a basarak görelim"
   ]
  },
  {
   "cell_type": "markdown",
   "id": "7f56f0d2",
   "metadata": {},
   "source": [
    "#### Bir nesne diğer bir nesne ile etkileşime geçebilir."
   ]
  },
  {
   "cell_type": "code",
   "execution_count": 41,
   "id": "4ccafcbd",
   "metadata": {},
   "outputs": [],
   "source": [
    "class Dovuscu:\n",
    "    \"\"\"\n",
    "    Oyunumuzdaki karakterlerin ortak sinifi\n",
    "    \"\"\"\n",
    "    def __init__(self, saldiri_gucu, savunma_gucu, can):\n",
    "        self.saldiri_gucu = saldiri_gucu\n",
    "        self.savunma_gucu = savunma_gucu\n",
    "        self.can = can\n",
    "        \n",
    "    def yumruk_at(self, rakip):\n",
    "        hasar = self.saldiri_gucu - rakip.savunma_gucu\n",
    "        hasar = 0 if hasar < 0 else hasar\n",
    "        print(f\"Hasar={hasar}\")\n",
    "        rakip.can -= hasar\n",
    "    \n",
    "    def kalan_can_hesapla(self):\n",
    "        print(self.can)"
   ]
  },
  {
   "cell_type": "code",
   "execution_count": 42,
   "id": "a7a50dcd",
   "metadata": {},
   "outputs": [],
   "source": [
    "# Oyunumuzun birinci karakterinin nesnesini yaratalım\n",
    "dovuscu_1 = Dovuscu(100, 40, 1_000)"
   ]
  },
  {
   "cell_type": "code",
   "execution_count": 43,
   "id": "92e7d080",
   "metadata": {},
   "outputs": [],
   "source": [
    "# Oyunumuzun ikinci karakterinin nesnesini yaratalım\n",
    "dovuscu_2 = Dovuscu(50,80,1_200)"
   ]
  },
  {
   "cell_type": "code",
   "execution_count": 44,
   "id": "d315c749",
   "metadata": {},
   "outputs": [
    {
     "name": "stdout",
     "output_type": "stream",
     "text": [
      "Hasar=20\n"
     ]
    }
   ],
   "source": [
    "# Nesneleri birbiri ile etkileştirebiliriz\n",
    "dovuscu_1.yumruk_at(dovuscu_2)"
   ]
  },
  {
   "cell_type": "code",
   "execution_count": 45,
   "id": "d13e900f",
   "metadata": {},
   "outputs": [
    {
     "name": "stdout",
     "output_type": "stream",
     "text": [
      "1180\n"
     ]
    }
   ],
   "source": [
    "# Birinci nesnenin ikinci nesneyi etkilediğini görelim\n",
    "dovuscu_2.kalan_can_hesapla()"
   ]
  },
  {
   "cell_type": "code",
   "execution_count": 46,
   "id": "4269ac71",
   "metadata": {},
   "outputs": [
    {
     "name": "stdout",
     "output_type": "stream",
     "text": [
      "Hasar=60\n"
     ]
    }
   ],
   "source": [
    "# Peki nesne kendisi ile etkileşime girebilir mi\n",
    "dovuscu_1.yumruk_at(dovuscu_1)"
   ]
  },
  {
   "cell_type": "code",
   "execution_count": null,
   "id": "677fe3be",
   "metadata": {},
   "outputs": [],
   "source": [
    "# Peki bu istenmeyen bir şey ise..."
   ]
  },
  {
   "cell_type": "markdown",
   "id": "5c6e9117",
   "metadata": {},
   "source": [
    "#### self nedir?"
   ]
  },
  {
   "cell_type": "code",
   "execution_count": 58,
   "id": "80a6a06f",
   "metadata": {},
   "outputs": [],
   "source": [
    "# Bir toplantıya katılacak kişileri bir sınıf ile tanımlayalım\n",
    "\n",
    "class Toplanti_Katilimcisi:\n",
    "    def __init__(self, isim):\n",
    "        self.isim = isim\n",
    "    \n",
    "    def tokalas(self, diger):\n",
    "        if self is not diger:  # veya \"!=\" ifadesi ile de kontrol edilebilir\n",
    "            print(f\"{self}\")\n",
    "            print(f\"{diger}\")\n",
    "            print(f\"{self.isim} ile {diger.isim} tokalaşıyor.\")\n",
    "        else:\n",
    "            print(f\"{self.isim} kendisi ile tokalaşmaya çalıştı.\")\n",
    "            "
   ]
  },
  {
   "cell_type": "code",
   "execution_count": 59,
   "id": "e85e2d3f",
   "metadata": {},
   "outputs": [],
   "source": [
    "# Katilimci nesnelerimizi oluşturalim\n",
    "\n",
    "katilimci_1 = Toplanti_Katilimcisi(\"Ali\")\n",
    "katilimci_2 = Toplanti_Katilimcisi(\"Ahmet\")"
   ]
  },
  {
   "cell_type": "code",
   "execution_count": 60,
   "id": "ea09f2fe",
   "metadata": {},
   "outputs": [
    {
     "data": {
      "text/plain": [
       "<__main__.Toplanti_Katilimcisi at 0x22ca5707af0>"
      ]
     },
     "execution_count": 60,
     "metadata": {},
     "output_type": "execute_result"
    }
   ],
   "source": [
    "katilimci_1"
   ]
  },
  {
   "cell_type": "code",
   "execution_count": 61,
   "id": "f96924cd",
   "metadata": {},
   "outputs": [
    {
     "data": {
      "text/plain": [
       "<__main__.Toplanti_Katilimcisi at 0x22ca5707730>"
      ]
     },
     "execution_count": 61,
     "metadata": {},
     "output_type": "execute_result"
    }
   ],
   "source": [
    "katilimci_2"
   ]
  },
  {
   "cell_type": "code",
   "execution_count": 62,
   "id": "de6eeb10",
   "metadata": {},
   "outputs": [
    {
     "name": "stdout",
     "output_type": "stream",
     "text": [
      "<__main__.Toplanti_Katilimcisi object at 0x0000022CA5707AF0>\n",
      "<__main__.Toplanti_Katilimcisi object at 0x0000022CA5707730>\n",
      "Ali ile Ahmet tokalaşıyor.\n"
     ]
    }
   ],
   "source": [
    "# Katilimciler birbiri ile etkileşime girsin\n",
    "\n",
    "katilimci_1.tokalas(katilimci_2)"
   ]
  },
  {
   "cell_type": "code",
   "execution_count": 52,
   "id": "58f973b3",
   "metadata": {},
   "outputs": [
    {
     "name": "stdout",
     "output_type": "stream",
     "text": [
      "Ali kendisi ile tokalaşmaya çalıştı.\n"
     ]
    }
   ],
   "source": [
    "# Bir nesne kendisi ile etkileşime girmek isterse...\n",
    "\n",
    "katilimci_1.tokalas(katilimci_1)"
   ]
  },
  {
   "cell_type": "markdown",
   "id": "6c5b03a3",
   "metadata": {},
   "source": [
    "**self** anahtar kelimesi, sınıf nesnesinin kendisini belirtir."
   ]
  },
  {
   "cell_type": "code",
   "execution_count": 65,
   "id": "efd14a61",
   "metadata": {},
   "outputs": [],
   "source": [
    "# \"Kötü\" bir araba sınıfı\n",
    "\n",
    "class Araba:\n",
    "    \"\"\"\n",
    "    Sadece İstanbul'da 4.940.010 adet kayıtlı araç var.\n",
    "    \"\"\"\n",
    "    def __init__(self, marka, model, renk, benzin = 0):\n",
    "        print(f\"__init__ fonksiyonu çalışmaya başladı.\")\n",
    "        print(f\"{marka=}\")\n",
    "        print(f\"{model=}\")\n",
    "        print(f\"{renk=}\")\n",
    "        print(f\"{benzin=}\")\n",
    "        print(f\"__init__ fonksiyonu tamamlandı.\")\n",
    "    \n",
    "    def tanit(self):\n",
    "        print(f\"Bu görmüş olduğunuz araç, {renk} renkli bir {marka} {model}\")"
   ]
  },
  {
   "cell_type": "code",
   "execution_count": 66,
   "id": "a85997b6",
   "metadata": {},
   "outputs": [
    {
     "name": "stdout",
     "output_type": "stream",
     "text": [
      "__init__ fonksiyonu çalışmaya başladı.\n",
      "marka='VW'\n",
      "model='Polo'\n",
      "renk='beyaz'\n",
      "benzin=0\n",
      "__init__ fonksiyonu tamamlandı.\n"
     ]
    }
   ],
   "source": [
    "arabam = Araba(\"VW\", \"Polo\", \"beyaz\")"
   ]
  },
  {
   "cell_type": "code",
   "execution_count": 67,
   "id": "74ccb894",
   "metadata": {},
   "outputs": [
    {
     "ename": "AttributeError",
     "evalue": "'Araba' object has no attribute 'marka'",
     "output_type": "error",
     "traceback": [
      "\u001b[1;31m---------------------------------------------------------------------------\u001b[0m",
      "\u001b[1;31mAttributeError\u001b[0m                            Traceback (most recent call last)",
      "\u001b[1;32m~\\AppData\\Local\\Temp/ipykernel_3896/1005824347.py\u001b[0m in \u001b[0;36m<module>\u001b[1;34m\u001b[0m\n\u001b[1;32m----> 1\u001b[1;33m \u001b[0marabam\u001b[0m\u001b[1;33m.\u001b[0m\u001b[0mmarka\u001b[0m\u001b[1;33m\u001b[0m\u001b[1;33m\u001b[0m\u001b[0m\n\u001b[0m",
      "\u001b[1;31mAttributeError\u001b[0m: 'Araba' object has no attribute 'marka'"
     ]
    }
   ],
   "source": [
    "arabam.marka"
   ]
  },
  {
   "cell_type": "code",
   "execution_count": 68,
   "id": "62fa265e",
   "metadata": {},
   "outputs": [
    {
     "ename": "AttributeError",
     "evalue": "'Araba' object has no attribute 'benzin'",
     "output_type": "error",
     "traceback": [
      "\u001b[1;31m---------------------------------------------------------------------------\u001b[0m",
      "\u001b[1;31mAttributeError\u001b[0m                            Traceback (most recent call last)",
      "\u001b[1;32m~\\AppData\\Local\\Temp/ipykernel_3896/3408041285.py\u001b[0m in \u001b[0;36m<module>\u001b[1;34m\u001b[0m\n\u001b[1;32m----> 1\u001b[1;33m \u001b[0marabam\u001b[0m\u001b[1;33m.\u001b[0m\u001b[0mbenzin\u001b[0m\u001b[1;33m\u001b[0m\u001b[1;33m\u001b[0m\u001b[0m\n\u001b[0m",
      "\u001b[1;31mAttributeError\u001b[0m: 'Araba' object has no attribute 'benzin'"
     ]
    }
   ],
   "source": [
    "arabam.benzin"
   ]
  },
  {
   "cell_type": "code",
   "execution_count": 69,
   "id": "d7770efe",
   "metadata": {
    "scrolled": true
   },
   "outputs": [
    {
     "ename": "NameError",
     "evalue": "name 'renk' is not defined",
     "output_type": "error",
     "traceback": [
      "\u001b[1;31m---------------------------------------------------------------------------\u001b[0m",
      "\u001b[1;31mNameError\u001b[0m                                 Traceback (most recent call last)",
      "\u001b[1;32m~\\AppData\\Local\\Temp/ipykernel_3896/1588334995.py\u001b[0m in \u001b[0;36m<module>\u001b[1;34m\u001b[0m\n\u001b[1;32m----> 1\u001b[1;33m \u001b[0marabam\u001b[0m\u001b[1;33m.\u001b[0m\u001b[0mtanit\u001b[0m\u001b[1;33m(\u001b[0m\u001b[1;33m)\u001b[0m\u001b[1;33m\u001b[0m\u001b[1;33m\u001b[0m\u001b[0m\n\u001b[0m",
      "\u001b[1;32m~\\AppData\\Local\\Temp/ipykernel_3896/3273117057.py\u001b[0m in \u001b[0;36mtanit\u001b[1;34m(self)\u001b[0m\n\u001b[0;32m     14\u001b[0m \u001b[1;33m\u001b[0m\u001b[0m\n\u001b[0;32m     15\u001b[0m     \u001b[1;32mdef\u001b[0m \u001b[0mtanit\u001b[0m\u001b[1;33m(\u001b[0m\u001b[0mself\u001b[0m\u001b[1;33m)\u001b[0m\u001b[1;33m:\u001b[0m\u001b[1;33m\u001b[0m\u001b[1;33m\u001b[0m\u001b[0m\n\u001b[1;32m---> 16\u001b[1;33m         \u001b[0mprint\u001b[0m\u001b[1;33m(\u001b[0m\u001b[1;34mf\"Bu görmüş olduğunuz araç, {renk} renkli bir {marka} {model}\"\u001b[0m\u001b[1;33m)\u001b[0m\u001b[1;33m\u001b[0m\u001b[1;33m\u001b[0m\u001b[0m\n\u001b[0m",
      "\u001b[1;31mNameError\u001b[0m: name 'renk' is not defined"
     ]
    }
   ],
   "source": [
    "arabam.tanit()"
   ]
  },
  {
   "cell_type": "code",
   "execution_count": 71,
   "id": "d14ba31d",
   "metadata": {},
   "outputs": [],
   "source": [
    "# \"İyi\" bir araba sınıfı\n",
    "\n",
    "class Araba_2:\n",
    "    def __init__(self, marka, model, renk, benzin = 0):\n",
    "        self.marka  = marka\n",
    "        self.model  = model\n",
    "        self.renk   = renk\n",
    "        self.benzin = benzin\n",
    "        \n",
    "    def tanit(self):\n",
    "        print(f\"Bu görmüş olduğunuz araç, {self.renk} renkli bir {self.marka} {self.model}\")\n",
    "        \n",
    "    def doldur(self, eklenen_miktar):\n",
    "        self.benzin += eklenen_miktar\n",
    "        \n",
    "    def boyat(self, yeni_renk):\n",
    "        self.renk = yeni_renk\n",
    "        self.tanit()"
   ]
  },
  {
   "cell_type": "code",
   "execution_count": 72,
   "id": "3df6cdf2",
   "metadata": {},
   "outputs": [],
   "source": [
    "yeni_arabam = Araba_2(\"Tesla\", \"Model-S\", \"kırmızı\")"
   ]
  },
  {
   "cell_type": "code",
   "execution_count": 73,
   "id": "35ad5e27",
   "metadata": {},
   "outputs": [
    {
     "name": "stdout",
     "output_type": "stream",
     "text": [
      "Bu görmüş olduğunuz araç, kırmızı renkli bir Tesla Model-S\n"
     ]
    }
   ],
   "source": [
    "yeni_arabam.tanit()"
   ]
  },
  {
   "cell_type": "code",
   "execution_count": 74,
   "id": "6aa0eb9f",
   "metadata": {},
   "outputs": [
    {
     "data": {
      "text/plain": [
       "0"
      ]
     },
     "execution_count": 74,
     "metadata": {},
     "output_type": "execute_result"
    }
   ],
   "source": [
    "yeni_arabam.benzin"
   ]
  },
  {
   "cell_type": "code",
   "execution_count": 75,
   "id": "f6f34cf3",
   "metadata": {},
   "outputs": [],
   "source": [
    "yeni_arabam.doldur(15)"
   ]
  },
  {
   "cell_type": "code",
   "execution_count": 76,
   "id": "29ded56c",
   "metadata": {
    "scrolled": true
   },
   "outputs": [
    {
     "data": {
      "text/plain": [
       "15"
      ]
     },
     "execution_count": 76,
     "metadata": {},
     "output_type": "execute_result"
    }
   ],
   "source": [
    "yeni_arabam.benzin"
   ]
  },
  {
   "cell_type": "code",
   "execution_count": 77,
   "id": "ee31c44d",
   "metadata": {},
   "outputs": [
    {
     "name": "stdout",
     "output_type": "stream",
     "text": [
      "Bu görmüş olduğunuz araç, simli mor renkli bir Tesla Model-S\n"
     ]
    }
   ],
   "source": [
    "yeni_arabam.boyat(\"simli mor\")"
   ]
  },
  {
   "cell_type": "markdown",
   "id": "d244151a",
   "metadata": {},
   "source": [
    "#### Sınıf objelerine sonradan değişken eklenebilir"
   ]
  },
  {
   "cell_type": "code",
   "execution_count": 78,
   "id": "532b955f",
   "metadata": {},
   "outputs": [],
   "source": [
    "class Bilgisayar:\n",
    "    def __init__(self, marka):\n",
    "        self.marka  = marka\n",
    "        \n",
    "    def virus_girdi(self):\n",
    "        self.viruslu = True\n",
    "        \n",
    "    def virusleri_temizle(self):\n",
    "        self.viruslu = False\n",
    "        \n",
    "    def raporla_1(self):\n",
    "        if self.viruslu:\n",
    "            print(\"Format Atmak Lazım\")\n",
    "        else:\n",
    "            print(\"Sapasağlam!\")\n",
    "        \n",
    "    def raporla_2(self):\n",
    "        if hasattr(self, \"viruslu\"):\n",
    "            print(\"Format Atmak Lazım\")\n",
    "        else:\n",
    "            print(\"Sapasağlam!\")"
   ]
  },
  {
   "cell_type": "code",
   "execution_count": 79,
   "id": "0d2dcdbf",
   "metadata": {},
   "outputs": [],
   "source": [
    "bilgisayarim = Bilgisayar(\"Lenovo\")"
   ]
  },
  {
   "cell_type": "code",
   "execution_count": 80,
   "id": "255b72fd",
   "metadata": {
    "scrolled": true
   },
   "outputs": [
    {
     "ename": "AttributeError",
     "evalue": "'Bilgisayar' object has no attribute 'viruslu'",
     "output_type": "error",
     "traceback": [
      "\u001b[1;31m---------------------------------------------------------------------------\u001b[0m",
      "\u001b[1;31mAttributeError\u001b[0m                            Traceback (most recent call last)",
      "\u001b[1;32m~\\AppData\\Local\\Temp/ipykernel_3896/2501992719.py\u001b[0m in \u001b[0;36m<module>\u001b[1;34m\u001b[0m\n\u001b[1;32m----> 1\u001b[1;33m \u001b[0mbilgisayarim\u001b[0m\u001b[1;33m.\u001b[0m\u001b[0mviruslu\u001b[0m\u001b[1;33m\u001b[0m\u001b[1;33m\u001b[0m\u001b[0m\n\u001b[0m",
      "\u001b[1;31mAttributeError\u001b[0m: 'Bilgisayar' object has no attribute 'viruslu'"
     ]
    }
   ],
   "source": [
    "bilgisayarim.viruslu"
   ]
  },
  {
   "cell_type": "code",
   "execution_count": 81,
   "id": "4520f8ce",
   "metadata": {},
   "outputs": [
    {
     "ename": "AttributeError",
     "evalue": "'Bilgisayar' object has no attribute 'viruslu'",
     "output_type": "error",
     "traceback": [
      "\u001b[1;31m---------------------------------------------------------------------------\u001b[0m",
      "\u001b[1;31mAttributeError\u001b[0m                            Traceback (most recent call last)",
      "\u001b[1;32m~\\AppData\\Local\\Temp/ipykernel_3896/3743807075.py\u001b[0m in \u001b[0;36m<module>\u001b[1;34m\u001b[0m\n\u001b[1;32m----> 1\u001b[1;33m \u001b[0mbilgisayarim\u001b[0m\u001b[1;33m.\u001b[0m\u001b[0mraporla_1\u001b[0m\u001b[1;33m(\u001b[0m\u001b[1;33m)\u001b[0m\u001b[1;33m\u001b[0m\u001b[1;33m\u001b[0m\u001b[0m\n\u001b[0m",
      "\u001b[1;32m~\\AppData\\Local\\Temp/ipykernel_3896/1179786162.py\u001b[0m in \u001b[0;36mraporla_1\u001b[1;34m(self)\u001b[0m\n\u001b[0;32m     10\u001b[0m \u001b[1;33m\u001b[0m\u001b[0m\n\u001b[0;32m     11\u001b[0m     \u001b[1;32mdef\u001b[0m \u001b[0mraporla_1\u001b[0m\u001b[1;33m(\u001b[0m\u001b[0mself\u001b[0m\u001b[1;33m)\u001b[0m\u001b[1;33m:\u001b[0m\u001b[1;33m\u001b[0m\u001b[1;33m\u001b[0m\u001b[0m\n\u001b[1;32m---> 12\u001b[1;33m         \u001b[1;32mif\u001b[0m \u001b[0mself\u001b[0m\u001b[1;33m.\u001b[0m\u001b[0mviruslu\u001b[0m\u001b[1;33m:\u001b[0m\u001b[1;33m\u001b[0m\u001b[1;33m\u001b[0m\u001b[0m\n\u001b[0m\u001b[0;32m     13\u001b[0m             \u001b[0mprint\u001b[0m\u001b[1;33m(\u001b[0m\u001b[1;34m\"Format Atmak Lazım\"\u001b[0m\u001b[1;33m)\u001b[0m\u001b[1;33m\u001b[0m\u001b[1;33m\u001b[0m\u001b[0m\n\u001b[0;32m     14\u001b[0m         \u001b[1;32melse\u001b[0m\u001b[1;33m:\u001b[0m\u001b[1;33m\u001b[0m\u001b[1;33m\u001b[0m\u001b[0m\n",
      "\u001b[1;31mAttributeError\u001b[0m: 'Bilgisayar' object has no attribute 'viruslu'"
     ]
    }
   ],
   "source": [
    "bilgisayarim.raporla_1()"
   ]
  },
  {
   "cell_type": "code",
   "execution_count": 82,
   "id": "c8608baf",
   "metadata": {},
   "outputs": [
    {
     "name": "stdout",
     "output_type": "stream",
     "text": [
      "Sapasağlam!\n"
     ]
    }
   ],
   "source": [
    "bilgisayarim.raporla_2()"
   ]
  },
  {
   "cell_type": "code",
   "execution_count": 83,
   "id": "051bac10",
   "metadata": {},
   "outputs": [],
   "source": [
    "bilgisayarim.virus_girdi()"
   ]
  },
  {
   "cell_type": "code",
   "execution_count": 84,
   "id": "6cebcd67",
   "metadata": {},
   "outputs": [
    {
     "data": {
      "text/plain": [
       "True"
      ]
     },
     "execution_count": 84,
     "metadata": {},
     "output_type": "execute_result"
    }
   ],
   "source": [
    "bilgisayarim.viruslu"
   ]
  },
  {
   "cell_type": "code",
   "execution_count": 85,
   "id": "4b6c7d01",
   "metadata": {},
   "outputs": [
    {
     "name": "stdout",
     "output_type": "stream",
     "text": [
      "Format Atmak Lazım\n"
     ]
    }
   ],
   "source": [
    "bilgisayarim.raporla_2()"
   ]
  },
  {
   "cell_type": "code",
   "execution_count": 86,
   "id": "fbeb3c52",
   "metadata": {},
   "outputs": [],
   "source": [
    "bilgisayarim.virusleri_temizle()"
   ]
  },
  {
   "cell_type": "code",
   "execution_count": 87,
   "id": "862ca924",
   "metadata": {},
   "outputs": [
    {
     "data": {
      "text/plain": [
       "False"
      ]
     },
     "execution_count": 87,
     "metadata": {},
     "output_type": "execute_result"
    }
   ],
   "source": [
    "bilgisayarim.viruslu"
   ]
  },
  {
   "cell_type": "code",
   "execution_count": 88,
   "id": "1031f6ce",
   "metadata": {},
   "outputs": [
    {
     "name": "stdout",
     "output_type": "stream",
     "text": [
      "Sapasağlam!\n"
     ]
    }
   ],
   "source": [
    "bilgisayarim.raporla_1()"
   ]
  },
  {
   "cell_type": "code",
   "execution_count": 89,
   "id": "d5b91cbe",
   "metadata": {},
   "outputs": [
    {
     "name": "stdout",
     "output_type": "stream",
     "text": [
      "Format Atmak Lazım\n"
     ]
    }
   ],
   "source": [
    "bilgisayarim.raporla_2()"
   ]
  },
  {
   "cell_type": "markdown",
   "id": "57c33456",
   "metadata": {},
   "source": [
    "#### Yukarıda anlatılan durum kullanışlı olduğu zamanlarda olduğu gibi zararlı olduğu zamanlar da vardır, Dikkat Edilmeli !!!"
   ]
  },
  {
   "cell_type": "code",
   "execution_count": 90,
   "id": "ce7857a4",
   "metadata": {},
   "outputs": [],
   "source": [
    "class Corap:\n",
    "    def __init__(self, renk, islak):\n",
    "        self.renk  = renk\n",
    "        self.islak = islak\n",
    "    def giyilir_mi(self):\n",
    "        if not self.islak:\n",
    "            print(\"Giyilir\")\n",
    "        else:\n",
    "            print(\"Giyilmez\")\n",
    "    def yika(self):\n",
    "        self.isIak = True"
   ]
  },
  {
   "cell_type": "code",
   "execution_count": 91,
   "id": "382eb34c",
   "metadata": {},
   "outputs": [],
   "source": [
    "cekmecedeki_corabim = Corap(\"beyaz\", False)"
   ]
  },
  {
   "cell_type": "code",
   "execution_count": 92,
   "id": "0a05f39c",
   "metadata": {},
   "outputs": [
    {
     "name": "stdout",
     "output_type": "stream",
     "text": [
      "Giyilir\n"
     ]
    }
   ],
   "source": [
    "cekmecedeki_corabim.giyilir_mi()"
   ]
  },
  {
   "cell_type": "code",
   "execution_count": 93,
   "id": "354486a7",
   "metadata": {},
   "outputs": [],
   "source": [
    "cekmecedeki_corabim.yika()"
   ]
  },
  {
   "cell_type": "code",
   "execution_count": 94,
   "id": "9edd733d",
   "metadata": {},
   "outputs": [
    {
     "name": "stdout",
     "output_type": "stream",
     "text": [
      "Giyilir\n"
     ]
    }
   ],
   "source": [
    "cekmecedeki_corabim.giyilir_mi()"
   ]
  },
  {
   "cell_type": "code",
   "execution_count": 95,
   "id": "2e39b6ae",
   "metadata": {},
   "outputs": [
    {
     "data": {
      "text/plain": [
       "['__class__',\n",
       " '__delattr__',\n",
       " '__dict__',\n",
       " '__dir__',\n",
       " '__doc__',\n",
       " '__eq__',\n",
       " '__format__',\n",
       " '__ge__',\n",
       " '__getattribute__',\n",
       " '__gt__',\n",
       " '__hash__',\n",
       " '__init__',\n",
       " '__init_subclass__',\n",
       " '__le__',\n",
       " '__lt__',\n",
       " '__module__',\n",
       " '__ne__',\n",
       " '__new__',\n",
       " '__reduce__',\n",
       " '__reduce_ex__',\n",
       " '__repr__',\n",
       " '__setattr__',\n",
       " '__sizeof__',\n",
       " '__str__',\n",
       " '__subclasshook__',\n",
       " '__weakref__',\n",
       " 'giyilir_mi',\n",
       " 'isIak',\n",
       " 'islak',\n",
       " 'renk',\n",
       " 'yika']"
      ]
     },
     "execution_count": 95,
     "metadata": {},
     "output_type": "execute_result"
    }
   ],
   "source": [
    "dir(cekmecedeki_corabim)"
   ]
  },
  {
   "cell_type": "markdown",
   "id": "4a818b2f",
   "metadata": {},
   "source": [
    "#### Bu durumu engellemenin yolları vardır ama bu dersin konusu değil !"
   ]
  },
  {
   "cell_type": "markdown",
   "id": "7e40f63c",
   "metadata": {},
   "source": [
    "#### Fonksiyonlarda olduğu gibi metodlara da \"default argument\" tanımlanabilir"
   ]
  },
  {
   "cell_type": "code",
   "execution_count": 96,
   "id": "b358d3b1",
   "metadata": {},
   "outputs": [],
   "source": [
    "class Indirim_Karti:\n",
    "    def __init__(self, marka, indirim_orani = 10):\n",
    "        self.marka = marka\n",
    "        self.indirim_orani = indirim_orani\n",
    "    def kart_bilgisi_goster(self):\n",
    "        print(f\"Bu kart ile {self.marka} markalı ürünlerde {self.indirim_orani}% indirim seni bekliyor!\")"
   ]
  },
  {
   "cell_type": "code",
   "execution_count": 97,
   "id": "aee04b19",
   "metadata": {},
   "outputs": [
    {
     "name": "stdout",
     "output_type": "stream",
     "text": [
      "Bu kart ile Zara markalı ürünlerde 10% indirim seni bekliyor!\n"
     ]
    }
   ],
   "source": [
    "Indirim_Karti(\"Zara\").kart_bilgisi_goster()"
   ]
  },
  {
   "cell_type": "code",
   "execution_count": 98,
   "id": "5793d702",
   "metadata": {},
   "outputs": [
    {
     "name": "stdout",
     "output_type": "stream",
     "text": [
      "Bu kart ile Teknosa markalı ürünlerde 15% indirim seni bekliyor!\n"
     ]
    }
   ],
   "source": [
    "Indirim_Karti(\"Teknosa\", 15).kart_bilgisi_goster()"
   ]
  },
  {
   "cell_type": "markdown",
   "id": "63a5f4a7",
   "metadata": {},
   "source": [
    "# Kalıtım (Inheretence) Nedir?"
   ]
  },
  {
   "cell_type": "markdown",
   "id": "bdc05999",
   "metadata": {},
   "source": [
    "#### Bir sınıf başka bir sınıftan türetilebilir, özellikleri miras alınabilir."
   ]
  },
  {
   "cell_type": "code",
   "execution_count": 99,
   "id": "dae19fe9",
   "metadata": {},
   "outputs": [],
   "source": [
    "# super-class\n",
    "class Insan:\n",
    "    def __init__(self, isim, boy):\n",
    "        print(\"Insan sınıfının üreticisi çalışmaya başladı\")\n",
    "        self.isim = isim\n",
    "        self.boy  = boy\n",
    "        \n",
    "    def tanit(self):\n",
    "        print(\"Insan sınıfının tanıt motodu başladı\")\n",
    "        print(f\"{self.isim=}\")\n",
    "        print(f\"{self.boy=}\")\n",
    "    \n",
    "# sub-class\n",
    "class Calisan(Insan):\n",
    "    def __init__(self,isim, boy, maas):\n",
    "        print(\"Calisan Sınıfının Üreticisi Çalışmaya Başladı\")\n",
    "        self.isim = isim\n",
    "        self.boy  = boy\n",
    "        self.maas = maas\n",
    "        \n",
    "    def maasini_soyle(self):\n",
    "        print(\"Calisan sınıfının maasini_soyle motodu başladı\")\n",
    "        print(f\"{self.maas=}\")\n",
    "        \n",
    "    def ayrintili_tanit(self):\n",
    "        self.tanit()\n",
    "        self.maasini_soyle()"
   ]
  },
  {
   "cell_type": "code",
   "execution_count": 100,
   "id": "707dca58",
   "metadata": {},
   "outputs": [
    {
     "name": "stdout",
     "output_type": "stream",
     "text": [
      "Insan sınıfının üreticisi çalışmaya başladı\n"
     ]
    }
   ],
   "source": [
    "insan_objesi = Insan(\"Murat Uzun\", 150)"
   ]
  },
  {
   "cell_type": "code",
   "execution_count": 101,
   "id": "e06d42ec",
   "metadata": {},
   "outputs": [
    {
     "name": "stdout",
     "output_type": "stream",
     "text": [
      "Insan sınıfının tanıt motodu başladı\n",
      "self.isim='Murat Uzun'\n",
      "self.boy=150\n"
     ]
    }
   ],
   "source": [
    "insan_objesi.tanit()"
   ]
  },
  {
   "cell_type": "code",
   "execution_count": 102,
   "id": "9aced02f",
   "metadata": {},
   "outputs": [
    {
     "name": "stdout",
     "output_type": "stream",
     "text": [
      "Calisan Sınıfının Üreticisi Çalışmaya Başladı\n"
     ]
    }
   ],
   "source": [
    "calisan_objesi = Calisan(\"Umut Fakir\", 181, 200_000)"
   ]
  },
  {
   "cell_type": "code",
   "execution_count": 103,
   "id": "38a641a1",
   "metadata": {},
   "outputs": [
    {
     "name": "stdout",
     "output_type": "stream",
     "text": [
      "Calisan sınıfının maasini_soyle motodu başladı\n",
      "self.maas=200000\n"
     ]
    }
   ],
   "source": [
    "calisan_objesi.maasini_soyle()"
   ]
  },
  {
   "cell_type": "code",
   "execution_count": 104,
   "id": "679066f8",
   "metadata": {},
   "outputs": [
    {
     "name": "stdout",
     "output_type": "stream",
     "text": [
      "Insan sınıfının tanıt motodu başladı\n",
      "self.isim='Umut Fakir'\n",
      "self.boy=181\n"
     ]
    }
   ],
   "source": [
    "calisan_objesi.tanit()"
   ]
  },
  {
   "cell_type": "code",
   "execution_count": 105,
   "id": "1c99824e",
   "metadata": {},
   "outputs": [
    {
     "name": "stdout",
     "output_type": "stream",
     "text": [
      "Insan sınıfının tanıt motodu başladı\n",
      "self.isim='Umut Fakir'\n",
      "self.boy=181\n",
      "Calisan sınıfının maasini_soyle motodu başladı\n",
      "self.maas=200000\n"
     ]
    }
   ],
   "source": [
    "calisan_objesi.ayrintili_tanit()"
   ]
  },
  {
   "cell_type": "code",
   "execution_count": 106,
   "id": "85aed808",
   "metadata": {},
   "outputs": [
    {
     "ename": "AttributeError",
     "evalue": "'Insan' object has no attribute 'ayrintili_tanit'",
     "output_type": "error",
     "traceback": [
      "\u001b[1;31m---------------------------------------------------------------------------\u001b[0m",
      "\u001b[1;31mAttributeError\u001b[0m                            Traceback (most recent call last)",
      "\u001b[1;32m~\\AppData\\Local\\Temp/ipykernel_3896/1058834796.py\u001b[0m in \u001b[0;36m<module>\u001b[1;34m\u001b[0m\n\u001b[1;32m----> 1\u001b[1;33m \u001b[0minsan_objesi\u001b[0m\u001b[1;33m.\u001b[0m\u001b[0mayrintili_tanit\u001b[0m\u001b[1;33m(\u001b[0m\u001b[1;33m)\u001b[0m\u001b[1;33m\u001b[0m\u001b[1;33m\u001b[0m\u001b[0m\n\u001b[0m",
      "\u001b[1;31mAttributeError\u001b[0m: 'Insan' object has no attribute 'ayrintili_tanit'"
     ]
    }
   ],
   "source": [
    "insan_objesi.ayrintili_tanit()"
   ]
  },
  {
   "cell_type": "markdown",
   "id": "60ded342",
   "metadata": {},
   "source": [
    "#### Kalıtım ile üretilen bir sınıf, başka bir sınıfın üreticisi olabilir. (Multi-Level Inheretance)"
   ]
  },
  {
   "cell_type": "code",
   "execution_count": 108,
   "id": "c73d747f",
   "metadata": {},
   "outputs": [],
   "source": [
    "class Kadin:\n",
    "    def __init__(self):\n",
    "        pass\n",
    "    \n",
    "    def tanit(self):\n",
    "        print(\"Ben bir kadınım\")\n",
    "    \n",
    "class Anne(Kadin):\n",
    "    def __init__(self):\n",
    "        pass\n",
    "    \n",
    "    def cocuk_sev(self):\n",
    "        print(\"Çocuğumu Çok Seviyorum\")\n",
    "    \n",
    "class Anneanne(Anne):\n",
    "    def __init__(self):\n",
    "        pass\n",
    "    \n",
    "    def torun_sev(self):\n",
    "        print(\"Torunumu Daha Çok Seviyorum\")"
   ]
  },
  {
   "cell_type": "code",
   "execution_count": 109,
   "id": "9f0683b3",
   "metadata": {},
   "outputs": [],
   "source": [
    "anneanne_objesi = Anneanne()"
   ]
  },
  {
   "cell_type": "code",
   "execution_count": 110,
   "id": "b93e51a3",
   "metadata": {},
   "outputs": [
    {
     "name": "stdout",
     "output_type": "stream",
     "text": [
      "Ben bir kadınım\n"
     ]
    }
   ],
   "source": [
    "anneanne_objesi.tanit()"
   ]
  },
  {
   "cell_type": "code",
   "execution_count": 111,
   "id": "001497d8",
   "metadata": {},
   "outputs": [
    {
     "name": "stdout",
     "output_type": "stream",
     "text": [
      "Çocuğumu Çok Seviyorum\n"
     ]
    }
   ],
   "source": [
    "anneanne_objesi.cocuk_sev()"
   ]
  },
  {
   "cell_type": "code",
   "execution_count": 112,
   "id": "8a88cf8f",
   "metadata": {},
   "outputs": [
    {
     "name": "stdout",
     "output_type": "stream",
     "text": [
      "Torunumu Daha Çok Seviyorum\n"
     ]
    }
   ],
   "source": [
    "anneanne_objesi.torun_sev()"
   ]
  },
  {
   "cell_type": "code",
   "execution_count": 113,
   "id": "6ad6dec3",
   "metadata": {},
   "outputs": [],
   "source": [
    "anne_objesi = Anne()"
   ]
  },
  {
   "cell_type": "code",
   "execution_count": 114,
   "id": "e9509648",
   "metadata": {
    "scrolled": true
   },
   "outputs": [
    {
     "ename": "AttributeError",
     "evalue": "'Anne' object has no attribute 'torun_sev'",
     "output_type": "error",
     "traceback": [
      "\u001b[1;31m---------------------------------------------------------------------------\u001b[0m",
      "\u001b[1;31mAttributeError\u001b[0m                            Traceback (most recent call last)",
      "\u001b[1;32m~\\AppData\\Local\\Temp/ipykernel_3896/2558054198.py\u001b[0m in \u001b[0;36m<module>\u001b[1;34m\u001b[0m\n\u001b[1;32m----> 1\u001b[1;33m \u001b[0manne_objesi\u001b[0m\u001b[1;33m.\u001b[0m\u001b[0mtorun_sev\u001b[0m\u001b[1;33m(\u001b[0m\u001b[1;33m)\u001b[0m\u001b[1;33m\u001b[0m\u001b[1;33m\u001b[0m\u001b[0m\n\u001b[0m",
      "\u001b[1;31mAttributeError\u001b[0m: 'Anne' object has no attribute 'torun_sev'"
     ]
    }
   ],
   "source": [
    "anne_objesi.torun_sev()"
   ]
  },
  {
   "cell_type": "markdown",
   "id": "c9529437",
   "metadata": {},
   "source": [
    "#### Bir sınıf birden çok super-class ile oluşturulabilir. (Multiple Inheretance)"
   ]
  },
  {
   "cell_type": "code",
   "execution_count": 115,
   "id": "5159dd76",
   "metadata": {},
   "outputs": [],
   "source": [
    "class Memeli:\n",
    "    def __init__(self):\n",
    "        pass\n",
    "    \n",
    "    def besle(self):\n",
    "        print(\"Yavrularimi süt ile beslerim\")\n",
    "        \n",
    "class Kanatli_Hayvan:\n",
    "    def __init__(self):\n",
    "        pass\n",
    "    \n",
    "    def uc(self):\n",
    "        print(\"Uçabiliyorum\")\n",
    "        \n",
    "class Yarasa(Memeli, Kanatli_Hayvan):\n",
    "    def __init__(self):\n",
    "        print(\"Ben Bir Yarasayim\")\n",
    "        self.besle()\n",
    "        self.uc()"
   ]
  },
  {
   "cell_type": "code",
   "execution_count": 116,
   "id": "79966556",
   "metadata": {},
   "outputs": [
    {
     "name": "stdout",
     "output_type": "stream",
     "text": [
      "Ben Bir Yarasayim\n",
      "Yavrularimi süt ile beslerim\n",
      "Uçabiliyorum\n"
     ]
    }
   ],
   "source": [
    "yarasa_objesi = Yarasa()"
   ]
  },
  {
   "cell_type": "markdown",
   "id": "a1bc55a9",
   "metadata": {},
   "source": [
    "#### super() nedir?"
   ]
  },
  {
   "cell_type": "code",
   "execution_count": 118,
   "id": "430b4fa4",
   "metadata": {},
   "outputs": [],
   "source": [
    "class Cokgen:\n",
    "    def __init__(self,kose_sayisi, *kenar_uzunlugu):\n",
    "        print(\"Çokgen Üreticisi Çalıştı\")\n",
    "        self.kose_sayisi = kose_sayisi\n",
    "        \n",
    "        self.kenar_uzunlugu_liste = []\n",
    "        \n",
    "        for k_u in kenar_uzunlugu:\n",
    "            self.kenar_uzunlugu_liste.append(k_u)\n",
    "            \n",
    "    def tanit(self):\n",
    "        print(f\"{self.kose_sayisi=}\")\n",
    "        print(f\"{self.kenar_uzunlugu_liste=}\")\n",
    "        \n",
    "    def cevre_hesapla(self):\n",
    "        return sum(self.kenar_uzunlugu_liste)\n",
    "        \n",
    "class Ucgen(Cokgen):\n",
    "    def __init__(self,kose_1, kose_2, kose_3):\n",
    "        Cokgen.__init__(self, 3, kose_1, kose_2, kose_3)"
   ]
  },
  {
   "cell_type": "code",
   "execution_count": 119,
   "id": "7be4497f",
   "metadata": {},
   "outputs": [
    {
     "name": "stdout",
     "output_type": "stream",
     "text": [
      "Çokgen Üreticisi Çalıştı\n"
     ]
    }
   ],
   "source": [
    "ucgen_objesi = Ucgen(5,6,7)"
   ]
  },
  {
   "cell_type": "code",
   "execution_count": 120,
   "id": "7fd47ea8",
   "metadata": {},
   "outputs": [
    {
     "name": "stdout",
     "output_type": "stream",
     "text": [
      "self.kose_sayisi=3\n",
      "self.kenar_uzunlugu_liste=[5, 6, 7]\n"
     ]
    }
   ],
   "source": [
    "ucgen_objesi.tanit()"
   ]
  },
  {
   "cell_type": "code",
   "execution_count": 121,
   "id": "1e31e0b7",
   "metadata": {},
   "outputs": [
    {
     "data": {
      "text/plain": [
       "18"
      ]
     },
     "execution_count": 121,
     "metadata": {},
     "output_type": "execute_result"
    }
   ],
   "source": [
    "ucgen_objesi.cevre_hesapla()"
   ]
  },
  {
   "cell_type": "markdown",
   "id": "1294b2d8",
   "metadata": {},
   "source": [
    "#### Dikkat : super() kullanıyorsak self kullanmıyoruz"
   ]
  },
  {
   "cell_type": "code",
   "execution_count": 122,
   "id": "e987639a",
   "metadata": {},
   "outputs": [],
   "source": [
    "class Kare(Cokgen):\n",
    "    def __init__(self,kenar_uzunlugu):\n",
    "        super().__init__(4, kenar_uzunlugu, kenar_uzunlugu, kenar_uzunlugu, kenar_uzunlugu)"
   ]
  },
  {
   "cell_type": "code",
   "execution_count": 123,
   "id": "2c9409e2",
   "metadata": {},
   "outputs": [
    {
     "name": "stdout",
     "output_type": "stream",
     "text": [
      "Çokgen Üreticisi Çalıştı\n"
     ]
    }
   ],
   "source": [
    "kare_objesi = Kare(10)"
   ]
  },
  {
   "cell_type": "code",
   "execution_count": 124,
   "id": "db3e89a2",
   "metadata": {},
   "outputs": [
    {
     "name": "stdout",
     "output_type": "stream",
     "text": [
      "self.kose_sayisi=4\n",
      "self.kenar_uzunlugu_liste=[10, 10, 10, 10]\n"
     ]
    }
   ],
   "source": [
    "kare_objesi.tanit()"
   ]
  },
  {
   "cell_type": "code",
   "execution_count": 125,
   "id": "1a734d49",
   "metadata": {},
   "outputs": [
    {
     "data": {
      "text/plain": [
       "40"
      ]
     },
     "execution_count": 125,
     "metadata": {},
     "output_type": "execute_result"
    }
   ],
   "source": [
    "kare_objesi.cevre_hesapla()"
   ]
  },
  {
   "cell_type": "markdown",
   "id": "7079426a",
   "metadata": {},
   "source": [
    "#### Multi-Level Inheretance ve super() --> Tahmin Edelim"
   ]
  },
  {
   "cell_type": "code",
   "execution_count": 126,
   "id": "65f305bd",
   "metadata": {},
   "outputs": [],
   "source": [
    "class Kadin:\n",
    "    def __init__(self):\n",
    "        print(\"Ben bir kadınım\")\n",
    "        \n",
    "class Anne(Kadin):\n",
    "    def __init__(self):\n",
    "        super().__init__()\n",
    "        print(\"Çocuğumu Çok Seviyorum\")\n",
    "    \n",
    "class Anneanne(Anne):\n",
    "    def __init__(self):\n",
    "        super().__init__()\n",
    "        print(\"Torunumu Daha Çok Seviyorum\")"
   ]
  },
  {
   "cell_type": "code",
   "execution_count": 127,
   "id": "b23bea8d",
   "metadata": {
    "scrolled": true
   },
   "outputs": [
    {
     "name": "stdout",
     "output_type": "stream",
     "text": [
      "Ben bir kadınım\n",
      "Çocuğumu Çok Seviyorum\n",
      "Torunumu Daha Çok Seviyorum\n"
     ]
    }
   ],
   "source": [
    "anneanne = Anneanne()"
   ]
  },
  {
   "cell_type": "markdown",
   "id": "c785654d",
   "metadata": {},
   "source": [
    "#### Multiple Inheretance ve super() --> Tahmin Edelim"
   ]
  },
  {
   "cell_type": "code",
   "execution_count": 129,
   "id": "ac9820db",
   "metadata": {},
   "outputs": [],
   "source": [
    "class Memeli:\n",
    "    def __init__(self):\n",
    "        print(\"Yavrularimi süt ile beslerim\")\n",
    "        \n",
    "class Kanatli_Hayvan:\n",
    "    def __init__(self):\n",
    "        print(\"Uçabiliyorum\")\n",
    "        \n",
    "class Yarasa(Memeli, Kanatli_Hayvan):\n",
    "    def __init__(self):\n",
    "        super().__init__()\n",
    "        print(\"Ben Bir Yarasayim\")"
   ]
  },
  {
   "cell_type": "code",
   "execution_count": 130,
   "id": "b81bd8cf",
   "metadata": {},
   "outputs": [
    {
     "name": "stdout",
     "output_type": "stream",
     "text": [
      "Yavrularimi süt ile beslerim\n",
      "Ben Bir Yarasayim\n"
     ]
    }
   ],
   "source": [
    "yarasa = Yarasa()"
   ]
  },
  {
   "cell_type": "code",
   "execution_count": 160,
   "id": "d1bd7e57",
   "metadata": {},
   "outputs": [],
   "source": [
    "class Memeli:\n",
    "    def __init__(self):\n",
    "        print(\"Yavrularimi süt ile beslerim\")\n",
    "        super().__init__()\n",
    "\n",
    "        \n",
    "class Kanatli_Hayvan:\n",
    "    def __init__(self):\n",
    "        print(\"Uçabiliyorum\")\n",
    "        super().__init__()\n",
    "\n",
    "class Yarasa(Memeli, Kanatli_Hayvan):\n",
    "    def __init__(self):\n",
    "        super().__init__()\n",
    "        print(\"Ben Bir Yarasayim\")"
   ]
  },
  {
   "cell_type": "code",
   "execution_count": 159,
   "id": "497af98c",
   "metadata": {},
   "outputs": [
    {
     "name": "stdout",
     "output_type": "stream",
     "text": [
      "Yavrularimi süt ile beslerim\n",
      "Hayvanım\n",
      "Ben Bir Yarasayim\n"
     ]
    }
   ],
   "source": [
    "yarasa = Yarasa()"
   ]
  },
  {
   "cell_type": "markdown",
   "id": "6d0ca5d5",
   "metadata": {},
   "source": [
    "#### Metod'lar yeniden yazılabilir (overriding)"
   ]
  },
  {
   "cell_type": "code",
   "execution_count": 161,
   "id": "6294378e",
   "metadata": {},
   "outputs": [],
   "source": [
    "class Hayvan:\n",
    "    def __init__(self):\n",
    "        pass\n",
    "    \n",
    "    def tanit(self):\n",
    "        print(\"Ben bir hayvanım\")\n",
    "        \n",
    "class Kopek(Hayvan):\n",
    "    def __init__(self):\n",
    "        pass\n",
    "    \n",
    "    def tanit(self):\n",
    "        print(\"Ben bir köpeğim\")\n",
    "        \n",
    "    def hayvan_tanit(self):\n",
    "        Hayvan.tanit(self)\n",
    "        \n",
    "    def super_tanit(self):\n",
    "        super().tanit() # self yok!!"
   ]
  },
  {
   "cell_type": "code",
   "execution_count": 162,
   "id": "eca83dce",
   "metadata": {},
   "outputs": [],
   "source": [
    "hayvan_objesi = Hayvan()"
   ]
  },
  {
   "cell_type": "code",
   "execution_count": 163,
   "id": "9d22d33d",
   "metadata": {},
   "outputs": [
    {
     "name": "stdout",
     "output_type": "stream",
     "text": [
      "Ben bir hayvanım\n"
     ]
    }
   ],
   "source": [
    "hayvan_objesi.tanit()"
   ]
  },
  {
   "cell_type": "code",
   "execution_count": 164,
   "id": "8d54eb8a",
   "metadata": {},
   "outputs": [],
   "source": [
    "kopek_objesi = Kopek()"
   ]
  },
  {
   "cell_type": "code",
   "execution_count": 165,
   "id": "7782cef9",
   "metadata": {},
   "outputs": [
    {
     "name": "stdout",
     "output_type": "stream",
     "text": [
      "Ben bir köpeğim\n"
     ]
    }
   ],
   "source": [
    "kopek_objesi.tanit()"
   ]
  },
  {
   "cell_type": "markdown",
   "id": "1e68f099",
   "metadata": {},
   "source": [
    "#### Override edilse bile super'in metodları hala çağırılabilir."
   ]
  },
  {
   "cell_type": "code",
   "execution_count": 168,
   "id": "35b1c952",
   "metadata": {},
   "outputs": [
    {
     "name": "stdout",
     "output_type": "stream",
     "text": [
      "Ben bir hayvanım\n"
     ]
    }
   ],
   "source": [
    "kopek_objesi.hayvan_tanit()"
   ]
  },
  {
   "cell_type": "code",
   "execution_count": 169,
   "id": "5f303e0b",
   "metadata": {},
   "outputs": [
    {
     "name": "stdout",
     "output_type": "stream",
     "text": [
      "Ben bir hayvanım\n"
     ]
    }
   ],
   "source": [
    "kopek_objesi.super_tanit()"
   ]
  },
  {
   "cell_type": "markdown",
   "id": "4d395129",
   "metadata": {},
   "source": [
    "# Özel Metodlar / Dunders Nedir?"
   ]
  },
  {
   "cell_type": "code",
   "execution_count": 170,
   "id": "9de858a7",
   "metadata": {},
   "outputs": [],
   "source": [
    "class Nokta:\n",
    "    def __init__(self,x,y):\n",
    "        self.x = x\n",
    "        self.y = y"
   ]
  },
  {
   "cell_type": "code",
   "execution_count": 171,
   "id": "83d8d320",
   "metadata": {},
   "outputs": [],
   "source": [
    "nokta_1 = Nokta(3,4)\n",
    "nokta_2 = Nokta(6,10)"
   ]
  },
  {
   "cell_type": "code",
   "execution_count": 172,
   "id": "0cfd53bd",
   "metadata": {},
   "outputs": [
    {
     "name": "stdout",
     "output_type": "stream",
     "text": [
      "<__main__.Nokta object at 0x0000022CA5707F40>\n"
     ]
    }
   ],
   "source": [
    "print(nokta_1)"
   ]
  },
  {
   "cell_type": "code",
   "execution_count": 173,
   "id": "d2b5da9a",
   "metadata": {},
   "outputs": [
    {
     "ename": "TypeError",
     "evalue": "unsupported operand type(s) for -: 'Nokta' and 'Nokta'",
     "output_type": "error",
     "traceback": [
      "\u001b[1;31m---------------------------------------------------------------------------\u001b[0m",
      "\u001b[1;31mTypeError\u001b[0m                                 Traceback (most recent call last)",
      "\u001b[1;32m~\\AppData\\Local\\Temp/ipykernel_3896/1566683374.py\u001b[0m in \u001b[0;36m<module>\u001b[1;34m\u001b[0m\n\u001b[1;32m----> 1\u001b[1;33m \u001b[0mnokta_3\u001b[0m \u001b[1;33m=\u001b[0m \u001b[0mnokta_2\u001b[0m \u001b[1;33m-\u001b[0m \u001b[0mnokta_1\u001b[0m\u001b[1;33m\u001b[0m\u001b[1;33m\u001b[0m\u001b[0m\n\u001b[0m",
      "\u001b[1;31mTypeError\u001b[0m: unsupported operand type(s) for -: 'Nokta' and 'Nokta'"
     ]
    }
   ],
   "source": [
    "nokta_3 = nokta_2 - nokta_1 "
   ]
  },
  {
   "cell_type": "code",
   "execution_count": 174,
   "id": "c203740d",
   "metadata": {},
   "outputs": [],
   "source": [
    "class Nokta:\n",
    "    def __init__(self,x,y):\n",
    "        \"\"\"\n",
    "        Bir noktanın tanımı böyle yapılır\n",
    "        \"\"\"\n",
    "        self.x = x\n",
    "        self.y = y\n",
    "        \n",
    "    def __str__(self):\n",
    "        \"\"\"\n",
    "        Bir noktanın böyle açıklanır\n",
    "        \"\"\"\n",
    "        return f\"P({self.x},{self.y})\"\n",
    "    \n",
    "    def __sub__(self, other):\n",
    "        \"\"\"\n",
    "        Bu obje çıkarma işleminde kullanılırsa bu fonksiyon çağırılır\n",
    "        \"\"\"\n",
    "        return Nokta(self.x - other.x, self.y - other.y)"
   ]
  },
  {
   "cell_type": "code",
   "execution_count": 175,
   "id": "28e512ae",
   "metadata": {},
   "outputs": [],
   "source": [
    "nokta_1 = Nokta(3,4)\n",
    "nokta_2 = Nokta(4,10)"
   ]
  },
  {
   "cell_type": "code",
   "execution_count": 176,
   "id": "3a3fdfe6",
   "metadata": {},
   "outputs": [
    {
     "name": "stdout",
     "output_type": "stream",
     "text": [
      "P(3,4)\n"
     ]
    }
   ],
   "source": [
    "print(nokta_1)"
   ]
  },
  {
   "cell_type": "code",
   "execution_count": 177,
   "id": "92d2832b",
   "metadata": {},
   "outputs": [
    {
     "data": {
      "text/plain": [
       "<__main__.Nokta at 0x22ca5701b80>"
      ]
     },
     "execution_count": 177,
     "metadata": {},
     "output_type": "execute_result"
    }
   ],
   "source": [
    "nokta_1"
   ]
  },
  {
   "cell_type": "code",
   "execution_count": 178,
   "id": "7407855f",
   "metadata": {},
   "outputs": [],
   "source": [
    "nokta_3 = nokta_2 - nokta_1 "
   ]
  },
  {
   "cell_type": "code",
   "execution_count": 179,
   "id": "f7d5d79a",
   "metadata": {},
   "outputs": [
    {
     "data": {
      "text/plain": [
       "<__main__.Nokta at 0x22ca5701b20>"
      ]
     },
     "execution_count": 179,
     "metadata": {},
     "output_type": "execute_result"
    }
   ],
   "source": [
    "nokta_3"
   ]
  },
  {
   "cell_type": "code",
   "execution_count": 180,
   "id": "96fa7eef",
   "metadata": {},
   "outputs": [
    {
     "name": "stdout",
     "output_type": "stream",
     "text": [
      "P(1,6)\n"
     ]
    }
   ],
   "source": [
    "print(nokta_3)"
   ]
  },
  {
   "cell_type": "code",
   "execution_count": 181,
   "id": "f43d7fb7",
   "metadata": {},
   "outputs": [],
   "source": [
    "del nokta_3"
   ]
  },
  {
   "cell_type": "markdown",
   "id": "b12ab69d",
   "metadata": {},
   "source": [
    "# \"Everything is an object in Python\""
   ]
  },
  {
   "cell_type": "code",
   "execution_count": 182,
   "id": "6fe766da",
   "metadata": {},
   "outputs": [
    {
     "data": {
      "text/plain": [
       "int"
      ]
     },
     "execution_count": 182,
     "metadata": {},
     "output_type": "execute_result"
    }
   ],
   "source": [
    "type(1)"
   ]
  },
  {
   "cell_type": "code",
   "execution_count": 183,
   "id": "79101d7e",
   "metadata": {},
   "outputs": [
    {
     "data": {
      "text/plain": [
       "type"
      ]
     },
     "execution_count": 183,
     "metadata": {},
     "output_type": "execute_result"
    }
   ],
   "source": [
    "type(int)"
   ]
  },
  {
   "cell_type": "code",
   "execution_count": 184,
   "id": "88836cd8",
   "metadata": {},
   "outputs": [
    {
     "data": {
      "text/plain": [
       "type"
      ]
     },
     "execution_count": 184,
     "metadata": {},
     "output_type": "execute_result"
    }
   ],
   "source": [
    "type(type)"
   ]
  },
  {
   "cell_type": "code",
   "execution_count": 185,
   "id": "a9bc85df",
   "metadata": {
    "scrolled": true
   },
   "outputs": [
    {
     "data": {
      "text/plain": [
       "['__abs__',\n",
       " '__add__',\n",
       " '__and__',\n",
       " '__bool__',\n",
       " '__ceil__',\n",
       " '__class__',\n",
       " '__delattr__',\n",
       " '__dir__',\n",
       " '__divmod__',\n",
       " '__doc__',\n",
       " '__eq__',\n",
       " '__float__',\n",
       " '__floor__',\n",
       " '__floordiv__',\n",
       " '__format__',\n",
       " '__ge__',\n",
       " '__getattribute__',\n",
       " '__getnewargs__',\n",
       " '__gt__',\n",
       " '__hash__',\n",
       " '__index__',\n",
       " '__init__',\n",
       " '__init_subclass__',\n",
       " '__int__',\n",
       " '__invert__',\n",
       " '__le__',\n",
       " '__lshift__',\n",
       " '__lt__',\n",
       " '__mod__',\n",
       " '__mul__',\n",
       " '__ne__',\n",
       " '__neg__',\n",
       " '__new__',\n",
       " '__or__',\n",
       " '__pos__',\n",
       " '__pow__',\n",
       " '__radd__',\n",
       " '__rand__',\n",
       " '__rdivmod__',\n",
       " '__reduce__',\n",
       " '__reduce_ex__',\n",
       " '__repr__',\n",
       " '__rfloordiv__',\n",
       " '__rlshift__',\n",
       " '__rmod__',\n",
       " '__rmul__',\n",
       " '__ror__',\n",
       " '__round__',\n",
       " '__rpow__',\n",
       " '__rrshift__',\n",
       " '__rshift__',\n",
       " '__rsub__',\n",
       " '__rtruediv__',\n",
       " '__rxor__',\n",
       " '__setattr__',\n",
       " '__sizeof__',\n",
       " '__str__',\n",
       " '__sub__',\n",
       " '__subclasshook__',\n",
       " '__truediv__',\n",
       " '__trunc__',\n",
       " '__xor__',\n",
       " 'as_integer_ratio',\n",
       " 'bit_length',\n",
       " 'conjugate',\n",
       " 'denominator',\n",
       " 'from_bytes',\n",
       " 'imag',\n",
       " 'numerator',\n",
       " 'real',\n",
       " 'to_bytes']"
      ]
     },
     "execution_count": 185,
     "metadata": {},
     "output_type": "execute_result"
    }
   ],
   "source": [
    "dir(int)"
   ]
  },
  {
   "cell_type": "code",
   "execution_count": 186,
   "id": "21f17f82",
   "metadata": {
    "scrolled": true
   },
   "outputs": [
    {
     "data": {
      "text/plain": [
       "['__abs__',\n",
       " '__add__',\n",
       " '__and__',\n",
       " '__bool__',\n",
       " '__ceil__',\n",
       " '__class__',\n",
       " '__delattr__',\n",
       " '__dir__',\n",
       " '__divmod__',\n",
       " '__doc__',\n",
       " '__eq__',\n",
       " '__float__',\n",
       " '__floor__',\n",
       " '__floordiv__',\n",
       " '__format__',\n",
       " '__ge__',\n",
       " '__getattribute__',\n",
       " '__getnewargs__',\n",
       " '__gt__',\n",
       " '__hash__',\n",
       " '__index__',\n",
       " '__init__',\n",
       " '__init_subclass__',\n",
       " '__int__',\n",
       " '__invert__',\n",
       " '__le__',\n",
       " '__lshift__',\n",
       " '__lt__',\n",
       " '__mod__',\n",
       " '__mul__',\n",
       " '__ne__',\n",
       " '__neg__',\n",
       " '__new__',\n",
       " '__or__',\n",
       " '__pos__',\n",
       " '__pow__',\n",
       " '__radd__',\n",
       " '__rand__',\n",
       " '__rdivmod__',\n",
       " '__reduce__',\n",
       " '__reduce_ex__',\n",
       " '__repr__',\n",
       " '__rfloordiv__',\n",
       " '__rlshift__',\n",
       " '__rmod__',\n",
       " '__rmul__',\n",
       " '__ror__',\n",
       " '__round__',\n",
       " '__rpow__',\n",
       " '__rrshift__',\n",
       " '__rshift__',\n",
       " '__rsub__',\n",
       " '__rtruediv__',\n",
       " '__rxor__',\n",
       " '__setattr__',\n",
       " '__sizeof__',\n",
       " '__str__',\n",
       " '__sub__',\n",
       " '__subclasshook__',\n",
       " '__truediv__',\n",
       " '__trunc__',\n",
       " '__xor__',\n",
       " 'as_integer_ratio',\n",
       " 'bit_length',\n",
       " 'conjugate',\n",
       " 'denominator',\n",
       " 'from_bytes',\n",
       " 'imag',\n",
       " 'numerator',\n",
       " 'real',\n",
       " 'to_bytes']"
      ]
     },
     "execution_count": 186,
     "metadata": {},
     "output_type": "execute_result"
    }
   ],
   "source": [
    "dir(1)"
   ]
  },
  {
   "cell_type": "code",
   "execution_count": null,
   "id": "15c88463",
   "metadata": {},
   "outputs": [],
   "source": []
  }
 ],
 "metadata": {
  "kernelspec": {
   "display_name": "Python 3 (ipykernel)",
   "language": "python",
   "name": "python3"
  },
  "language_info": {
   "codemirror_mode": {
    "name": "ipython",
    "version": 3
   },
   "file_extension": ".py",
   "mimetype": "text/x-python",
   "name": "python",
   "nbconvert_exporter": "python",
   "pygments_lexer": "ipython3",
   "version": "3.9.7"
  }
 },
 "nbformat": 4,
 "nbformat_minor": 5
}
