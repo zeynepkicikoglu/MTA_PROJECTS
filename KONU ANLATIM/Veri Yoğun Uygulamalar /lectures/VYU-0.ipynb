{
 "cells": [
  {
   "cell_type": "markdown",
   "metadata": {
    "slideshow": {
     "slide_type": "slide"
    },
    "tags": []
   },
   "source": [
    "# Veri Yoğun Uygulamalar\n",
    "\n",
    "Dr. İsmail GÜZEL\n",
    "https://ismailguzel.github.io/\n",
    "\n",
    "\n",
    "TÜBİTAK ULAKBİM  \n",
    "Türk Ulusal Bilim e-Altyapısı (TRUBA)\n",
    "\n",
    "\n",
    "Şubat, 2024"
   ]
  },
  {
   "cell_type": "markdown",
   "metadata": {
    "slideshow": {
     "slide_type": "slide"
    },
    "tags": []
   },
   "source": [
    "# Veri Yoğun Uygulamalar\n",
    "\n",
    "- Veri türleri ve APIs. (Data Types)\n",
    "    - **Görüntü İşleme**\n",
    "    - **Zaman Serisi**\n",
    "- Öznitelik Mühendisliği (Feature Engineering)\n",
    "- Öznitelik Seçme (Feature Selection)\n",
    "- Öğrenme Temelleri (Mathematical Modeling)\n",
    "\n",
    "  - Bayır İnişi (Gradient Descent)\n",
    "  - Doğrusal ve Logaritmik Regresyon (Linear and Logistic Regression)\n",
    "  - Düzenlileştirme (Regularization)\n",
    "\n",
    "- Model Seçme ve Değerlendirme (Model Selection)\n",
    "\n"
   ]
  },
  {
   "cell_type": "markdown",
   "metadata": {
    "slideshow": {
     "slide_type": "slide"
    }
   },
   "source": [
    "# GPU programlama\n",
    "\n",
    "- Python da parallel programlama (uygulama)\n",
    "    - OpenMP ve OPENMPI\n",
    "    - GPU programlama\n",
    "- Derin Öğrenmesi ve GPU\n",
    "    - Yapay sinir ağları\n",
    "    - Pytorch ile GPU kullanımı \n",
    "- Pytorch ile dağıtık öğrenme (DDP and FSDP)\n",
    "    - Model ve Data Paralleştirme\n",
    "- Yüksek Başarımlı Hesaplama (YBH) ve TRUBA\n",
    "    - Süperbilgasayar ve Küme Hesaplama\n",
    "    - Konteyner bazlı calışma"
   ]
  },
  {
   "cell_type": "markdown",
   "metadata": {
    "slideshow": {
     "slide_type": "slide"
    }
   },
   "source": [
    "\n",
    "## Kaynaklar\n",
    "Bu notlar oluşturulurken faydalanılan kaynaklar:\n",
    "- [Atabey Kaygun](https://web.itu.edu.tr/kaygun/), [Introduction to Data Science](https://github.com/kaygun/2023-Fall-381E/tree/main)\n",
    "- [Feature Selection in Machine Learning with Python](https://leanpub.com/feature-selection-in-machine-learning),  [GitHub Repo](https://github.com/solegalli/feature-selection-for-machine-learning/tree/main)\n",
    "- [Python Feature Engineering Cookbook](https://www.amazon.com/Python-Feature-Engineering-Cookbook-transforming-dp-1804611301/dp/1804611301/ref=mt_other?_encoding=UTF8&me=&qid=1664914659)\n",
    "- [Feature Engineering Bookcamp](https://www.amazon.com/Feature-Engineering-Bookcamp-Sinan-Ozdemir/dp/1617299790)\n",
    "- [ChatGPT](https://chat.openai.com/)\n",
    "- [Gemini](https://gemini.google.com/app)\n"
   ]
  },
  {
   "cell_type": "markdown",
   "metadata": {
    "slideshow": {
     "slide_type": "slide"
    }
   },
   "source": [
    "## Araçlar\n",
    "\n",
    "### Python\n",
    "\n",
    "- Popüler açık kaynak programlama dili\n",
    "- Yeni başlayanlar için iyi esnek dil\n",
    "- Endüstri ve araştırmada yaygın olarak kullanılır\n",
    "- Veri analizi için birçok kütüphane \n",
    "  - Pandas \n",
    "  - Numpy, \n",
    "  - Scikit-Learn vb."
   ]
  },
  {
   "cell_type": "markdown",
   "metadata": {
    "slideshow": {
     "slide_type": "subslide"
    }
   },
   "source": [
    "### Jupyter Notebooks\n",
    "\n",
    "Not defterleri, verilerin tutarlı bir anlatımi ve analizini oluşturmak için idealdir, çünkü\n",
    "\n",
    "- İnteraktif\n",
    "- Çok yönlü (birçok dil) [JU](https://julialang.org/)(lia)[PYT](https://www.python.org/)(hon)e[R](https://www.r-project.org/)\n",
    "- Kod, metin ve görselleştirmeyi aynı bağlamda destekler"
   ]
  },
  {
   "cell_type": "markdown",
   "metadata": {
    "slideshow": {
     "slide_type": "subslide"
    },
    "tags": []
   },
   "source": [
    "### Paket Yönetimi\n",
    "Paket yöneticisi sisteminizde yüklü olan kütüphaneleri yönetir:\n",
    "\n",
    "- [anaconda](https://docs.conda.io/en/latest/)\n",
    "- [pip](https://pypi.org/project/pip/)\n",
    "\n",
    "### Çevrimiçi Hesaplama Platformları\n",
    "\n",
    "* [CoCalc](https://cocalc.com/) \n",
    "* [Google Colab](https://colab.research.google.com/)\n",
    "* [Microsoft Azure Notebooks](https://visualstudio.microsoft.com/vs/features/notebooks-at-microsoft/)\n",
    "* [Kaggle](https://www.kaggle.com/)\n"
   ]
  },
  {
   "cell_type": "markdown",
   "metadata": {
    "slideshow": {
     "slide_type": "subslide"
    },
    "tags": []
   },
   "source": [
    "\n",
    "### Git\n",
    "\n",
    "Git, bir versiyon kontrol sistemidir.\n",
    "\n",
    "- [Tutorial1](https://rogerdudler.github.io/git-guide/)\n",
    "- [Tutorial2](https://docs.google.com/presentation/d/1ctFrxDJjsz0JaVfaOWSphSpB8nOfXfiHON3N-TuaRYQ/edit?pli=1#slide=id.g4432b7c865_0_313)\n",
    "\n",
    "### GitHub\n",
    "\n",
    "GitHub ise bir paylaşım platformudur. \n",
    "- [Tutorial1](https://support.nesi.org.nz/hc/en-gb/articles/360001508515-Git-Reference-Sheet)\n",
    "- [Tutorial2](https://training.github.com/downloads/github-git-cheat-sheet/)\n",
    "\n",
    "\n",
    "### Markdown\n",
    "\n",
    "[Markdown](https://en.wikipedia.org/wiki/Markdown) düz-metin-biçimlendirme sözdizimine sahip  bir işaretleme dilidir.Tasarımı, birçok çıktı biçimine dönüştürülmesine izin verir. Basit işler için HTML yazmak yerine Markdown ile yazıp [kolayca](https://www.markdownguide.org/cheat-sheet/) dönüşüm sağlanabilir. "
   ]
  },
  {
   "cell_type": "markdown",
   "metadata": {
    "slideshow": {
     "slide_type": "slide"
    }
   },
   "source": [
    "## Verileri Bulma ve İşleme\n",
    "\n",
    "API'ler (Application Programming Interfaces) web siteleri, veritabanları veya diğer uygulamalar gibi farklı kaynaklardan gelen verilere erişmek için sağlam bir yol sağlar. İki uygulamanın birbiriyle konuşmasına ve yapılandırılmış bir şekilde veri alışverişi yapmasına olanak tanıyan aracılar olarak tanımlanabilir.\n",
    "\n",
    "Açık olarak sunulan pek çok veri kaynakları mevcuttur."
   ]
  },
  {
   "cell_type": "markdown",
   "metadata": {
    "slideshow": {
     "slide_type": "subslide"
    },
    "tags": []
   },
   "source": [
    "Ülkemizde sağlanan veriler:\n",
    "\n",
    "* [Türkiye Cumhuriyeti Merkez Bankası](https://evds2.tcmb.gov.tr/) \n",
    "    - [evds](https://pypi.org/project/evds/)\n",
    "    - [tcmb](https://pypi.org/project/tcmb/)\n",
    "\n",
    "* [TÜİK-Elektronik Veri Araştırma Merkezi](https://evam.tuik.gov.tr/)\n",
    "* [Meteroloji Genel Müdürlüğü](https://www.mevbis.mgm.gov.tr/mevbis/ui/index.html#/Workspace)\n",
    "* [Yüksek Seçim Kurulu](https://acikveri.ysk.gov.tr/anasayfa)\n",
    "* [Aperta-ULAKBİM](https://aperta.ulakbim.gov.tr/)\n",
    "* [Açık Veri-ULAKBİM](https://acikveri.ulakbim.gov.tr/)\n"
   ]
  },
  {
   "cell_type": "markdown",
   "metadata": {
    "slideshow": {
     "slide_type": "subslide"
    }
   },
   "source": [
    "Belediyerden Alınabilen Veriler\n",
    "* [İstanbul Büyükşehir Belediyesi](https://data.ibb.gov.tr/)\n",
    "* [İzmir Büyükşehir Belediyesi](https://acikveri.bizizmir.com/)\n",
    "* [Antalya Büyükşehir Belediyesi](https://acikveri.bizizmir.com/)\n",
    "* [Bursa Büyükşehir Belediyesi](https://acikyesil.bursa.bel.tr/dataset/)"
   ]
  },
  {
   "cell_type": "markdown",
   "metadata": {
    "slideshow": {
     "slide_type": "subslide"
    }
   },
   "source": [
    "Veri Bilimi platformları\n",
    "\n",
    "* [Kaggle](https://www.kaggle.com/datasets)\n",
    "* [Google Datasets](https://datasetsearch.research.google.com/)\n",
    "* [Hugging Face](https://huggingface.co/datasets) [package: datasets](https://pypi.org/project/datasets/)\n",
    "* [IMDb](https://developer.imdb.com/non-commercial-datasets/)\n",
    "* [Microsoft Dataset](https://learn.microsoft.com/en-us/azure/open-datasets/dataset-catalog) [Tools: code, datasets, models](https://www.microsoft.com/en-us/research/tools/?)\n",
    "* [LIBSVM Data](https://www.csie.ntu.edu.tw/~cjlin/libsvmtools/datasets/)\n",
    "* [UCI Datasets](https://archive.ics.uci.edu/datasets) Paket: [ucimlrepo](https://pypi.org/project/ucimlrepo/) ```pip install ucimlrepo```\n",
    "* [OpenML](https://www.openml.org/) Datasets, Tasks,Benchmarks\n",
    "* [Yahoo Finance](https://pypi.org/project/yfinance/)\n",
    "* [investing.com](https://pypi.org/project/investpy/)"
   ]
  },
  {
   "cell_type": "markdown",
   "metadata": {
    "slideshow": {
     "slide_type": "subslide"
    },
    "tags": []
   },
   "source": [
    "Veri Bilimi için kullanılan paketlerin sağladığı araçlar:\n",
    "\n",
    "* [Sklearn Datasets](https://scikit-learn.org/stable/datasets.html)\n",
    "* [Skimage Data](https://scikit-image.org/docs/stable/api/skimage.data.html#)\n",
    "* [Keras Datasets](https://keras.io/api/datasets/)\n",
    "* [Tensorflow Datasets](https://www.tensorflow.org/datasets/catalog/overview#all_datasets) [package : tensorflow_datas](https://github.com/tensorflow/datasets)\n",
    "* [Torch Image Datasets](https://pytorch.org/vision/stable/datasets.html)\n",
    "* [Torch Text Datasets](https://pytorch.org/text/stable/datasets.html)\n",
    "* [Audio Datasets](https://pytorch.org/audio/stable/datasets.html)"
   ]
  },
  {
   "cell_type": "markdown",
   "metadata": {
    "slideshow": {
     "slide_type": "subslide"
    }
   },
   "source": [
    "Çeşitli Kaynaklar\n",
    "\n",
    "* [OpenAire](https://explore.openaire.eu/)\n",
    "* [OpenAire Scholexplorer](https://scholexplorer.openaire.eu/#/)\n",
    "* [SAGE](https://ds.iris.edu/ds/nodes/dmc/data/)\n",
    "* [Five Thirty Eight](https://data.fivethirtyeight.com/) [Repo](https://github.com/fivethirtyeight/data/tree/master)\n",
    "* [OpenNeuro](https://openneuro.org/) MRI PET MEG EEG iEEG Data\n",
    "* [Cell Image Library](http://www.cellimagelibrary.org/pages/datasets)\n",
    "* [NASA Earth Data](https://www.earthdata.nasa.gov/)"
   ]
  },
  {
   "cell_type": "markdown",
   "metadata": {
    "slideshow": {
     "slide_type": "subslide"
    },
    "tags": []
   },
   "source": [
    "\n",
    "Jeolojik Araştırma Verileri\n",
    "\n",
    "- [US Geological Survey (USGS)](https://www.usgs.gov/products), Depremler, Uydu görüntüleri, Haritalar ve çok daha fazlasını içeren çeşitli bilimsel verileri alabileceğiniz çok büyük bir veri deposuna sahiptir.\n",
    "- [Avrupa Uzay Ajansı](https://open.esa.int/) haritalar, uydu görüntüleri ve daha fazlası gibi çeşitli veri ürünlerine erişebileceğiniz mükemmel bir açık veri hizmetine sahiptir.\n",
    "- [NASA](https://data.nasa.gov/) da bir açık veri hizmetine sahiptir.\n"
   ]
  },
  {
   "cell_type": "markdown",
   "metadata": {
    "slideshow": {
     "slide_type": "subslide"
    }
   },
   "source": [
    "Yabancı Ülkelerin Kamu Kuruluşlarından Alınan Veriler\n",
    "\n",
    "* [Athens Open Data](http://geodata.gov.gr/en/dataset)\n",
    "* [Barcelona Municipality](https://opendata-ajuntament.barcelona.cat/)\n",
    "* [London Data Store](https://data.london.gov.uk/developers/)\n",
    "* [New York Open Data](https://opendata.cityofnewyork.us/)\n",
    "* [City of Montreal Open Data](https://donnees.montreal.ca/collections)\n",
    "* [City of Toronto Open Data](https://open.toronto.ca/)\n",
    "* [The US Department of Transportation](https://data.bts.gov/)\n",
    "* [The Home of the U.S. Government's Open Data](https://data.gov/)\n",
    "* [European Central Bank](https://sdw.ecb.europa.eu/)\n",
    "* [OECD data](https://data.oecd.org/)"
   ]
  },
  {
   "cell_type": "markdown",
   "metadata": {
    "slideshow": {
     "slide_type": "subslide"
    },
    "tags": []
   },
   "source": [
    "* [The US Central Bank (FED) data](https://fred.stlouisfed.org/)\n",
    "* [The World Bank Data](https://data.worldbank.org/) Paket: [wbgapi](https://pypi.org/project/wbgapi/)\n",
    "* [The UK Office of National Statistics](https://www.ons.gov.uk/)\n",
    "* [The US Goverment](https://data.gov/developers/apis/index.html) collected all of its open data sources under a single service.\n",
    "* [Indian Government Data Portal](https://data.gov.in/)\n",
    "* [European Union Data Portal](https://data.europa.eu/en)\n",
    "* [International Monetary Fund (IMF) Data Portal](https://www.imf.org/en/Data)\n",
    "* [European Environment Agency](https://www.eea.europa.eu/en/datahub)\n",
    "\n",
    "\n",
    "Daha fazla ve çeşitli sınıflandırılmış veri setleri [buradan](https://learn.g2.com/open-data-sources) bulabilirsiniz."
   ]
  }
 ],
 "metadata": {
  "celltoolbar": "Slideshow",
  "kernelspec": {
   "display_name": "Python 3 (ipykernel)",
   "language": "python",
   "name": "python3"
  },
  "language_info": {
   "codemirror_mode": {
    "name": "ipython",
    "version": 3
   },
   "file_extension": ".py",
   "mimetype": "text/x-python",
   "name": "python",
   "nbconvert_exporter": "python",
   "pygments_lexer": "ipython3",
   "version": "3.11.8"
  }
 },
 "nbformat": 4,
 "nbformat_minor": 4
}
