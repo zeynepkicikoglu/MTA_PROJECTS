{
 "cells": [
  {
   "cell_type": "markdown",
   "metadata": {
    "id": "6iUwdnjUk7nR"
   },
   "source": [
    "### GroupBy Sorguları"
   ]
  },
  {
   "cell_type": "code",
   "execution_count": 1,
   "metadata": {
    "executionInfo": {
     "elapsed": 310,
     "status": "ok",
     "timestamp": 1681225697518,
     "user": {
      "displayName": "Arcibiyo",
      "userId": "09818246554955965434"
     },
     "user_tz": -180
    },
    "id": "dCUFtDf9k7nT"
   },
   "outputs": [],
   "source": [
    "import numpy as np\n",
    "import pandas as pd"
   ]
  },
  {
   "cell_type": "code",
   "execution_count": 2,
   "metadata": {
    "executionInfo": {
     "elapsed": 2,
     "status": "ok",
     "timestamp": 1681225673349,
     "user": {
      "displayName": "Arcibiyo",
      "userId": "09818246554955965434"
     },
     "user_tz": -180
    },
    "id": "8sCLbZeZk7nU"
   },
   "outputs": [],
   "source": [
    "dataset = {\n",
    "        \"Departman\":[\"Bilişim\",\"İnsan Kaynakları\",\"Üretim\",\"Üretim\",\"Bilişim\",\"İnsan Kaynakları\"],\n",
    "        \"Çalışan\": [\"Mustafa\",\"Jale\",\"Kadir\",\"Zeynep\",\"Murat\",\"Ahmet\"],\n",
    "        \"Maaş\":[3000,3500,2500,4500,4000,2000]\n",
    "        }"
   ]
  },
  {
   "cell_type": "code",
   "execution_count": 3,
   "metadata": {
    "colab": {
     "base_uri": "https://localhost:8080/"
    },
    "executionInfo": {
     "elapsed": 478,
     "status": "ok",
     "timestamp": 1681225681715,
     "user": {
      "displayName": "Arcibiyo",
      "userId": "09818246554955965434"
     },
     "user_tz": -180
    },
    "id": "pXv33ybGk7nU",
    "outputId": "55811317-f692-4d63-d3c0-0aaa99993861"
   },
   "outputs": [
    {
     "data": {
      "text/plain": [
       "{'Departman': ['Bilişim',\n",
       "  'İnsan Kaynakları',\n",
       "  'Üretim',\n",
       "  'Üretim',\n",
       "  'Bilişim',\n",
       "  'İnsan Kaynakları'],\n",
       " 'Çalışan': ['Mustafa', 'Jale', 'Kadir', 'Zeynep', 'Murat', 'Ahmet'],\n",
       " 'Maaş': [3000, 3500, 2500, 4500, 4000, 2000]}"
      ]
     },
     "execution_count": 3,
     "metadata": {},
     "output_type": "execute_result"
    }
   ],
   "source": [
    "dataset"
   ]
  },
  {
   "cell_type": "code",
   "execution_count": 4,
   "metadata": {
    "executionInfo": {
     "elapsed": 3,
     "status": "ok",
     "timestamp": 1681225699334,
     "user": {
      "displayName": "Arcibiyo",
      "userId": "09818246554955965434"
     },
     "user_tz": -180
    },
    "id": "qKtkNvsmk7nV"
   },
   "outputs": [],
   "source": [
    "df = pd.DataFrame(dataset)"
   ]
  },
  {
   "cell_type": "code",
   "execution_count": 6,
   "metadata": {
    "colab": {
     "base_uri": "https://localhost:8080/",
     "height": 237
    },
    "executionInfo": {
     "elapsed": 6,
     "status": "ok",
     "timestamp": 1681225702166,
     "user": {
      "displayName": "Arcibiyo",
      "userId": "09818246554955965434"
     },
     "user_tz": -180
    },
    "id": "udkBNx4Mk7nV",
    "outputId": "a8a533f7-870b-4601-a297-5494b288fef0"
   },
   "outputs": [
    {
     "data": {
      "text/html": [
       "<div>\n",
       "<style scoped>\n",
       "    .dataframe tbody tr th:only-of-type {\n",
       "        vertical-align: middle;\n",
       "    }\n",
       "\n",
       "    .dataframe tbody tr th {\n",
       "        vertical-align: top;\n",
       "    }\n",
       "\n",
       "    .dataframe thead th {\n",
       "        text-align: right;\n",
       "    }\n",
       "</style>\n",
       "<table border=\"1\" class=\"dataframe\">\n",
       "  <thead>\n",
       "    <tr style=\"text-align: right;\">\n",
       "      <th></th>\n",
       "      <th>Departman</th>\n",
       "      <th>Çalışan</th>\n",
       "      <th>Maaş</th>\n",
       "    </tr>\n",
       "  </thead>\n",
       "  <tbody>\n",
       "    <tr>\n",
       "      <th>0</th>\n",
       "      <td>Bilişim</td>\n",
       "      <td>Mustafa</td>\n",
       "      <td>3000</td>\n",
       "    </tr>\n",
       "    <tr>\n",
       "      <th>1</th>\n",
       "      <td>İnsan Kaynakları</td>\n",
       "      <td>Jale</td>\n",
       "      <td>3500</td>\n",
       "    </tr>\n",
       "    <tr>\n",
       "      <th>2</th>\n",
       "      <td>Üretim</td>\n",
       "      <td>Kadir</td>\n",
       "      <td>2500</td>\n",
       "    </tr>\n",
       "    <tr>\n",
       "      <th>3</th>\n",
       "      <td>Üretim</td>\n",
       "      <td>Zeynep</td>\n",
       "      <td>4500</td>\n",
       "    </tr>\n",
       "    <tr>\n",
       "      <th>4</th>\n",
       "      <td>Bilişim</td>\n",
       "      <td>Murat</td>\n",
       "      <td>4000</td>\n",
       "    </tr>\n",
       "    <tr>\n",
       "      <th>5</th>\n",
       "      <td>İnsan Kaynakları</td>\n",
       "      <td>Ahmet</td>\n",
       "      <td>2000</td>\n",
       "    </tr>\n",
       "  </tbody>\n",
       "</table>\n",
       "</div>"
      ],
      "text/plain": [
       "          Departman  Çalışan  Maaş\n",
       "0           Bilişim  Mustafa  3000\n",
       "1  İnsan Kaynakları     Jale  3500\n",
       "2            Üretim    Kadir  2500\n",
       "3            Üretim   Zeynep  4500\n",
       "4           Bilişim    Murat  4000\n",
       "5  İnsan Kaynakları    Ahmet  2000"
      ]
     },
     "execution_count": 6,
     "metadata": {},
     "output_type": "execute_result"
    }
   ],
   "source": [
    "df"
   ]
  },
  {
   "cell_type": "code",
   "execution_count": 7,
   "metadata": {
    "executionInfo": {
     "elapsed": 6,
     "status": "ok",
     "timestamp": 1681225761403,
     "user": {
      "displayName": "Arcibiyo",
      "userId": "09818246554955965434"
     },
     "user_tz": -180
    },
    "id": "HllzFvnfk7nV"
   },
   "outputs": [],
   "source": [
    "DepGroup = df.groupby(\"Departman\")"
   ]
  },
  {
   "cell_type": "code",
   "execution_count": 8,
   "metadata": {
    "colab": {
     "base_uri": "https://localhost:8080/"
    },
    "executionInfo": {
     "elapsed": 365,
     "status": "ok",
     "timestamp": 1681225767714,
     "user": {
      "displayName": "Arcibiyo",
      "userId": "09818246554955965434"
     },
     "user_tz": -180
    },
    "id": "66iIJ_wmk7nV",
    "outputId": "20471b53-e89c-451e-d28b-71c5d2310878"
   },
   "outputs": [
    {
     "data": {
      "text/plain": [
       "<pandas.core.groupby.generic.DataFrameGroupBy object at 0x0000028680A98880>"
      ]
     },
     "execution_count": 8,
     "metadata": {},
     "output_type": "execute_result"
    }
   ],
   "source": [
    "DepGroup"
   ]
  },
  {
   "cell_type": "code",
   "execution_count": 9,
   "metadata": {
    "colab": {
     "base_uri": "https://localhost:8080/",
     "height": 174
    },
    "executionInfo": {
     "elapsed": 424,
     "status": "ok",
     "timestamp": 1681225797893,
     "user": {
      "displayName": "Arcibiyo",
      "userId": "09818246554955965434"
     },
     "user_tz": -180
    },
    "id": "lBRybdL0k7nW",
    "outputId": "df7c3a2b-927f-4b87-ba59-ebce8e5e642e"
   },
   "outputs": [
    {
     "name": "stderr",
     "output_type": "stream",
     "text": [
      "C:\\Users\\PC_N_717_\\AppData\\Local\\Temp\\ipykernel_3432\\802905947.py:1: FutureWarning: The default value of numeric_only in DataFrameGroupBy.sum is deprecated. In a future version, numeric_only will default to False. Either specify numeric_only or select only columns which should be valid for the function.\n",
      "  DepGroup.sum()\n"
     ]
    },
    {
     "data": {
      "text/html": [
       "<div>\n",
       "<style scoped>\n",
       "    .dataframe tbody tr th:only-of-type {\n",
       "        vertical-align: middle;\n",
       "    }\n",
       "\n",
       "    .dataframe tbody tr th {\n",
       "        vertical-align: top;\n",
       "    }\n",
       "\n",
       "    .dataframe thead th {\n",
       "        text-align: right;\n",
       "    }\n",
       "</style>\n",
       "<table border=\"1\" class=\"dataframe\">\n",
       "  <thead>\n",
       "    <tr style=\"text-align: right;\">\n",
       "      <th></th>\n",
       "      <th>Maaş</th>\n",
       "    </tr>\n",
       "    <tr>\n",
       "      <th>Departman</th>\n",
       "      <th></th>\n",
       "    </tr>\n",
       "  </thead>\n",
       "  <tbody>\n",
       "    <tr>\n",
       "      <th>Bilişim</th>\n",
       "      <td>7000</td>\n",
       "    </tr>\n",
       "    <tr>\n",
       "      <th>Üretim</th>\n",
       "      <td>7000</td>\n",
       "    </tr>\n",
       "    <tr>\n",
       "      <th>İnsan Kaynakları</th>\n",
       "      <td>5500</td>\n",
       "    </tr>\n",
       "  </tbody>\n",
       "</table>\n",
       "</div>"
      ],
      "text/plain": [
       "                  Maaş\n",
       "Departman             \n",
       "Bilişim           7000\n",
       "Üretim            7000\n",
       "İnsan Kaynakları  5500"
      ]
     },
     "execution_count": 9,
     "metadata": {},
     "output_type": "execute_result"
    }
   ],
   "source": [
    "DepGroup.sum()"
   ]
  },
  {
   "cell_type": "code",
   "execution_count": 13,
   "metadata": {
    "executionInfo": {
     "elapsed": 4,
     "status": "ok",
     "timestamp": 1681225847633,
     "user": {
      "displayName": "Arcibiyo",
      "userId": "09818246554955965434"
     },
     "user_tz": -180
    },
    "id": "C1lJpBduk7nW"
   },
   "outputs": [
    {
     "name": "stderr",
     "output_type": "stream",
     "text": [
      "C:\\Users\\PC_N_717_\\AppData\\Local\\Temp\\ipykernel_3432\\4181312087.py:1: FutureWarning: The default value of numeric_only in DataFrameGroupBy.sum is deprecated. In a future version, numeric_only will default to False. Either specify numeric_only or select only columns which should be valid for the function.\n",
      "  TotalPriceB = DepGroup.sum().loc[\"Bilişim\"]\n"
     ]
    }
   ],
   "source": [
    "TotalPriceB = DepGroup.sum().loc[\"Bilişim\"]"
   ]
  },
  {
   "cell_type": "code",
   "execution_count": 14,
   "metadata": {
    "colab": {
     "base_uri": "https://localhost:8080/"
    },
    "executionInfo": {
     "elapsed": 4,
     "status": "ok",
     "timestamp": 1681225869421,
     "user": {
      "displayName": "Arcibiyo",
      "userId": "09818246554955965434"
     },
     "user_tz": -180
    },
    "id": "RfmL5KoP3tz0",
    "outputId": "e773f37d-c728-4296-95c4-5e95f6bcaf80"
   },
   "outputs": [
    {
     "data": {
      "text/plain": [
       "Maaş    7000\n",
       "Name: Bilişim, dtype: int64"
      ]
     },
     "execution_count": 14,
     "metadata": {},
     "output_type": "execute_result"
    }
   ],
   "source": [
    "TotalPriceB"
   ]
  },
  {
   "cell_type": "code",
   "execution_count": 15,
   "metadata": {
    "colab": {
     "base_uri": "https://localhost:8080/"
    },
    "executionInfo": {
     "elapsed": 6,
     "status": "ok",
     "timestamp": 1681225879692,
     "user": {
      "displayName": "Arcibiyo",
      "userId": "09818246554955965434"
     },
     "user_tz": -180
    },
    "id": "fB55n1jck7nW",
    "outputId": "80d1415f-dc6c-4a23-eb68-6443f3bd9234"
   },
   "outputs": [
    {
     "data": {
      "text/plain": [
       "7000"
      ]
     },
     "execution_count": 15,
     "metadata": {},
     "output_type": "execute_result"
    }
   ],
   "source": [
    "int(TotalPriceB)"
   ]
  },
  {
   "cell_type": "code",
   "execution_count": 16,
   "metadata": {
    "id": "pQbodv--k7nW",
    "outputId": "59621b0e-ddce-4051-a986-58b9c2f5df92"
   },
   "outputs": [
    {
     "data": {
      "text/html": [
       "<div>\n",
       "<style scoped>\n",
       "    .dataframe tbody tr th:only-of-type {\n",
       "        vertical-align: middle;\n",
       "    }\n",
       "\n",
       "    .dataframe tbody tr th {\n",
       "        vertical-align: top;\n",
       "    }\n",
       "\n",
       "    .dataframe thead th {\n",
       "        text-align: right;\n",
       "    }\n",
       "</style>\n",
       "<table border=\"1\" class=\"dataframe\">\n",
       "  <thead>\n",
       "    <tr style=\"text-align: right;\">\n",
       "      <th></th>\n",
       "      <th>Çalışan</th>\n",
       "      <th>Maaş</th>\n",
       "    </tr>\n",
       "    <tr>\n",
       "      <th>Departman</th>\n",
       "      <th></th>\n",
       "      <th></th>\n",
       "    </tr>\n",
       "  </thead>\n",
       "  <tbody>\n",
       "    <tr>\n",
       "      <th>Bilişim</th>\n",
       "      <td>2</td>\n",
       "      <td>2</td>\n",
       "    </tr>\n",
       "    <tr>\n",
       "      <th>Üretim</th>\n",
       "      <td>2</td>\n",
       "      <td>2</td>\n",
       "    </tr>\n",
       "    <tr>\n",
       "      <th>İnsan Kaynakları</th>\n",
       "      <td>2</td>\n",
       "      <td>2</td>\n",
       "    </tr>\n",
       "  </tbody>\n",
       "</table>\n",
       "</div>"
      ],
      "text/plain": [
       "                  Çalışan  Maaş\n",
       "Departman                      \n",
       "Bilişim                 2     2\n",
       "Üretim                  2     2\n",
       "İnsan Kaynakları        2     2"
      ]
     },
     "execution_count": 16,
     "metadata": {},
     "output_type": "execute_result"
    }
   ],
   "source": [
    "df.groupby(\"Departman\").count()"
   ]
  },
  {
   "cell_type": "code",
   "execution_count": 17,
   "metadata": {
    "colab": {
     "base_uri": "https://localhost:8080/",
     "height": 174
    },
    "executionInfo": {
     "elapsed": 337,
     "status": "ok",
     "timestamp": 1681225926857,
     "user": {
      "displayName": "Arcibiyo",
      "userId": "09818246554955965434"
     },
     "user_tz": -180
    },
    "id": "7SE8P0iWk7nW",
    "outputId": "627f6416-e1c6-41d9-9c23-974f263c82ea"
   },
   "outputs": [
    {
     "data": {
      "text/html": [
       "<div>\n",
       "<style scoped>\n",
       "    .dataframe tbody tr th:only-of-type {\n",
       "        vertical-align: middle;\n",
       "    }\n",
       "\n",
       "    .dataframe tbody tr th {\n",
       "        vertical-align: top;\n",
       "    }\n",
       "\n",
       "    .dataframe thead th {\n",
       "        text-align: right;\n",
       "    }\n",
       "</style>\n",
       "<table border=\"1\" class=\"dataframe\">\n",
       "  <thead>\n",
       "    <tr style=\"text-align: right;\">\n",
       "      <th></th>\n",
       "      <th>Çalışan</th>\n",
       "      <th>Maaş</th>\n",
       "    </tr>\n",
       "    <tr>\n",
       "      <th>Departman</th>\n",
       "      <th></th>\n",
       "      <th></th>\n",
       "    </tr>\n",
       "  </thead>\n",
       "  <tbody>\n",
       "    <tr>\n",
       "      <th>Bilişim</th>\n",
       "      <td>Mustafa</td>\n",
       "      <td>4000</td>\n",
       "    </tr>\n",
       "    <tr>\n",
       "      <th>Üretim</th>\n",
       "      <td>Zeynep</td>\n",
       "      <td>4500</td>\n",
       "    </tr>\n",
       "    <tr>\n",
       "      <th>İnsan Kaynakları</th>\n",
       "      <td>Jale</td>\n",
       "      <td>3500</td>\n",
       "    </tr>\n",
       "  </tbody>\n",
       "</table>\n",
       "</div>"
      ],
      "text/plain": [
       "                  Çalışan  Maaş\n",
       "Departman                      \n",
       "Bilişim           Mustafa  4000\n",
       "Üretim             Zeynep  4500\n",
       "İnsan Kaynakları     Jale  3500"
      ]
     },
     "execution_count": 17,
     "metadata": {},
     "output_type": "execute_result"
    }
   ],
   "source": [
    "df.groupby(\"Departman\").max()"
   ]
  },
  {
   "cell_type": "code",
   "execution_count": 22,
   "metadata": {
    "executionInfo": {
     "elapsed": 486,
     "status": "ok",
     "timestamp": 1681225992618,
     "user": {
      "displayName": "Arcibiyo",
      "userId": "09818246554955965434"
     },
     "user_tz": -180
    },
    "id": "b6jLP7wrk7nX"
   },
   "outputs": [],
   "source": [
    "minPriceB = df.groupby(\"Departman\").min()[\"Maaş\"][\"Bilişim\"]"
   ]
  },
  {
   "cell_type": "code",
   "execution_count": 23,
   "metadata": {
    "colab": {
     "base_uri": "https://localhost:8080/"
    },
    "executionInfo": {
     "elapsed": 827,
     "status": "ok",
     "timestamp": 1681225995655,
     "user": {
      "displayName": "Arcibiyo",
      "userId": "09818246554955965434"
     },
     "user_tz": -180
    },
    "id": "Nd4_i9t9k7nX",
    "outputId": "c9c00f36-cb6d-4e65-f786-fa6aa74ac89d"
   },
   "outputs": [
    {
     "data": {
      "text/plain": [
       "3000"
      ]
     },
     "execution_count": 23,
     "metadata": {},
     "output_type": "execute_result"
    }
   ],
   "source": [
    "minPriceB"
   ]
  },
  {
   "cell_type": "code",
   "execution_count": 28,
   "metadata": {
    "executionInfo": {
     "elapsed": 330,
     "status": "ok",
     "timestamp": 1681226022071,
     "user": {
      "displayName": "Arcibiyo",
      "userId": "09818246554955965434"
     },
     "user_tz": -180
    },
    "id": "XHsoi0Upk7nX"
   },
   "outputs": [
    {
     "name": "stderr",
     "output_type": "stream",
     "text": [
      "C:\\Users\\PC_N_717_\\AppData\\Local\\Temp\\ipykernel_3432\\53342476.py:1: FutureWarning: The default value of numeric_only in DataFrameGroupBy.mean is deprecated. In a future version, numeric_only will default to False. Either specify numeric_only or select only columns which should be valid for the function.\n",
      "  averagePriceB = df.groupby(\"Departman\").mean().loc[\"Bilişim\"][\"Maaş\"]\n"
     ]
    }
   ],
   "source": [
    "averagePriceB = df.groupby(\"Departman\").mean().loc[\"Bilişim\"][\"Maaş\"]"
   ]
  },
  {
   "cell_type": "code",
   "execution_count": 29,
   "metadata": {
    "colab": {
     "base_uri": "https://localhost:8080/"
    },
    "executionInfo": {
     "elapsed": 7,
     "status": "ok",
     "timestamp": 1681226025944,
     "user": {
      "displayName": "Arcibiyo",
      "userId": "09818246554955965434"
     },
     "user_tz": -180
    },
    "id": "cAiDil-Yk7nX",
    "outputId": "d2d31f46-c310-42c8-a401-03f6cf07ae2b"
   },
   "outputs": [
    {
     "data": {
      "text/plain": [
       "3500.0"
      ]
     },
     "execution_count": 29,
     "metadata": {},
     "output_type": "execute_result"
    }
   ],
   "source": [
    "averagePriceB"
   ]
  },
  {
   "cell_type": "code",
   "execution_count": null,
   "metadata": {},
   "outputs": [],
   "source": []
  }
 ],
 "metadata": {
  "colab": {
   "provenance": []
  },
  "kernelspec": {
   "display_name": "Python 3 (ipykernel)",
   "language": "python",
   "name": "python3"
  },
  "language_info": {
   "codemirror_mode": {
    "name": "ipython",
    "version": 3
   },
   "file_extension": ".py",
   "mimetype": "text/x-python",
   "name": "python",
   "nbconvert_exporter": "python",
   "pygments_lexer": "ipython3",
   "version": "3.10.9"
  }
 },
 "nbformat": 4,
 "nbformat_minor": 1
}
