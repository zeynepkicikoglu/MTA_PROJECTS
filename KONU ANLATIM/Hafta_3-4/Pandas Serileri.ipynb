{
 "cells": [
  {
   "cell_type": "markdown",
   "metadata": {
    "id": "RKZAQxknkgnY"
   },
   "source": [
    "## Pandas Serileri"
   ]
  },
  {
   "cell_type": "markdown",
   "metadata": {
    "id": "cs1T5zrShqAi"
   },
   "source": [
    "Pandas Serileri: Etiketli verilerden oluşan tek boyutlu veri yapısıdır.\n",
    "    Veriler değer, liste ya da Python objesi olurken,\n",
    "    etiket değerine indis denilmektedir.\n",
    "    Python'da veri analizi için kullanılan yaygın bir kütüphanedir.\n",
    "    "
   ]
  },
  {
   "cell_type": "code",
   "execution_count": 1,
   "metadata": {
    "executionInfo": {
     "elapsed": 679,
     "status": "ok",
     "timestamp": 1707140953611,
     "user": {
      "displayName": "Sertaç ARISOY",
      "userId": "02064369477291648466"
     },
     "user_tz": -180
    },
    "id": "ywXHJm1Mkgne"
   },
   "outputs": [],
   "source": [
    "import numpy as np\n",
    "import pandas as pd"
   ]
  },
  {
   "cell_type": "code",
   "execution_count": 2,
   "metadata": {
    "colab": {
     "base_uri": "https://localhost:8080/"
    },
    "executionInfo": {
     "elapsed": 3,
     "status": "ok",
     "timestamp": 1707140956025,
     "user": {
      "displayName": "Sertaç ARISOY",
      "userId": "02064369477291648466"
     },
     "user_tz": -180
    },
    "id": "IPxnI9DAma3y",
    "outputId": "93ec8f32-7209-46a2-f03e-85e96368829d"
   },
   "outputs": [
    {
     "name": "stderr",
     "output_type": "stream",
     "text": [
      "C:\\Users\\PC_N_717_\\AppData\\Local\\Temp\\ipykernel_8736\\2031691219.py:1: FutureWarning: The default dtype for empty Series will be 'object' instead of 'float64' in a future version. Specify a dtype explicitly to silence this warning.\n",
      "  pd.Series()\n"
     ]
    },
    {
     "data": {
      "text/plain": [
       "Series([], dtype: float64)"
      ]
     },
     "execution_count": 2,
     "metadata": {},
     "output_type": "execute_result"
    }
   ],
   "source": [
    "pd.Series()"
   ]
  },
  {
   "cell_type": "markdown",
   "metadata": {
    "id": "WuXJAr24kgng"
   },
   "source": [
    "#### Tanımlanma Yöntemleri - 1"
   ]
  },
  {
   "cell_type": "code",
   "execution_count": 3,
   "metadata": {
    "executionInfo": {
     "elapsed": 309,
     "status": "ok",
     "timestamp": 1707140974015,
     "user": {
      "displayName": "Sertaç ARISOY",
      "userId": "02064369477291648466"
     },
     "user_tz": -180
    },
    "id": "Gr_zOUa2kgnh"
   },
   "outputs": [],
   "source": [
    "labels_list = [\"Mustafa\",\"Kemal\",\"Murat\",\"Kadir\",\"Zeynep\"]"
   ]
  },
  {
   "cell_type": "code",
   "execution_count": 4,
   "metadata": {
    "executionInfo": {
     "elapsed": 316,
     "status": "ok",
     "timestamp": 1707140985944,
     "user": {
      "displayName": "Sertaç ARISOY",
      "userId": "02064369477291648466"
     },
     "user_tz": -180
    },
    "id": "6EiQ7nu8kgni"
   },
   "outputs": [],
   "source": [
    "data_list = [10,20,30,40,50]"
   ]
  },
  {
   "cell_type": "code",
   "execution_count": 5,
   "metadata": {
    "colab": {
     "base_uri": "https://localhost:8080/"
    },
    "executionInfo": {
     "elapsed": 312,
     "status": "ok",
     "timestamp": 1707140998617,
     "user": {
      "displayName": "Sertaç ARISOY",
      "userId": "02064369477291648466"
     },
     "user_tz": -180
    },
    "id": "ScBg5LdOkgnj",
    "outputId": "aa69bf23-41ce-412f-dd0d-88ce181c071f"
   },
   "outputs": [
    {
     "data": {
      "text/plain": [
       "0    10\n",
       "1    20\n",
       "2    30\n",
       "3    40\n",
       "4    50\n",
       "dtype: int64"
      ]
     },
     "execution_count": 5,
     "metadata": {},
     "output_type": "execute_result"
    }
   ],
   "source": [
    "pd.Series(data = data_list)"
   ]
  },
  {
   "cell_type": "code",
   "execution_count": 6,
   "metadata": {
    "colab": {
     "base_uri": "https://localhost:8080/"
    },
    "executionInfo": {
     "elapsed": 284,
     "status": "ok",
     "timestamp": 1707141014928,
     "user": {
      "displayName": "Sertaç ARISOY",
      "userId": "02064369477291648466"
     },
     "user_tz": -180
    },
    "id": "EPv8Asj-kgnk",
    "outputId": "5590ca1d-f5c2-456c-9144-9c27c4b66e5f"
   },
   "outputs": [
    {
     "data": {
      "text/plain": [
       "Mustafa    10\n",
       "Kemal      20\n",
       "Murat      30\n",
       "Kadir      40\n",
       "Zeynep     50\n",
       "dtype: int64"
      ]
     },
     "execution_count": 6,
     "metadata": {},
     "output_type": "execute_result"
    }
   ],
   "source": [
    "pd.Series(data = data_list,index = labels_list)"
   ]
  },
  {
   "cell_type": "markdown",
   "metadata": {
    "id": "7MFBSQr5kgnk"
   },
   "source": [
    "#### Tanımlanma Yöntemleri - 2"
   ]
  },
  {
   "cell_type": "code",
   "execution_count": 7,
   "metadata": {
    "executionInfo": {
     "elapsed": 269,
     "status": "ok",
     "timestamp": 1707141035701,
     "user": {
      "displayName": "Sertaç ARISOY",
      "userId": "02064369477291648466"
     },
     "user_tz": -180
    },
    "id": "julUi9K6kgnl"
   },
   "outputs": [],
   "source": [
    "npArray = np.array([10,20,30,40,50])"
   ]
  },
  {
   "cell_type": "code",
   "execution_count": 8,
   "metadata": {
    "colab": {
     "base_uri": "https://localhost:8080/"
    },
    "executionInfo": {
     "elapsed": 306,
     "status": "ok",
     "timestamp": 1707141038535,
     "user": {
      "displayName": "Sertaç ARISOY",
      "userId": "02064369477291648466"
     },
     "user_tz": -180
    },
    "id": "V9ErBZqxkgnl",
    "outputId": "d8ba8c8b-f4af-426e-ee86-ca0b171973cc"
   },
   "outputs": [
    {
     "data": {
      "text/plain": [
       "0    10\n",
       "1    20\n",
       "2    30\n",
       "3    40\n",
       "4    50\n",
       "dtype: int32"
      ]
     },
     "execution_count": 8,
     "metadata": {},
     "output_type": "execute_result"
    }
   ],
   "source": [
    "pd.Series(data = npArray)"
   ]
  },
  {
   "cell_type": "code",
   "execution_count": 9,
   "metadata": {
    "colab": {
     "base_uri": "https://localhost:8080/"
    },
    "executionInfo": {
     "elapsed": 297,
     "status": "ok",
     "timestamp": 1707141042528,
     "user": {
      "displayName": "Sertaç ARISOY",
      "userId": "02064369477291648466"
     },
     "user_tz": -180
    },
    "id": "edxQ54Nokgnm",
    "outputId": "36c51b72-53c6-4860-cb64-3282353b1d9d"
   },
   "outputs": [
    {
     "data": {
      "text/plain": [
       "Mustafa    10\n",
       "Kemal      20\n",
       "Murat      30\n",
       "Kadir      40\n",
       "Zeynep     50\n",
       "dtype: int32"
      ]
     },
     "execution_count": 9,
     "metadata": {},
     "output_type": "execute_result"
    }
   ],
   "source": [
    "pd.Series(data = npArray,index = labels_list)"
   ]
  },
  {
   "cell_type": "code",
   "execution_count": 10,
   "metadata": {
    "colab": {
     "base_uri": "https://localhost:8080/"
    },
    "executionInfo": {
     "elapsed": 288,
     "status": "ok",
     "timestamp": 1707141070645,
     "user": {
      "displayName": "Sertaç ARISOY",
      "userId": "02064369477291648466"
     },
     "user_tz": -180
    },
    "id": "Vxr6EYikkgnm",
    "outputId": "94aeda2e-6b9c-4210-8a5e-d4373b62be08"
   },
   "outputs": [
    {
     "data": {
      "text/plain": [
       "10    Mustafa\n",
       "20      Kemal\n",
       "30      Murat\n",
       "40      Kadir\n",
       "50     Zeynep\n",
       "dtype: object"
      ]
     },
     "execution_count": 10,
     "metadata": {},
     "output_type": "execute_result"
    }
   ],
   "source": [
    "pd.Series(data = labels_list,index = npArray)"
   ]
  },
  {
   "cell_type": "code",
   "execution_count": 11,
   "metadata": {
    "colab": {
     "base_uri": "https://localhost:8080/"
    },
    "executionInfo": {
     "elapsed": 265,
     "status": "ok",
     "timestamp": 1707141077371,
     "user": {
      "displayName": "Sertaç ARISOY",
      "userId": "02064369477291648466"
     },
     "user_tz": -180
    },
    "id": "XEmBAd3Okgnn",
    "outputId": "0d89eb70-7e78-4947-f140-5443429e727c"
   },
   "outputs": [
    {
     "data": {
      "text/plain": [
       "A    10\n",
       "B    20\n",
       "C    30\n",
       "D    40\n",
       "E    50\n",
       "dtype: int32"
      ]
     },
     "execution_count": 11,
     "metadata": {},
     "output_type": "execute_result"
    }
   ],
   "source": [
    "pd.Series(data = npArray,index = [\"A\",\"B\",\"C\",\"D\",\"E\"])"
   ]
  },
  {
   "cell_type": "markdown",
   "metadata": {
    "id": "T0Z-Nnxzkgnn"
   },
   "source": [
    "#### Tanımlanma Yöntemleri - 3"
   ]
  },
  {
   "cell_type": "code",
   "execution_count": 12,
   "metadata": {
    "executionInfo": {
     "elapsed": 383,
     "status": "ok",
     "timestamp": 1707141085465,
     "user": {
      "displayName": "Sertaç ARISOY",
      "userId": "02064369477291648466"
     },
     "user_tz": -180
    },
    "id": "E-h4qmLwkgno"
   },
   "outputs": [],
   "source": [
    "dataDict = {\"Kadir\":30,\"Kemal\":80,\"Kamuran\":60}"
   ]
  },
  {
   "cell_type": "code",
   "execution_count": 13,
   "metadata": {
    "colab": {
     "base_uri": "https://localhost:8080/"
    },
    "executionInfo": {
     "elapsed": 277,
     "status": "ok",
     "timestamp": 1707141091135,
     "user": {
      "displayName": "Sertaç ARISOY",
      "userId": "02064369477291648466"
     },
     "user_tz": -180
    },
    "id": "Efr6DqWkkgno",
    "outputId": "f33b713e-e69f-4de7-9c75-f0a4076662f2"
   },
   "outputs": [
    {
     "data": {
      "text/plain": [
       "Kadir      30\n",
       "Kemal      80\n",
       "Kamuran    60\n",
       "dtype: int64"
      ]
     },
     "execution_count": 13,
     "metadata": {},
     "output_type": "execute_result"
    }
   ],
   "source": [
    "pd.Series(dataDict)"
   ]
  },
  {
   "cell_type": "markdown",
   "metadata": {
    "id": "fdo5219Pkgno"
   },
   "source": [
    "#### Seriler Üzerinde Operasyonlar"
   ]
  },
  {
   "cell_type": "code",
   "execution_count": 14,
   "metadata": {
    "executionInfo": {
     "elapsed": 294,
     "status": "ok",
     "timestamp": 1707141104175,
     "user": {
      "displayName": "Sertaç ARISOY",
      "userId": "02064369477291648466"
     },
     "user_tz": -180
    },
    "id": "WBekMHrMkgno"
   },
   "outputs": [],
   "source": [
    "ser2017 = pd.Series(data=[5,10,14,20],index=[\"Buğday\",\"Mısır\",\"Kiraz\",\"Erik\"])"
   ]
  },
  {
   "cell_type": "code",
   "execution_count": 15,
   "metadata": {
    "executionInfo": {
     "elapsed": 343,
     "status": "ok",
     "timestamp": 1707141107273,
     "user": {
      "displayName": "Sertaç ARISOY",
      "userId": "02064369477291648466"
     },
     "user_tz": -180
    },
    "id": "u9YGRsPgkgno"
   },
   "outputs": [],
   "source": [
    "ser2018 = pd.Series([2,12,12,6],[\"Buğdasy\",\"Mısır\",\"Çilek\",\"Erik\"])"
   ]
  },
  {
   "cell_type": "code",
   "execution_count": 17,
   "metadata": {
    "colab": {
     "base_uri": "https://localhost:8080/"
    },
    "executionInfo": {
     "elapsed": 289,
     "status": "ok",
     "timestamp": 1707141110924,
     "user": {
      "displayName": "Sertaç ARISOY",
      "userId": "02064369477291648466"
     },
     "user_tz": -180
    },
    "id": "0j3P_uyPkgnp",
    "outputId": "c8deb8e9-4762-4a8a-ce0a-1807b58fe164"
   },
   "outputs": [
    {
     "data": {
      "text/plain": [
       "Buğday     5\n",
       "Mısır     10\n",
       "Kiraz     14\n",
       "Erik      20\n",
       "dtype: int64"
      ]
     },
     "execution_count": 17,
     "metadata": {},
     "output_type": "execute_result"
    }
   ],
   "source": [
    "ser2017"
   ]
  },
  {
   "cell_type": "code",
   "execution_count": 18,
   "metadata": {
    "colab": {
     "base_uri": "https://localhost:8080/"
    },
    "executionInfo": {
     "elapsed": 261,
     "status": "ok",
     "timestamp": 1707141113098,
     "user": {
      "displayName": "Sertaç ARISOY",
      "userId": "02064369477291648466"
     },
     "user_tz": -180
    },
    "id": "D3Idkjihkgnp",
    "outputId": "d8fc4919-2dd0-48a7-f16e-282ce2c8ec31"
   },
   "outputs": [
    {
     "data": {
      "text/plain": [
       "Buğdasy     2\n",
       "Mısır      12\n",
       "Çilek      12\n",
       "Erik        6\n",
       "dtype: int64"
      ]
     },
     "execution_count": 18,
     "metadata": {},
     "output_type": "execute_result"
    }
   ],
   "source": [
    "ser2018"
   ]
  },
  {
   "cell_type": "code",
   "execution_count": 19,
   "metadata": {
    "colab": {
     "base_uri": "https://localhost:8080/"
    },
    "executionInfo": {
     "elapsed": 2,
     "status": "ok",
     "timestamp": 1707141126156,
     "user": {
      "displayName": "Sertaç ARISOY",
      "userId": "02064369477291648466"
     },
     "user_tz": -180
    },
    "id": "5CkHX5Pkkgnp",
    "outputId": "33dfe63e-369b-4600-e9fa-8cc74e1af6fe"
   },
   "outputs": [
    {
     "data": {
      "text/plain": [
       "5"
      ]
     },
     "execution_count": 19,
     "metadata": {},
     "output_type": "execute_result"
    }
   ],
   "source": [
    "ser2017[\"Buğday\"] # Buğday'a karşılık gelen"
   ]
  },
  {
   "cell_type": "code",
   "execution_count": 20,
   "metadata": {
    "colab": {
     "base_uri": "https://localhost:8080/"
    },
    "executionInfo": {
     "elapsed": 265,
     "status": "ok",
     "timestamp": 1707141132633,
     "user": {
      "displayName": "Sertaç ARISOY",
      "userId": "02064369477291648466"
     },
     "user_tz": -180
    },
    "id": "EK-9g6Jckgnp",
    "outputId": "82a13670-ab5e-436c-dc4f-58ea5c0db58b"
   },
   "outputs": [
    {
     "data": {
      "text/plain": [
       "14"
      ]
     },
     "execution_count": 20,
     "metadata": {},
     "output_type": "execute_result"
    }
   ],
   "source": [
    "ser2017[\"Kiraz\"]"
   ]
  },
  {
   "cell_type": "code",
   "execution_count": 21,
   "metadata": {
    "colab": {
     "base_uri": "https://localhost:8080/"
    },
    "executionInfo": {
     "elapsed": 290,
     "status": "ok",
     "timestamp": 1707141137281,
     "user": {
      "displayName": "Sertaç ARISOY",
      "userId": "02064369477291648466"
     },
     "user_tz": -180
    },
    "id": "oDomnNDTkgnp",
    "outputId": "cb2b11b5-ac62-4bf5-afe5-b7afff97ba1a"
   },
   "outputs": [
    {
     "data": {
      "text/plain": [
       "12"
      ]
     },
     "execution_count": 21,
     "metadata": {},
     "output_type": "execute_result"
    }
   ],
   "source": [
    "ser2018[\"Çilek\"]"
   ]
  },
  {
   "cell_type": "code",
   "execution_count": 22,
   "metadata": {
    "colab": {
     "base_uri": "https://localhost:8080/"
    },
    "executionInfo": {
     "elapsed": 262,
     "status": "ok",
     "timestamp": 1707141145195,
     "user": {
      "displayName": "Sertaç ARISOY",
      "userId": "02064369477291648466"
     },
     "user_tz": -180
    },
    "id": "pbnxAPeckgnq",
    "outputId": "467d16e5-3577-443a-b595-66fb73cc6846"
   },
   "outputs": [
    {
     "data": {
      "text/plain": [
       "Buğdasy     NaN\n",
       "Buğday      NaN\n",
       "Erik       26.0\n",
       "Kiraz       NaN\n",
       "Mısır      22.0\n",
       "Çilek       NaN\n",
       "dtype: float64"
      ]
     },
     "execution_count": 22,
     "metadata": {},
     "output_type": "execute_result"
    }
   ],
   "source": [
    "ser2017 + ser2018"
   ]
  },
  {
   "cell_type": "code",
   "execution_count": 24,
   "metadata": {
    "executionInfo": {
     "elapsed": 261,
     "status": "ok",
     "timestamp": 1707141179542,
     "user": {
      "displayName": "Sertaç ARISOY",
      "userId": "02064369477291648466"
     },
     "user_tz": -180
    },
    "id": "dd7SobMrkgnr"
   },
   "outputs": [],
   "source": [
    "total = ser2017 + ser2018"
   ]
  },
  {
   "cell_type": "code",
   "execution_count": 25,
   "metadata": {
    "colab": {
     "base_uri": "https://localhost:8080/"
    },
    "executionInfo": {
     "elapsed": 266,
     "status": "ok",
     "timestamp": 1707141185237,
     "user": {
      "displayName": "Sertaç ARISOY",
      "userId": "02064369477291648466"
     },
     "user_tz": -180
    },
    "id": "JI0J0x1Xkgnr",
    "outputId": "43bc5ed1-5a6e-4977-d57d-caf04b4a7c84"
   },
   "outputs": [
    {
     "data": {
      "text/plain": [
       "Buğdasy     NaN\n",
       "Buğday      NaN\n",
       "Erik       26.0\n",
       "Kiraz       NaN\n",
       "Mısır      22.0\n",
       "Çilek       NaN\n",
       "dtype: float64"
      ]
     },
     "execution_count": 25,
     "metadata": {},
     "output_type": "execute_result"
    }
   ],
   "source": [
    "total"
   ]
  },
  {
   "cell_type": "code",
   "execution_count": 26,
   "metadata": {
    "colab": {
     "base_uri": "https://localhost:8080/"
    },
    "executionInfo": {
     "elapsed": 320,
     "status": "ok",
     "timestamp": 1707141186926,
     "user": {
      "displayName": "Sertaç ARISOY",
      "userId": "02064369477291648466"
     },
     "user_tz": -180
    },
    "id": "5X0_8YbYkgnr",
    "outputId": "c7c507c7-2824-4c8e-9426-fc80bb880cdc"
   },
   "outputs": [
    {
     "data": {
      "text/plain": [
       "nan"
      ]
     },
     "execution_count": 26,
     "metadata": {},
     "output_type": "execute_result"
    }
   ],
   "source": [
    "total[\"Çilek\"]"
   ]
  },
  {
   "cell_type": "code",
   "execution_count": 27,
   "metadata": {
    "colab": {
     "base_uri": "https://localhost:8080/",
     "height": 512
    },
    "executionInfo": {
     "elapsed": 3,
     "status": "error",
     "timestamp": 1707141190078,
     "user": {
      "displayName": "Sertaç ARISOY",
      "userId": "02064369477291648466"
     },
     "user_tz": -180
    },
    "id": "4bcwUnujkgns",
    "outputId": "c9e364ca-bc69-4962-bf00-1a7c3a2842ac"
   },
   "outputs": [
    {
     "ename": "KeyError",
     "evalue": "'Üzüm'",
     "output_type": "error",
     "traceback": [
      "\u001b[1;31m---------------------------------------------------------------------------\u001b[0m",
      "\u001b[1;31mKeyError\u001b[0m                                  Traceback (most recent call last)",
      "File \u001b[1;32m~\\anaconda3\\lib\\site-packages\\pandas\\core\\indexes\\base.py:3802\u001b[0m, in \u001b[0;36mIndex.get_loc\u001b[1;34m(self, key, method, tolerance)\u001b[0m\n\u001b[0;32m   3801\u001b[0m \u001b[38;5;28;01mtry\u001b[39;00m:\n\u001b[1;32m-> 3802\u001b[0m     \u001b[38;5;28;01mreturn\u001b[39;00m \u001b[38;5;28;43mself\u001b[39;49m\u001b[38;5;241;43m.\u001b[39;49m\u001b[43m_engine\u001b[49m\u001b[38;5;241;43m.\u001b[39;49m\u001b[43mget_loc\u001b[49m\u001b[43m(\u001b[49m\u001b[43mcasted_key\u001b[49m\u001b[43m)\u001b[49m\n\u001b[0;32m   3803\u001b[0m \u001b[38;5;28;01mexcept\u001b[39;00m \u001b[38;5;167;01mKeyError\u001b[39;00m \u001b[38;5;28;01mas\u001b[39;00m err:\n",
      "File \u001b[1;32m~\\anaconda3\\lib\\site-packages\\pandas\\_libs\\index.pyx:138\u001b[0m, in \u001b[0;36mpandas._libs.index.IndexEngine.get_loc\u001b[1;34m()\u001b[0m\n",
      "File \u001b[1;32m~\\anaconda3\\lib\\site-packages\\pandas\\_libs\\index.pyx:165\u001b[0m, in \u001b[0;36mpandas._libs.index.IndexEngine.get_loc\u001b[1;34m()\u001b[0m\n",
      "File \u001b[1;32mpandas\\_libs\\hashtable_class_helper.pxi:5745\u001b[0m, in \u001b[0;36mpandas._libs.hashtable.PyObjectHashTable.get_item\u001b[1;34m()\u001b[0m\n",
      "File \u001b[1;32mpandas\\_libs\\hashtable_class_helper.pxi:5753\u001b[0m, in \u001b[0;36mpandas._libs.hashtable.PyObjectHashTable.get_item\u001b[1;34m()\u001b[0m\n",
      "\u001b[1;31mKeyError\u001b[0m: 'Üzüm'",
      "\nThe above exception was the direct cause of the following exception:\n",
      "\u001b[1;31mKeyError\u001b[0m                                  Traceback (most recent call last)",
      "Cell \u001b[1;32mIn[27], line 1\u001b[0m\n\u001b[1;32m----> 1\u001b[0m \u001b[43mtotal\u001b[49m\u001b[43m[\u001b[49m\u001b[38;5;124;43m\"\u001b[39;49m\u001b[38;5;124;43mÜzüm\u001b[39;49m\u001b[38;5;124;43m\"\u001b[39;49m\u001b[43m]\u001b[49m\n",
      "File \u001b[1;32m~\\anaconda3\\lib\\site-packages\\pandas\\core\\series.py:981\u001b[0m, in \u001b[0;36mSeries.__getitem__\u001b[1;34m(self, key)\u001b[0m\n\u001b[0;32m    978\u001b[0m     \u001b[38;5;28;01mreturn\u001b[39;00m \u001b[38;5;28mself\u001b[39m\u001b[38;5;241m.\u001b[39m_values[key]\n\u001b[0;32m    980\u001b[0m \u001b[38;5;28;01melif\u001b[39;00m key_is_scalar:\n\u001b[1;32m--> 981\u001b[0m     \u001b[38;5;28;01mreturn\u001b[39;00m \u001b[38;5;28;43mself\u001b[39;49m\u001b[38;5;241;43m.\u001b[39;49m\u001b[43m_get_value\u001b[49m\u001b[43m(\u001b[49m\u001b[43mkey\u001b[49m\u001b[43m)\u001b[49m\n\u001b[0;32m    983\u001b[0m \u001b[38;5;28;01mif\u001b[39;00m is_hashable(key):\n\u001b[0;32m    984\u001b[0m     \u001b[38;5;66;03m# Otherwise index.get_value will raise InvalidIndexError\u001b[39;00m\n\u001b[0;32m    985\u001b[0m     \u001b[38;5;28;01mtry\u001b[39;00m:\n\u001b[0;32m    986\u001b[0m         \u001b[38;5;66;03m# For labels that don't resolve as scalars like tuples and frozensets\u001b[39;00m\n",
      "File \u001b[1;32m~\\anaconda3\\lib\\site-packages\\pandas\\core\\series.py:1089\u001b[0m, in \u001b[0;36mSeries._get_value\u001b[1;34m(self, label, takeable)\u001b[0m\n\u001b[0;32m   1086\u001b[0m     \u001b[38;5;28;01mreturn\u001b[39;00m \u001b[38;5;28mself\u001b[39m\u001b[38;5;241m.\u001b[39m_values[label]\n\u001b[0;32m   1088\u001b[0m \u001b[38;5;66;03m# Similar to Index.get_value, but we do not fall back to positional\u001b[39;00m\n\u001b[1;32m-> 1089\u001b[0m loc \u001b[38;5;241m=\u001b[39m \u001b[38;5;28;43mself\u001b[39;49m\u001b[38;5;241;43m.\u001b[39;49m\u001b[43mindex\u001b[49m\u001b[38;5;241;43m.\u001b[39;49m\u001b[43mget_loc\u001b[49m\u001b[43m(\u001b[49m\u001b[43mlabel\u001b[49m\u001b[43m)\u001b[49m\n\u001b[0;32m   1090\u001b[0m \u001b[38;5;28;01mreturn\u001b[39;00m \u001b[38;5;28mself\u001b[39m\u001b[38;5;241m.\u001b[39mindex\u001b[38;5;241m.\u001b[39m_get_values_for_loc(\u001b[38;5;28mself\u001b[39m, loc, label)\n",
      "File \u001b[1;32m~\\anaconda3\\lib\\site-packages\\pandas\\core\\indexes\\base.py:3804\u001b[0m, in \u001b[0;36mIndex.get_loc\u001b[1;34m(self, key, method, tolerance)\u001b[0m\n\u001b[0;32m   3802\u001b[0m     \u001b[38;5;28;01mreturn\u001b[39;00m \u001b[38;5;28mself\u001b[39m\u001b[38;5;241m.\u001b[39m_engine\u001b[38;5;241m.\u001b[39mget_loc(casted_key)\n\u001b[0;32m   3803\u001b[0m \u001b[38;5;28;01mexcept\u001b[39;00m \u001b[38;5;167;01mKeyError\u001b[39;00m \u001b[38;5;28;01mas\u001b[39;00m err:\n\u001b[1;32m-> 3804\u001b[0m     \u001b[38;5;28;01mraise\u001b[39;00m \u001b[38;5;167;01mKeyError\u001b[39;00m(key) \u001b[38;5;28;01mfrom\u001b[39;00m \u001b[38;5;21;01merr\u001b[39;00m\n\u001b[0;32m   3805\u001b[0m \u001b[38;5;28;01mexcept\u001b[39;00m \u001b[38;5;167;01mTypeError\u001b[39;00m:\n\u001b[0;32m   3806\u001b[0m     \u001b[38;5;66;03m# If we have a listlike key, _check_indexing_error will raise\u001b[39;00m\n\u001b[0;32m   3807\u001b[0m     \u001b[38;5;66;03m#  InvalidIndexError. Otherwise we fall through and re-raise\u001b[39;00m\n\u001b[0;32m   3808\u001b[0m     \u001b[38;5;66;03m#  the TypeError.\u001b[39;00m\n\u001b[0;32m   3809\u001b[0m     \u001b[38;5;28mself\u001b[39m\u001b[38;5;241m.\u001b[39m_check_indexing_error(key)\n",
      "\u001b[1;31mKeyError\u001b[0m: 'Üzüm'"
     ]
    }
   ],
   "source": [
    "total[\"Üzüm\"]"
   ]
  },
  {
   "cell_type": "code",
   "execution_count": 28,
   "metadata": {
    "colab": {
     "base_uri": "https://localhost:8080/"
    },
    "executionInfo": {
     "elapsed": 265,
     "status": "ok",
     "timestamp": 1707141471290,
     "user": {
      "displayName": "Sertaç ARISOY",
      "userId": "02064369477291648466"
     },
     "user_tz": -180
    },
    "id": "tTqGMmXqkgns",
    "outputId": "11d16acd-4f3e-43e4-f24d-b215196e9f96"
   },
   "outputs": [
    {
     "data": {
      "text/plain": [
       "Buğdasy     4.0\n",
       "Buğday      7.0\n",
       "Erik       26.0\n",
       "Kiraz      16.0\n",
       "Mısır      22.0\n",
       "Çilek      14.0\n",
       "dtype: float64"
      ]
     },
     "execution_count": 28,
     "metadata": {},
     "output_type": "execute_result"
    }
   ],
   "source": [
    "ser2017.add(ser2018,fill_value=2)"
   ]
  },
  {
   "cell_type": "code",
   "execution_count": null,
   "metadata": {
    "id": "Fo-goJnrj5iN"
   },
   "outputs": [],
   "source": []
  }
 ],
 "metadata": {
  "colab": {
   "provenance": []
  },
  "kernelspec": {
   "display_name": "Python 3 (ipykernel)",
   "language": "python",
   "name": "python3"
  },
  "language_info": {
   "codemirror_mode": {
    "name": "ipython",
    "version": 3
   },
   "file_extension": ".py",
   "mimetype": "text/x-python",
   "name": "python",
   "nbconvert_exporter": "python",
   "pygments_lexer": "ipython3",
   "version": "3.10.9"
  }
 },
 "nbformat": 4,
 "nbformat_minor": 1
}
