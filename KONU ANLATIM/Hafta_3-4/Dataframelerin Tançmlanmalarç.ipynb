{
 "cells": [
  {
   "cell_type": "markdown",
   "metadata": {
    "id": "04wBmykWkm-8"
   },
   "source": [
    "### Dataframelerin Tanımlanmaları"
   ]
  },
  {
   "cell_type": "markdown",
   "metadata": {
    "id": "vdg8Vmo7l3IB"
   },
   "source": [
    "Satır ve sütuna sahip iki boyutlu veri yapılarıdır. İki boyutlu dizi ya da satır ve sütun şeklinde bir tablo olarak tanımlanabilir. Pandas serileri bir boyutlu veri yapıları iken DataFrame'ler 2 boyutlu veri yapıları şeklindedir. "
   ]
  },
  {
   "cell_type": "code",
   "execution_count": 1,
   "metadata": {
    "executionInfo": {
     "elapsed": 452,
     "status": "ok",
     "timestamp": 1707142004722,
     "user": {
      "displayName": "Sertaç ARISOY",
      "userId": "02064369477291648466"
     },
     "user_tz": -180
    },
    "id": "0aptzMtfkm--"
   },
   "outputs": [],
   "source": [
    "import numpy as np\n",
    "import pandas as pd\n"
   ]
  },
  {
   "cell_type": "code",
   "execution_count": 2,
   "metadata": {
    "executionInfo": {
     "elapsed": 298,
     "status": "ok",
     "timestamp": 1707142011970,
     "user": {
      "displayName": "Sertaç ARISOY",
      "userId": "02064369477291648466"
     },
     "user_tz": -180
    },
    "id": "ujv97dyPkm-_"
   },
   "outputs": [],
   "source": [
    "from numpy.random import randn"
   ]
  },
  {
   "cell_type": "code",
   "execution_count": 3,
   "metadata": {
    "colab": {
     "base_uri": "https://localhost:8080/"
    },
    "executionInfo": {
     "elapsed": 292,
     "status": "ok",
     "timestamp": 1707142015893,
     "user": {
      "displayName": "Sertaç ARISOY",
      "userId": "02064369477291648466"
     },
     "user_tz": -180
    },
    "id": "mxdJbLJykm-_",
    "outputId": "5521fdbf-5524-451e-b561-81ffae6cff48"
   },
   "outputs": [
    {
     "data": {
      "text/plain": [
       "array([[-1.35853921,  1.29774319, -0.51469257],\n",
       "       [-1.2448138 , -0.883528  ,  2.78349209],\n",
       "       [ 0.76879678, -0.61324487, -0.49877647]])"
      ]
     },
     "execution_count": 3,
     "metadata": {},
     "output_type": "execute_result"
    }
   ],
   "source": [
    "randn(3,3)"
   ]
  },
  {
   "cell_type": "code",
   "execution_count": 4,
   "metadata": {
    "executionInfo": {
     "elapsed": 277,
     "status": "ok",
     "timestamp": 1707142030750,
     "user": {
      "displayName": "Sertaç ARISOY",
      "userId": "02064369477291648466"
     },
     "user_tz": -180
    },
    "id": "acj-8fuekm_A"
   },
   "outputs": [],
   "source": [
    "df = pd.DataFrame(randn(3,3),index = [\"A\",\"B\",\"C\"],columns = [\"Column1\",\"Column2\",\"Column3\"])"
   ]
  },
  {
   "cell_type": "code",
   "execution_count": 6,
   "metadata": {
    "colab": {
     "base_uri": "https://localhost:8080/",
     "height": 143
    },
    "executionInfo": {
     "elapsed": 504,
     "status": "ok",
     "timestamp": 1707142037406,
     "user": {
      "displayName": "Sertaç ARISOY",
      "userId": "02064369477291648466"
     },
     "user_tz": -180
    },
    "id": "5FW6yM0lkm_A",
    "outputId": "46e38c49-3d2b-4594-b6ab-2fa1d13336f9"
   },
   "outputs": [
    {
     "data": {
      "text/html": [
       "<div>\n",
       "<style scoped>\n",
       "    .dataframe tbody tr th:only-of-type {\n",
       "        vertical-align: middle;\n",
       "    }\n",
       "\n",
       "    .dataframe tbody tr th {\n",
       "        vertical-align: top;\n",
       "    }\n",
       "\n",
       "    .dataframe thead th {\n",
       "        text-align: right;\n",
       "    }\n",
       "</style>\n",
       "<table border=\"1\" class=\"dataframe\">\n",
       "  <thead>\n",
       "    <tr style=\"text-align: right;\">\n",
       "      <th></th>\n",
       "      <th>Column1</th>\n",
       "      <th>Column2</th>\n",
       "      <th>Column3</th>\n",
       "    </tr>\n",
       "  </thead>\n",
       "  <tbody>\n",
       "    <tr>\n",
       "      <th>A</th>\n",
       "      <td>1.020045</td>\n",
       "      <td>0.964998</td>\n",
       "      <td>1.385383</td>\n",
       "    </tr>\n",
       "    <tr>\n",
       "      <th>B</th>\n",
       "      <td>-0.875599</td>\n",
       "      <td>-1.149330</td>\n",
       "      <td>-0.817648</td>\n",
       "    </tr>\n",
       "    <tr>\n",
       "      <th>C</th>\n",
       "      <td>0.615912</td>\n",
       "      <td>0.231193</td>\n",
       "      <td>1.318507</td>\n",
       "    </tr>\n",
       "  </tbody>\n",
       "</table>\n",
       "</div>"
      ],
      "text/plain": [
       "    Column1   Column2   Column3\n",
       "A  1.020045  0.964998  1.385383\n",
       "B -0.875599 -1.149330 -0.817648\n",
       "C  0.615912  0.231193  1.318507"
      ]
     },
     "execution_count": 6,
     "metadata": {},
     "output_type": "execute_result"
    }
   ],
   "source": [
    "df"
   ]
  },
  {
   "cell_type": "code",
   "execution_count": 13,
   "metadata": {
    "colab": {
     "base_uri": "https://localhost:8080/"
    },
    "executionInfo": {
     "elapsed": 263,
     "status": "ok",
     "timestamp": 1707142041870,
     "user": {
      "displayName": "Sertaç ARISOY",
      "userId": "02064369477291648466"
     },
     "user_tz": -180
    },
    "id": "FYRh478okm_A",
    "outputId": "7559700a-d912-43aa-cdf2-68e8b1c07dea"
   },
   "outputs": [
    {
     "data": {
      "text/plain": [
       "A    0.964998\n",
       "B   -1.149330\n",
       "C    0.231193\n",
       "Name: Column2, dtype: float64"
      ]
     },
     "execution_count": 13,
     "metadata": {},
     "output_type": "execute_result"
    }
   ],
   "source": [
    "df[\"Column2\"]"
   ]
  },
  {
   "cell_type": "code",
   "execution_count": 14,
   "metadata": {
    "colab": {
     "base_uri": "https://localhost:8080/"
    },
    "executionInfo": {
     "elapsed": 284,
     "status": "ok",
     "timestamp": 1707142046414,
     "user": {
      "displayName": "Sertaç ARISOY",
      "userId": "02064369477291648466"
     },
     "user_tz": -180
    },
    "id": "f3DXTwSZkm_B",
    "outputId": "6190d8a9-9bd8-47af-e07b-e3d4f3bfe611"
   },
   "outputs": [
    {
     "data": {
      "text/plain": [
       "pandas.core.series.Series"
      ]
     },
     "execution_count": 14,
     "metadata": {},
     "output_type": "execute_result"
    }
   ],
   "source": [
    "type(df[\"Column2\"])"
   ]
  },
  {
   "cell_type": "code",
   "execution_count": 15,
   "metadata": {
    "colab": {
     "base_uri": "https://localhost:8080/"
    },
    "executionInfo": {
     "elapsed": 2,
     "status": "ok",
     "timestamp": 1707142139482,
     "user": {
      "displayName": "Sertaç ARISOY",
      "userId": "02064369477291648466"
     },
     "user_tz": -180
    },
    "id": "_nw09mjPkm_B",
    "outputId": "4787e9c9-7983-4d01-a4f8-b1ee58f3a35c"
   },
   "outputs": [
    {
     "data": {
      "text/plain": [
       "Column1    1.020045\n",
       "Column2    0.964998\n",
       "Column3    1.385383\n",
       "Name: A, dtype: float64"
      ]
     },
     "execution_count": 15,
     "metadata": {},
     "output_type": "execute_result"
    }
   ],
   "source": [
    "df.loc[\"A\"]"
   ]
  },
  {
   "cell_type": "code",
   "execution_count": 16,
   "metadata": {
    "colab": {
     "base_uri": "https://localhost:8080/"
    },
    "executionInfo": {
     "elapsed": 269,
     "status": "ok",
     "timestamp": 1707142150760,
     "user": {
      "displayName": "Sertaç ARISOY",
      "userId": "02064369477291648466"
     },
     "user_tz": -180
    },
    "id": "uUfjuVV2km_B",
    "outputId": "b1afb5fd-5ee5-4664-e0e4-de0d3b53a7ef"
   },
   "outputs": [
    {
     "data": {
      "text/plain": [
       "pandas.core.series.Series"
      ]
     },
     "execution_count": 16,
     "metadata": {},
     "output_type": "execute_result"
    }
   ],
   "source": [
    "type(df.loc[\"A\"])"
   ]
  },
  {
   "cell_type": "code",
   "execution_count": 17,
   "metadata": {
    "colab": {
     "base_uri": "https://localhost:8080/",
     "height": 143
    },
    "executionInfo": {
     "elapsed": 282,
     "status": "ok",
     "timestamp": 1707142154407,
     "user": {
      "displayName": "Sertaç ARISOY",
      "userId": "02064369477291648466"
     },
     "user_tz": -180
    },
    "id": "uAm-9leMkm_B",
    "outputId": "9d6abcc5-932a-4742-f978-7a2b4178b905"
   },
   "outputs": [
    {
     "data": {
      "text/html": [
       "<div>\n",
       "<style scoped>\n",
       "    .dataframe tbody tr th:only-of-type {\n",
       "        vertical-align: middle;\n",
       "    }\n",
       "\n",
       "    .dataframe tbody tr th {\n",
       "        vertical-align: top;\n",
       "    }\n",
       "\n",
       "    .dataframe thead th {\n",
       "        text-align: right;\n",
       "    }\n",
       "</style>\n",
       "<table border=\"1\" class=\"dataframe\">\n",
       "  <thead>\n",
       "    <tr style=\"text-align: right;\">\n",
       "      <th></th>\n",
       "      <th>Column2</th>\n",
       "      <th>Column3</th>\n",
       "    </tr>\n",
       "  </thead>\n",
       "  <tbody>\n",
       "    <tr>\n",
       "      <th>A</th>\n",
       "      <td>0.964998</td>\n",
       "      <td>1.385383</td>\n",
       "    </tr>\n",
       "    <tr>\n",
       "      <th>B</th>\n",
       "      <td>-1.149330</td>\n",
       "      <td>-0.817648</td>\n",
       "    </tr>\n",
       "    <tr>\n",
       "      <th>C</th>\n",
       "      <td>0.231193</td>\n",
       "      <td>1.318507</td>\n",
       "    </tr>\n",
       "  </tbody>\n",
       "</table>\n",
       "</div>"
      ],
      "text/plain": [
       "    Column2   Column3\n",
       "A  0.964998  1.385383\n",
       "B -1.149330 -0.817648\n",
       "C  0.231193  1.318507"
      ]
     },
     "execution_count": 17,
     "metadata": {},
     "output_type": "execute_result"
    }
   ],
   "source": [
    "df[[\"Column2\",\"Column3\"]]"
   ]
  },
  {
   "cell_type": "code",
   "execution_count": 18,
   "metadata": {
    "colab": {
     "base_uri": "https://localhost:8080/",
     "height": 512
    },
    "executionInfo": {
     "elapsed": 262,
     "status": "error",
     "timestamp": 1707142158411,
     "user": {
      "displayName": "Sertaç ARISOY",
      "userId": "02064369477291648466"
     },
     "user_tz": -180
    },
    "id": "WREZkfeykm_B",
    "outputId": "8f7bb5d0-3c83-4a39-bb98-b4bbb42e607b"
   },
   "outputs": [
    {
     "ename": "KeyError",
     "evalue": "'Column4'",
     "output_type": "error",
     "traceback": [
      "\u001b[1;31m---------------------------------------------------------------------------\u001b[0m",
      "\u001b[1;31mKeyError\u001b[0m                                  Traceback (most recent call last)",
      "File \u001b[1;32m~\\anaconda3\\lib\\site-packages\\pandas\\core\\indexes\\base.py:3802\u001b[0m, in \u001b[0;36mIndex.get_loc\u001b[1;34m(self, key, method, tolerance)\u001b[0m\n\u001b[0;32m   3801\u001b[0m \u001b[38;5;28;01mtry\u001b[39;00m:\n\u001b[1;32m-> 3802\u001b[0m     \u001b[38;5;28;01mreturn\u001b[39;00m \u001b[38;5;28;43mself\u001b[39;49m\u001b[38;5;241;43m.\u001b[39;49m\u001b[43m_engine\u001b[49m\u001b[38;5;241;43m.\u001b[39;49m\u001b[43mget_loc\u001b[49m\u001b[43m(\u001b[49m\u001b[43mcasted_key\u001b[49m\u001b[43m)\u001b[49m\n\u001b[0;32m   3803\u001b[0m \u001b[38;5;28;01mexcept\u001b[39;00m \u001b[38;5;167;01mKeyError\u001b[39;00m \u001b[38;5;28;01mas\u001b[39;00m err:\n",
      "File \u001b[1;32m~\\anaconda3\\lib\\site-packages\\pandas\\_libs\\index.pyx:138\u001b[0m, in \u001b[0;36mpandas._libs.index.IndexEngine.get_loc\u001b[1;34m()\u001b[0m\n",
      "File \u001b[1;32m~\\anaconda3\\lib\\site-packages\\pandas\\_libs\\index.pyx:165\u001b[0m, in \u001b[0;36mpandas._libs.index.IndexEngine.get_loc\u001b[1;34m()\u001b[0m\n",
      "File \u001b[1;32mpandas\\_libs\\hashtable_class_helper.pxi:5745\u001b[0m, in \u001b[0;36mpandas._libs.hashtable.PyObjectHashTable.get_item\u001b[1;34m()\u001b[0m\n",
      "File \u001b[1;32mpandas\\_libs\\hashtable_class_helper.pxi:5753\u001b[0m, in \u001b[0;36mpandas._libs.hashtable.PyObjectHashTable.get_item\u001b[1;34m()\u001b[0m\n",
      "\u001b[1;31mKeyError\u001b[0m: 'Column4'",
      "\nThe above exception was the direct cause of the following exception:\n",
      "\u001b[1;31mKeyError\u001b[0m                                  Traceback (most recent call last)",
      "Cell \u001b[1;32mIn[18], line 1\u001b[0m\n\u001b[1;32m----> 1\u001b[0m \u001b[43mdf\u001b[49m\u001b[43m[\u001b[49m\u001b[38;5;124;43m\"\u001b[39;49m\u001b[38;5;124;43mColumn4\u001b[39;49m\u001b[38;5;124;43m\"\u001b[39;49m\u001b[43m]\u001b[49m\n",
      "File \u001b[1;32m~\\anaconda3\\lib\\site-packages\\pandas\\core\\frame.py:3807\u001b[0m, in \u001b[0;36mDataFrame.__getitem__\u001b[1;34m(self, key)\u001b[0m\n\u001b[0;32m   3805\u001b[0m \u001b[38;5;28;01mif\u001b[39;00m \u001b[38;5;28mself\u001b[39m\u001b[38;5;241m.\u001b[39mcolumns\u001b[38;5;241m.\u001b[39mnlevels \u001b[38;5;241m>\u001b[39m \u001b[38;5;241m1\u001b[39m:\n\u001b[0;32m   3806\u001b[0m     \u001b[38;5;28;01mreturn\u001b[39;00m \u001b[38;5;28mself\u001b[39m\u001b[38;5;241m.\u001b[39m_getitem_multilevel(key)\n\u001b[1;32m-> 3807\u001b[0m indexer \u001b[38;5;241m=\u001b[39m \u001b[38;5;28;43mself\u001b[39;49m\u001b[38;5;241;43m.\u001b[39;49m\u001b[43mcolumns\u001b[49m\u001b[38;5;241;43m.\u001b[39;49m\u001b[43mget_loc\u001b[49m\u001b[43m(\u001b[49m\u001b[43mkey\u001b[49m\u001b[43m)\u001b[49m\n\u001b[0;32m   3808\u001b[0m \u001b[38;5;28;01mif\u001b[39;00m is_integer(indexer):\n\u001b[0;32m   3809\u001b[0m     indexer \u001b[38;5;241m=\u001b[39m [indexer]\n",
      "File \u001b[1;32m~\\anaconda3\\lib\\site-packages\\pandas\\core\\indexes\\base.py:3804\u001b[0m, in \u001b[0;36mIndex.get_loc\u001b[1;34m(self, key, method, tolerance)\u001b[0m\n\u001b[0;32m   3802\u001b[0m     \u001b[38;5;28;01mreturn\u001b[39;00m \u001b[38;5;28mself\u001b[39m\u001b[38;5;241m.\u001b[39m_engine\u001b[38;5;241m.\u001b[39mget_loc(casted_key)\n\u001b[0;32m   3803\u001b[0m \u001b[38;5;28;01mexcept\u001b[39;00m \u001b[38;5;167;01mKeyError\u001b[39;00m \u001b[38;5;28;01mas\u001b[39;00m err:\n\u001b[1;32m-> 3804\u001b[0m     \u001b[38;5;28;01mraise\u001b[39;00m \u001b[38;5;167;01mKeyError\u001b[39;00m(key) \u001b[38;5;28;01mfrom\u001b[39;00m \u001b[38;5;21;01merr\u001b[39;00m\n\u001b[0;32m   3805\u001b[0m \u001b[38;5;28;01mexcept\u001b[39;00m \u001b[38;5;167;01mTypeError\u001b[39;00m:\n\u001b[0;32m   3806\u001b[0m     \u001b[38;5;66;03m# If we have a listlike key, _check_indexing_error will raise\u001b[39;00m\n\u001b[0;32m   3807\u001b[0m     \u001b[38;5;66;03m#  InvalidIndexError. Otherwise we fall through and re-raise\u001b[39;00m\n\u001b[0;32m   3808\u001b[0m     \u001b[38;5;66;03m#  the TypeError.\u001b[39;00m\n\u001b[0;32m   3809\u001b[0m     \u001b[38;5;28mself\u001b[39m\u001b[38;5;241m.\u001b[39m_check_indexing_error(key)\n",
      "\u001b[1;31mKeyError\u001b[0m: 'Column4'"
     ]
    }
   ],
   "source": [
    "df[\"Column4\"]"
   ]
  },
  {
   "cell_type": "markdown",
   "metadata": {
    "id": "1wDW5bSPkm_C"
   },
   "source": [
    "#### Dataframe'e Sütün Ekleme"
   ]
  },
  {
   "cell_type": "code",
   "execution_count": 19,
   "metadata": {
    "executionInfo": {
     "elapsed": 270,
     "status": "ok",
     "timestamp": 1707142168546,
     "user": {
      "displayName": "Sertaç ARISOY",
      "userId": "02064369477291648466"
     },
     "user_tz": -180
    },
    "id": "KHvFMeDGkm_C"
   },
   "outputs": [],
   "source": [
    "df[\"Column4\"] = 0"
   ]
  },
  {
   "cell_type": "code",
   "execution_count": 20,
   "metadata": {
    "colab": {
     "base_uri": "https://localhost:8080/",
     "height": 143
    },
    "executionInfo": {
     "elapsed": 297,
     "status": "ok",
     "timestamp": 1707142170056,
     "user": {
      "displayName": "Sertaç ARISOY",
      "userId": "02064369477291648466"
     },
     "user_tz": -180
    },
    "id": "jLyuyQoxkm_C",
    "outputId": "60f4c230-b11c-4922-e963-2c68f2c568a5"
   },
   "outputs": [
    {
     "data": {
      "text/html": [
       "<div>\n",
       "<style scoped>\n",
       "    .dataframe tbody tr th:only-of-type {\n",
       "        vertical-align: middle;\n",
       "    }\n",
       "\n",
       "    .dataframe tbody tr th {\n",
       "        vertical-align: top;\n",
       "    }\n",
       "\n",
       "    .dataframe thead th {\n",
       "        text-align: right;\n",
       "    }\n",
       "</style>\n",
       "<table border=\"1\" class=\"dataframe\">\n",
       "  <thead>\n",
       "    <tr style=\"text-align: right;\">\n",
       "      <th></th>\n",
       "      <th>Column1</th>\n",
       "      <th>Column2</th>\n",
       "      <th>Column3</th>\n",
       "      <th>Column4</th>\n",
       "    </tr>\n",
       "  </thead>\n",
       "  <tbody>\n",
       "    <tr>\n",
       "      <th>A</th>\n",
       "      <td>1.020045</td>\n",
       "      <td>0.964998</td>\n",
       "      <td>1.385383</td>\n",
       "      <td>0</td>\n",
       "    </tr>\n",
       "    <tr>\n",
       "      <th>B</th>\n",
       "      <td>-0.875599</td>\n",
       "      <td>-1.149330</td>\n",
       "      <td>-0.817648</td>\n",
       "      <td>0</td>\n",
       "    </tr>\n",
       "    <tr>\n",
       "      <th>C</th>\n",
       "      <td>0.615912</td>\n",
       "      <td>0.231193</td>\n",
       "      <td>1.318507</td>\n",
       "      <td>0</td>\n",
       "    </tr>\n",
       "  </tbody>\n",
       "</table>\n",
       "</div>"
      ],
      "text/plain": [
       "    Column1   Column2   Column3  Column4\n",
       "A  1.020045  0.964998  1.385383        0\n",
       "B -0.875599 -1.149330 -0.817648        0\n",
       "C  0.615912  0.231193  1.318507        0"
      ]
     },
     "execution_count": 20,
     "metadata": {},
     "output_type": "execute_result"
    }
   ],
   "source": [
    "df"
   ]
  },
  {
   "cell_type": "code",
   "execution_count": 21,
   "metadata": {
    "executionInfo": {
     "elapsed": 286,
     "status": "ok",
     "timestamp": 1707142172306,
     "user": {
      "displayName": "Sertaç ARISOY",
      "userId": "02064369477291648466"
     },
     "user_tz": -180
    },
    "id": "M_z0ag0jvS_Q"
   },
   "outputs": [],
   "source": [
    "df[\"Column5\"] = 1"
   ]
  },
  {
   "cell_type": "code",
   "execution_count": 22,
   "metadata": {
    "colab": {
     "base_uri": "https://localhost:8080/",
     "height": 143
    },
    "executionInfo": {
     "elapsed": 269,
     "status": "ok",
     "timestamp": 1707142180804,
     "user": {
      "displayName": "Sertaç ARISOY",
      "userId": "02064369477291648466"
     },
     "user_tz": -180
    },
    "id": "kaEsF-YavXsk",
    "outputId": "f82ef2fb-1e0f-4484-e789-b37efdabd08e"
   },
   "outputs": [
    {
     "data": {
      "text/html": [
       "<div>\n",
       "<style scoped>\n",
       "    .dataframe tbody tr th:only-of-type {\n",
       "        vertical-align: middle;\n",
       "    }\n",
       "\n",
       "    .dataframe tbody tr th {\n",
       "        vertical-align: top;\n",
       "    }\n",
       "\n",
       "    .dataframe thead th {\n",
       "        text-align: right;\n",
       "    }\n",
       "</style>\n",
       "<table border=\"1\" class=\"dataframe\">\n",
       "  <thead>\n",
       "    <tr style=\"text-align: right;\">\n",
       "      <th></th>\n",
       "      <th>Column1</th>\n",
       "      <th>Column2</th>\n",
       "      <th>Column3</th>\n",
       "      <th>Column4</th>\n",
       "      <th>Column5</th>\n",
       "    </tr>\n",
       "  </thead>\n",
       "  <tbody>\n",
       "    <tr>\n",
       "      <th>A</th>\n",
       "      <td>1.020045</td>\n",
       "      <td>0.964998</td>\n",
       "      <td>1.385383</td>\n",
       "      <td>0</td>\n",
       "      <td>1</td>\n",
       "    </tr>\n",
       "    <tr>\n",
       "      <th>B</th>\n",
       "      <td>-0.875599</td>\n",
       "      <td>-1.149330</td>\n",
       "      <td>-0.817648</td>\n",
       "      <td>0</td>\n",
       "      <td>1</td>\n",
       "    </tr>\n",
       "    <tr>\n",
       "      <th>C</th>\n",
       "      <td>0.615912</td>\n",
       "      <td>0.231193</td>\n",
       "      <td>1.318507</td>\n",
       "      <td>0</td>\n",
       "      <td>1</td>\n",
       "    </tr>\n",
       "  </tbody>\n",
       "</table>\n",
       "</div>"
      ],
      "text/plain": [
       "    Column1   Column2   Column3  Column4  Column5\n",
       "A  1.020045  0.964998  1.385383        0        1\n",
       "B -0.875599 -1.149330 -0.817648        0        1\n",
       "C  0.615912  0.231193  1.318507        0        1"
      ]
     },
     "execution_count": 22,
     "metadata": {},
     "output_type": "execute_result"
    }
   ],
   "source": [
    "df"
   ]
  },
  {
   "cell_type": "code",
   "execution_count": 23,
   "metadata": {
    "executionInfo": {
     "elapsed": 260,
     "status": "ok",
     "timestamp": 1707142184564,
     "user": {
      "displayName": "Sertaç ARISOY",
      "userId": "02064369477291648466"
     },
     "user_tz": -180
    },
    "id": "n3FcT_74km_C"
   },
   "outputs": [],
   "source": [
    "df[\"Column6\"] = df[\"Column1\"] + df[\"Column2\"] + df[\"Column3\"]"
   ]
  },
  {
   "cell_type": "code",
   "execution_count": 24,
   "metadata": {
    "colab": {
     "base_uri": "https://localhost:8080/",
     "height": 143
    },
    "executionInfo": {
     "elapsed": 284,
     "status": "ok",
     "timestamp": 1707142189007,
     "user": {
      "displayName": "Sertaç ARISOY",
      "userId": "02064369477291648466"
     },
     "user_tz": -180
    },
    "id": "5tca-rm4km_C",
    "outputId": "ffbbce4f-3bfe-4f11-a45e-9a5e9c315f91"
   },
   "outputs": [
    {
     "data": {
      "text/html": [
       "<div>\n",
       "<style scoped>\n",
       "    .dataframe tbody tr th:only-of-type {\n",
       "        vertical-align: middle;\n",
       "    }\n",
       "\n",
       "    .dataframe tbody tr th {\n",
       "        vertical-align: top;\n",
       "    }\n",
       "\n",
       "    .dataframe thead th {\n",
       "        text-align: right;\n",
       "    }\n",
       "</style>\n",
       "<table border=\"1\" class=\"dataframe\">\n",
       "  <thead>\n",
       "    <tr style=\"text-align: right;\">\n",
       "      <th></th>\n",
       "      <th>Column1</th>\n",
       "      <th>Column2</th>\n",
       "      <th>Column3</th>\n",
       "      <th>Column4</th>\n",
       "      <th>Column5</th>\n",
       "      <th>Column6</th>\n",
       "    </tr>\n",
       "  </thead>\n",
       "  <tbody>\n",
       "    <tr>\n",
       "      <th>A</th>\n",
       "      <td>1.020045</td>\n",
       "      <td>0.964998</td>\n",
       "      <td>1.385383</td>\n",
       "      <td>0</td>\n",
       "      <td>1</td>\n",
       "      <td>3.370426</td>\n",
       "    </tr>\n",
       "    <tr>\n",
       "      <th>B</th>\n",
       "      <td>-0.875599</td>\n",
       "      <td>-1.149330</td>\n",
       "      <td>-0.817648</td>\n",
       "      <td>0</td>\n",
       "      <td>1</td>\n",
       "      <td>-2.842577</td>\n",
       "    </tr>\n",
       "    <tr>\n",
       "      <th>C</th>\n",
       "      <td>0.615912</td>\n",
       "      <td>0.231193</td>\n",
       "      <td>1.318507</td>\n",
       "      <td>0</td>\n",
       "      <td>1</td>\n",
       "      <td>2.165612</td>\n",
       "    </tr>\n",
       "  </tbody>\n",
       "</table>\n",
       "</div>"
      ],
      "text/plain": [
       "    Column1   Column2   Column3  Column4  Column5   Column6\n",
       "A  1.020045  0.964998  1.385383        0        1  3.370426\n",
       "B -0.875599 -1.149330 -0.817648        0        1 -2.842577\n",
       "C  0.615912  0.231193  1.318507        0        1  2.165612"
      ]
     },
     "execution_count": 24,
     "metadata": {},
     "output_type": "execute_result"
    }
   ],
   "source": [
    "df"
   ]
  },
  {
   "cell_type": "markdown",
   "metadata": {
    "id": "6RkTM1kakm_C"
   },
   "source": [
    "#### Dataframeden Sütün Silme"
   ]
  },
  {
   "cell_type": "code",
   "execution_count": 25,
   "metadata": {
    "colab": {
     "base_uri": "https://localhost:8080/",
     "height": 143
    },
    "executionInfo": {
     "elapsed": 269,
     "status": "ok",
     "timestamp": 1707142204021,
     "user": {
      "displayName": "Sertaç ARISOY",
      "userId": "02064369477291648466"
     },
     "user_tz": -180
    },
    "id": "HQ4KbvC5km_C",
    "outputId": "8da63388-8b38-4f43-f550-2f11c1d2d569"
   },
   "outputs": [
    {
     "data": {
      "text/html": [
       "<div>\n",
       "<style scoped>\n",
       "    .dataframe tbody tr th:only-of-type {\n",
       "        vertical-align: middle;\n",
       "    }\n",
       "\n",
       "    .dataframe tbody tr th {\n",
       "        vertical-align: top;\n",
       "    }\n",
       "\n",
       "    .dataframe thead th {\n",
       "        text-align: right;\n",
       "    }\n",
       "</style>\n",
       "<table border=\"1\" class=\"dataframe\">\n",
       "  <thead>\n",
       "    <tr style=\"text-align: right;\">\n",
       "      <th></th>\n",
       "      <th>Column1</th>\n",
       "      <th>Column2</th>\n",
       "      <th>Column3</th>\n",
       "      <th>Column4</th>\n",
       "      <th>Column5</th>\n",
       "      <th>Column6</th>\n",
       "    </tr>\n",
       "  </thead>\n",
       "  <tbody>\n",
       "    <tr>\n",
       "      <th>A</th>\n",
       "      <td>1.020045</td>\n",
       "      <td>0.964998</td>\n",
       "      <td>1.385383</td>\n",
       "      <td>0</td>\n",
       "      <td>1</td>\n",
       "      <td>3.370426</td>\n",
       "    </tr>\n",
       "    <tr>\n",
       "      <th>B</th>\n",
       "      <td>-0.875599</td>\n",
       "      <td>-1.149330</td>\n",
       "      <td>-0.817648</td>\n",
       "      <td>0</td>\n",
       "      <td>1</td>\n",
       "      <td>-2.842577</td>\n",
       "    </tr>\n",
       "    <tr>\n",
       "      <th>C</th>\n",
       "      <td>0.615912</td>\n",
       "      <td>0.231193</td>\n",
       "      <td>1.318507</td>\n",
       "      <td>0</td>\n",
       "      <td>1</td>\n",
       "      <td>2.165612</td>\n",
       "    </tr>\n",
       "  </tbody>\n",
       "</table>\n",
       "</div>"
      ],
      "text/plain": [
       "    Column1   Column2   Column3  Column4  Column5   Column6\n",
       "A  1.020045  0.964998  1.385383        0        1  3.370426\n",
       "B -0.875599 -1.149330 -0.817648        0        1 -2.842577\n",
       "C  0.615912  0.231193  1.318507        0        1  2.165612"
      ]
     },
     "execution_count": 25,
     "metadata": {},
     "output_type": "execute_result"
    }
   ],
   "source": [
    "df"
   ]
  },
  {
   "cell_type": "code",
   "execution_count": 26,
   "metadata": {
    "colab": {
     "base_uri": "https://localhost:8080/",
     "height": 143
    },
    "executionInfo": {
     "elapsed": 296,
     "status": "ok",
     "timestamp": 1707142211871,
     "user": {
      "displayName": "Sertaç ARISOY",
      "userId": "02064369477291648466"
     },
     "user_tz": -180
    },
    "id": "wFRIPtAgkm_D",
    "outputId": "ac79aba0-aa01-4c05-ebf4-c92b70a572eb"
   },
   "outputs": [
    {
     "data": {
      "text/html": [
       "<div>\n",
       "<style scoped>\n",
       "    .dataframe tbody tr th:only-of-type {\n",
       "        vertical-align: middle;\n",
       "    }\n",
       "\n",
       "    .dataframe tbody tr th {\n",
       "        vertical-align: top;\n",
       "    }\n",
       "\n",
       "    .dataframe thead th {\n",
       "        text-align: right;\n",
       "    }\n",
       "</style>\n",
       "<table border=\"1\" class=\"dataframe\">\n",
       "  <thead>\n",
       "    <tr style=\"text-align: right;\">\n",
       "      <th></th>\n",
       "      <th>Column1</th>\n",
       "      <th>Column2</th>\n",
       "      <th>Column3</th>\n",
       "      <th>Column5</th>\n",
       "      <th>Column6</th>\n",
       "    </tr>\n",
       "  </thead>\n",
       "  <tbody>\n",
       "    <tr>\n",
       "      <th>A</th>\n",
       "      <td>1.020045</td>\n",
       "      <td>0.964998</td>\n",
       "      <td>1.385383</td>\n",
       "      <td>1</td>\n",
       "      <td>3.370426</td>\n",
       "    </tr>\n",
       "    <tr>\n",
       "      <th>B</th>\n",
       "      <td>-0.875599</td>\n",
       "      <td>-1.149330</td>\n",
       "      <td>-0.817648</td>\n",
       "      <td>1</td>\n",
       "      <td>-2.842577</td>\n",
       "    </tr>\n",
       "    <tr>\n",
       "      <th>C</th>\n",
       "      <td>0.615912</td>\n",
       "      <td>0.231193</td>\n",
       "      <td>1.318507</td>\n",
       "      <td>1</td>\n",
       "      <td>2.165612</td>\n",
       "    </tr>\n",
       "  </tbody>\n",
       "</table>\n",
       "</div>"
      ],
      "text/plain": [
       "    Column1   Column2   Column3  Column5   Column6\n",
       "A  1.020045  0.964998  1.385383        1  3.370426\n",
       "B -0.875599 -1.149330 -0.817648        1 -2.842577\n",
       "C  0.615912  0.231193  1.318507        1  2.165612"
      ]
     },
     "execution_count": 26,
     "metadata": {},
     "output_type": "execute_result"
    }
   ],
   "source": [
    "df.drop(\"Column4\",axis = 1) # Böyle verirsek default axis değeri 0 olduğu için index silmeye çalışacak."
   ]
  },
  {
   "cell_type": "code",
   "execution_count": 27,
   "metadata": {
    "colab": {
     "base_uri": "https://localhost:8080/",
     "height": 143
    },
    "executionInfo": {
     "elapsed": 274,
     "status": "ok",
     "timestamp": 1707142259052,
     "user": {
      "displayName": "Sertaç ARISOY",
      "userId": "02064369477291648466"
     },
     "user_tz": -180
    },
    "id": "2rqYIEtKwGPM",
    "outputId": "a871bf35-bf7d-4f8f-bfb7-2a2fe19f5748"
   },
   "outputs": [
    {
     "data": {
      "text/html": [
       "<div>\n",
       "<style scoped>\n",
       "    .dataframe tbody tr th:only-of-type {\n",
       "        vertical-align: middle;\n",
       "    }\n",
       "\n",
       "    .dataframe tbody tr th {\n",
       "        vertical-align: top;\n",
       "    }\n",
       "\n",
       "    .dataframe thead th {\n",
       "        text-align: right;\n",
       "    }\n",
       "</style>\n",
       "<table border=\"1\" class=\"dataframe\">\n",
       "  <thead>\n",
       "    <tr style=\"text-align: right;\">\n",
       "      <th></th>\n",
       "      <th>Column1</th>\n",
       "      <th>Column2</th>\n",
       "      <th>Column3</th>\n",
       "      <th>Column4</th>\n",
       "      <th>Column6</th>\n",
       "    </tr>\n",
       "  </thead>\n",
       "  <tbody>\n",
       "    <tr>\n",
       "      <th>A</th>\n",
       "      <td>1.020045</td>\n",
       "      <td>0.964998</td>\n",
       "      <td>1.385383</td>\n",
       "      <td>0</td>\n",
       "      <td>3.370426</td>\n",
       "    </tr>\n",
       "    <tr>\n",
       "      <th>B</th>\n",
       "      <td>-0.875599</td>\n",
       "      <td>-1.149330</td>\n",
       "      <td>-0.817648</td>\n",
       "      <td>0</td>\n",
       "      <td>-2.842577</td>\n",
       "    </tr>\n",
       "    <tr>\n",
       "      <th>C</th>\n",
       "      <td>0.615912</td>\n",
       "      <td>0.231193</td>\n",
       "      <td>1.318507</td>\n",
       "      <td>0</td>\n",
       "      <td>2.165612</td>\n",
       "    </tr>\n",
       "  </tbody>\n",
       "</table>\n",
       "</div>"
      ],
      "text/plain": [
       "    Column1   Column2   Column3  Column4   Column6\n",
       "A  1.020045  0.964998  1.385383        0  3.370426\n",
       "B -0.875599 -1.149330 -0.817648        0 -2.842577\n",
       "C  0.615912  0.231193  1.318507        0  2.165612"
      ]
     },
     "execution_count": 27,
     "metadata": {},
     "output_type": "execute_result"
    }
   ],
   "source": [
    "df.drop(\"Column5\",axis = 1)"
   ]
  },
  {
   "cell_type": "code",
   "execution_count": 23,
   "metadata": {
    "colab": {
     "base_uri": "https://localhost:8080/",
     "height": 143
    },
    "executionInfo": {
     "elapsed": 276,
     "status": "ok",
     "timestamp": 1707142263428,
     "user": {
      "displayName": "Sertaç ARISOY",
      "userId": "02064369477291648466"
     },
     "user_tz": -180
    },
    "id": "Ufw2h2tlwJS1",
    "outputId": "9b108bf6-eba5-4123-97bf-239b9f38face"
   },
   "outputs": [
    {
     "data": {
      "text/html": [
       "<div>\n",
       "<style scoped>\n",
       "    .dataframe tbody tr th:only-of-type {\n",
       "        vertical-align: middle;\n",
       "    }\n",
       "\n",
       "    .dataframe tbody tr th {\n",
       "        vertical-align: top;\n",
       "    }\n",
       "\n",
       "    .dataframe thead th {\n",
       "        text-align: right;\n",
       "    }\n",
       "</style>\n",
       "<table border=\"1\" class=\"dataframe\">\n",
       "  <thead>\n",
       "    <tr style=\"text-align: right;\">\n",
       "      <th></th>\n",
       "      <th>Column1</th>\n",
       "      <th>Column2</th>\n",
       "      <th>Column3</th>\n",
       "      <th>Column4</th>\n",
       "      <th>Column5</th>\n",
       "      <th>Column6</th>\n",
       "    </tr>\n",
       "  </thead>\n",
       "  <tbody>\n",
       "    <tr>\n",
       "      <th>A</th>\n",
       "      <td>0.837806</td>\n",
       "      <td>0.433342</td>\n",
       "      <td>1.791375</td>\n",
       "      <td>0</td>\n",
       "      <td>1</td>\n",
       "      <td>3.062522</td>\n",
       "    </tr>\n",
       "    <tr>\n",
       "      <th>B</th>\n",
       "      <td>0.182460</td>\n",
       "      <td>-1.618616</td>\n",
       "      <td>0.064771</td>\n",
       "      <td>0</td>\n",
       "      <td>1</td>\n",
       "      <td>-1.371384</td>\n",
       "    </tr>\n",
       "    <tr>\n",
       "      <th>C</th>\n",
       "      <td>0.323961</td>\n",
       "      <td>1.720074</td>\n",
       "      <td>2.577723</td>\n",
       "      <td>0</td>\n",
       "      <td>1</td>\n",
       "      <td>4.621757</td>\n",
       "    </tr>\n",
       "  </tbody>\n",
       "</table>\n",
       "</div>"
      ],
      "text/plain": [
       "    Column1   Column2   Column3  Column4  Column5   Column6\n",
       "A  0.837806  0.433342  1.791375        0        1  3.062522\n",
       "B  0.182460 -1.618616  0.064771        0        1 -1.371384\n",
       "C  0.323961  1.720074  2.577723        0        1  4.621757"
      ]
     },
     "execution_count": 23,
     "metadata": {},
     "output_type": "execute_result"
    }
   ],
   "source": [
    "df"
   ]
  },
  {
   "cell_type": "code",
   "execution_count": 24,
   "metadata": {
    "colab": {
     "base_uri": "https://localhost:8080/",
     "height": 143
    },
    "executionInfo": {
     "elapsed": 270,
     "status": "ok",
     "timestamp": 1707142272331,
     "user": {
      "displayName": "Sertaç ARISOY",
      "userId": "02064369477291648466"
     },
     "user_tz": -180
    },
    "id": "W5PzQj6hkm_D",
    "outputId": "ccc2d0ac-6293-4057-ca0d-d194e16fb0c8"
   },
   "outputs": [
    {
     "data": {
      "text/html": [
       "<div>\n",
       "<style scoped>\n",
       "    .dataframe tbody tr th:only-of-type {\n",
       "        vertical-align: middle;\n",
       "    }\n",
       "\n",
       "    .dataframe tbody tr th {\n",
       "        vertical-align: top;\n",
       "    }\n",
       "\n",
       "    .dataframe thead th {\n",
       "        text-align: right;\n",
       "    }\n",
       "</style>\n",
       "<table border=\"1\" class=\"dataframe\">\n",
       "  <thead>\n",
       "    <tr style=\"text-align: right;\">\n",
       "      <th></th>\n",
       "      <th>Column1</th>\n",
       "      <th>Column2</th>\n",
       "      <th>Column3</th>\n",
       "      <th>Column4</th>\n",
       "      <th>Column6</th>\n",
       "    </tr>\n",
       "  </thead>\n",
       "  <tbody>\n",
       "    <tr>\n",
       "      <th>A</th>\n",
       "      <td>0.837806</td>\n",
       "      <td>0.433342</td>\n",
       "      <td>1.791375</td>\n",
       "      <td>0</td>\n",
       "      <td>3.062522</td>\n",
       "    </tr>\n",
       "    <tr>\n",
       "      <th>B</th>\n",
       "      <td>0.182460</td>\n",
       "      <td>-1.618616</td>\n",
       "      <td>0.064771</td>\n",
       "      <td>0</td>\n",
       "      <td>-1.371384</td>\n",
       "    </tr>\n",
       "    <tr>\n",
       "      <th>C</th>\n",
       "      <td>0.323961</td>\n",
       "      <td>1.720074</td>\n",
       "      <td>2.577723</td>\n",
       "      <td>0</td>\n",
       "      <td>4.621757</td>\n",
       "    </tr>\n",
       "  </tbody>\n",
       "</table>\n",
       "</div>"
      ],
      "text/plain": [
       "    Column1   Column2   Column3  Column4   Column6\n",
       "A  0.837806  0.433342  1.791375        0  3.062522\n",
       "B  0.182460 -1.618616  0.064771        0 -1.371384\n",
       "C  0.323961  1.720074  2.577723        0  4.621757"
      ]
     },
     "execution_count": 24,
     "metadata": {},
     "output_type": "execute_result"
    }
   ],
   "source": [
    "df.drop(\"Column5\",axis = 1)"
   ]
  },
  {
   "cell_type": "code",
   "execution_count": 28,
   "metadata": {
    "colab": {
     "base_uri": "https://localhost:8080/",
     "height": 143
    },
    "executionInfo": {
     "elapsed": 285,
     "status": "ok",
     "timestamp": 1707142275486,
     "user": {
      "displayName": "Sertaç ARISOY",
      "userId": "02064369477291648466"
     },
     "user_tz": -180
    },
    "id": "TfyW89bnkm_D",
    "outputId": "8e7473be-c730-4fe2-9c19-11f94de9d235"
   },
   "outputs": [
    {
     "data": {
      "text/html": [
       "<div>\n",
       "<style scoped>\n",
       "    .dataframe tbody tr th:only-of-type {\n",
       "        vertical-align: middle;\n",
       "    }\n",
       "\n",
       "    .dataframe tbody tr th {\n",
       "        vertical-align: top;\n",
       "    }\n",
       "\n",
       "    .dataframe thead th {\n",
       "        text-align: right;\n",
       "    }\n",
       "</style>\n",
       "<table border=\"1\" class=\"dataframe\">\n",
       "  <thead>\n",
       "    <tr style=\"text-align: right;\">\n",
       "      <th></th>\n",
       "      <th>Column1</th>\n",
       "      <th>Column2</th>\n",
       "      <th>Column3</th>\n",
       "      <th>Column4</th>\n",
       "      <th>Column5</th>\n",
       "      <th>Column6</th>\n",
       "    </tr>\n",
       "  </thead>\n",
       "  <tbody>\n",
       "    <tr>\n",
       "      <th>A</th>\n",
       "      <td>1.020045</td>\n",
       "      <td>0.964998</td>\n",
       "      <td>1.385383</td>\n",
       "      <td>0</td>\n",
       "      <td>1</td>\n",
       "      <td>3.370426</td>\n",
       "    </tr>\n",
       "    <tr>\n",
       "      <th>B</th>\n",
       "      <td>-0.875599</td>\n",
       "      <td>-1.149330</td>\n",
       "      <td>-0.817648</td>\n",
       "      <td>0</td>\n",
       "      <td>1</td>\n",
       "      <td>-2.842577</td>\n",
       "    </tr>\n",
       "    <tr>\n",
       "      <th>C</th>\n",
       "      <td>0.615912</td>\n",
       "      <td>0.231193</td>\n",
       "      <td>1.318507</td>\n",
       "      <td>0</td>\n",
       "      <td>1</td>\n",
       "      <td>2.165612</td>\n",
       "    </tr>\n",
       "  </tbody>\n",
       "</table>\n",
       "</div>"
      ],
      "text/plain": [
       "    Column1   Column2   Column3  Column4  Column5   Column6\n",
       "A  1.020045  0.964998  1.385383        0        1  3.370426\n",
       "B -0.875599 -1.149330 -0.817648        0        1 -2.842577\n",
       "C  0.615912  0.231193  1.318507        0        1  2.165612"
      ]
     },
     "execution_count": 28,
     "metadata": {},
     "output_type": "execute_result"
    }
   ],
   "source": [
    "df # değişiklikler yansımadı."
   ]
  },
  {
   "cell_type": "code",
   "execution_count": 29,
   "metadata": {
    "executionInfo": {
     "elapsed": 266,
     "status": "ok",
     "timestamp": 1707142280321,
     "user": {
      "displayName": "Sertaç ARISOY",
      "userId": "02064369477291648466"
     },
     "user_tz": -180
    },
    "id": "es70O7p5km_D"
   },
   "outputs": [],
   "source": [
    "df.drop(\"Column4\",axis = 1,inplace=True)"
   ]
  },
  {
   "cell_type": "code",
   "execution_count": 30,
   "metadata": {
    "colab": {
     "base_uri": "https://localhost:8080/",
     "height": 143
    },
    "executionInfo": {
     "elapsed": 5,
     "status": "ok",
     "timestamp": 1681223947268,
     "user": {
      "displayName": "Arcibiyo",
      "userId": "09818246554955965434"
     },
     "user_tz": -180
    },
    "id": "ioWqKwHHkm_D",
    "outputId": "d1cf075d-815c-4afd-f35b-914462c74b9c"
   },
   "outputs": [
    {
     "data": {
      "text/html": [
       "<div>\n",
       "<style scoped>\n",
       "    .dataframe tbody tr th:only-of-type {\n",
       "        vertical-align: middle;\n",
       "    }\n",
       "\n",
       "    .dataframe tbody tr th {\n",
       "        vertical-align: top;\n",
       "    }\n",
       "\n",
       "    .dataframe thead th {\n",
       "        text-align: right;\n",
       "    }\n",
       "</style>\n",
       "<table border=\"1\" class=\"dataframe\">\n",
       "  <thead>\n",
       "    <tr style=\"text-align: right;\">\n",
       "      <th></th>\n",
       "      <th>Column1</th>\n",
       "      <th>Column2</th>\n",
       "      <th>Column3</th>\n",
       "      <th>Column5</th>\n",
       "      <th>Column6</th>\n",
       "    </tr>\n",
       "  </thead>\n",
       "  <tbody>\n",
       "    <tr>\n",
       "      <th>A</th>\n",
       "      <td>1.020045</td>\n",
       "      <td>0.964998</td>\n",
       "      <td>1.385383</td>\n",
       "      <td>1</td>\n",
       "      <td>3.370426</td>\n",
       "    </tr>\n",
       "    <tr>\n",
       "      <th>B</th>\n",
       "      <td>-0.875599</td>\n",
       "      <td>-1.149330</td>\n",
       "      <td>-0.817648</td>\n",
       "      <td>1</td>\n",
       "      <td>-2.842577</td>\n",
       "    </tr>\n",
       "    <tr>\n",
       "      <th>C</th>\n",
       "      <td>0.615912</td>\n",
       "      <td>0.231193</td>\n",
       "      <td>1.318507</td>\n",
       "      <td>1</td>\n",
       "      <td>2.165612</td>\n",
       "    </tr>\n",
       "  </tbody>\n",
       "</table>\n",
       "</div>"
      ],
      "text/plain": [
       "    Column1   Column2   Column3  Column5   Column6\n",
       "A  1.020045  0.964998  1.385383        1  3.370426\n",
       "B -0.875599 -1.149330 -0.817648        1 -2.842577\n",
       "C  0.615912  0.231193  1.318507        1  2.165612"
      ]
     },
     "execution_count": 30,
     "metadata": {},
     "output_type": "execute_result"
    }
   ],
   "source": [
    "df # Değişiklikler yansıdı."
   ]
  },
  {
   "cell_type": "markdown",
   "metadata": {
    "id": "Xsv8CxE9km_E"
   },
   "source": [
    "#### Loc ve ILoc"
   ]
  },
  {
   "cell_type": "code",
   "execution_count": 32,
   "metadata": {
    "colab": {
     "base_uri": "https://localhost:8080/",
     "height": 143
    },
    "executionInfo": {
     "elapsed": 335,
     "status": "ok",
     "timestamp": 1707142289366,
     "user": {
      "displayName": "Sertaç ARISOY",
      "userId": "02064369477291648466"
     },
     "user_tz": -180
    },
    "id": "Z4DTCwtnkm_E",
    "outputId": "68092194-a063-42b7-ed82-1fd8b784640c"
   },
   "outputs": [
    {
     "data": {
      "text/html": [
       "<div>\n",
       "<style scoped>\n",
       "    .dataframe tbody tr th:only-of-type {\n",
       "        vertical-align: middle;\n",
       "    }\n",
       "\n",
       "    .dataframe tbody tr th {\n",
       "        vertical-align: top;\n",
       "    }\n",
       "\n",
       "    .dataframe thead th {\n",
       "        text-align: right;\n",
       "    }\n",
       "</style>\n",
       "<table border=\"1\" class=\"dataframe\">\n",
       "  <thead>\n",
       "    <tr style=\"text-align: right;\">\n",
       "      <th></th>\n",
       "      <th>Column1</th>\n",
       "      <th>Column2</th>\n",
       "      <th>Column3</th>\n",
       "      <th>Column5</th>\n",
       "      <th>Column6</th>\n",
       "    </tr>\n",
       "  </thead>\n",
       "  <tbody>\n",
       "    <tr>\n",
       "      <th>A</th>\n",
       "      <td>1.020045</td>\n",
       "      <td>0.964998</td>\n",
       "      <td>1.385383</td>\n",
       "      <td>1</td>\n",
       "      <td>3.370426</td>\n",
       "    </tr>\n",
       "    <tr>\n",
       "      <th>B</th>\n",
       "      <td>-0.875599</td>\n",
       "      <td>-1.149330</td>\n",
       "      <td>-0.817648</td>\n",
       "      <td>1</td>\n",
       "      <td>-2.842577</td>\n",
       "    </tr>\n",
       "    <tr>\n",
       "      <th>C</th>\n",
       "      <td>0.615912</td>\n",
       "      <td>0.231193</td>\n",
       "      <td>1.318507</td>\n",
       "      <td>1</td>\n",
       "      <td>2.165612</td>\n",
       "    </tr>\n",
       "  </tbody>\n",
       "</table>\n",
       "</div>"
      ],
      "text/plain": [
       "    Column1   Column2   Column3  Column5   Column6\n",
       "A  1.020045  0.964998  1.385383        1  3.370426\n",
       "B -0.875599 -1.149330 -0.817648        1 -2.842577\n",
       "C  0.615912  0.231193  1.318507        1  2.165612"
      ]
     },
     "execution_count": 32,
     "metadata": {},
     "output_type": "execute_result"
    }
   ],
   "source": [
    "df"
   ]
  },
  {
   "cell_type": "code",
   "execution_count": 33,
   "metadata": {
    "colab": {
     "base_uri": "https://localhost:8080/",
     "height": 143
    },
    "executionInfo": {
     "elapsed": 265,
     "status": "ok",
     "timestamp": 1707142292648,
     "user": {
      "displayName": "Sertaç ARISOY",
      "userId": "02064369477291648466"
     },
     "user_tz": -180
    },
    "id": "sfRbUizukm_E",
    "outputId": "4eeb8001-b219-4a57-fd53-bfd9988148b8",
    "scrolled": true
   },
   "outputs": [
    {
     "data": {
      "text/html": [
       "<div>\n",
       "<style scoped>\n",
       "    .dataframe tbody tr th:only-of-type {\n",
       "        vertical-align: middle;\n",
       "    }\n",
       "\n",
       "    .dataframe tbody tr th {\n",
       "        vertical-align: top;\n",
       "    }\n",
       "\n",
       "    .dataframe thead th {\n",
       "        text-align: right;\n",
       "    }\n",
       "</style>\n",
       "<table border=\"1\" class=\"dataframe\">\n",
       "  <thead>\n",
       "    <tr style=\"text-align: right;\">\n",
       "      <th></th>\n",
       "      <th>Column1</th>\n",
       "      <th>Column2</th>\n",
       "    </tr>\n",
       "  </thead>\n",
       "  <tbody>\n",
       "    <tr>\n",
       "      <th>A</th>\n",
       "      <td>1.020045</td>\n",
       "      <td>0.964998</td>\n",
       "    </tr>\n",
       "    <tr>\n",
       "      <th>B</th>\n",
       "      <td>-0.875599</td>\n",
       "      <td>-1.149330</td>\n",
       "    </tr>\n",
       "    <tr>\n",
       "      <th>C</th>\n",
       "      <td>0.615912</td>\n",
       "      <td>0.231193</td>\n",
       "    </tr>\n",
       "  </tbody>\n",
       "</table>\n",
       "</div>"
      ],
      "text/plain": [
       "    Column1   Column2\n",
       "A  1.020045  0.964998\n",
       "B -0.875599 -1.149330\n",
       "C  0.615912  0.231193"
      ]
     },
     "execution_count": 33,
     "metadata": {},
     "output_type": "execute_result"
    }
   ],
   "source": [
    "df[[\"Column1\",\"Column2\"]]"
   ]
  },
  {
   "cell_type": "code",
   "execution_count": 30,
   "metadata": {
    "colab": {
     "base_uri": "https://localhost:8080/"
    },
    "executionInfo": {
     "elapsed": 265,
     "status": "ok",
     "timestamp": 1707142299261,
     "user": {
      "displayName": "Sertaç ARISOY",
      "userId": "02064369477291648466"
     },
     "user_tz": -180
    },
    "id": "lZYsBl6Ykm_E",
    "outputId": "ee8b371c-97a2-4202-81b0-1e6c4e0cce97"
   },
   "outputs": [
    {
     "data": {
      "text/plain": [
       "Column1    0.182460\n",
       "Column2   -1.618616\n",
       "Column3    0.064771\n",
       "Column5    1.000000\n",
       "Column6   -1.371384\n",
       "Name: B, dtype: float64"
      ]
     },
     "execution_count": 30,
     "metadata": {},
     "output_type": "execute_result"
    }
   ],
   "source": [
    "df.loc[\"B\"]"
   ]
  },
  {
   "cell_type": "code",
   "execution_count": 35,
   "metadata": {
    "colab": {
     "base_uri": "https://localhost:8080/"
    },
    "executionInfo": {
     "elapsed": 309,
     "status": "ok",
     "timestamp": 1707142412665,
     "user": {
      "displayName": "Sertaç ARISOY",
      "userId": "02064369477291648466"
     },
     "user_tz": -180
    },
    "id": "nDfl7E_Akm_E",
    "outputId": "6218f6b0-7c2b-4ac9-e347-a4bedd4574a1"
   },
   "outputs": [
    {
     "data": {
      "text/plain": [
       "Column1    1.020045\n",
       "Column2    0.964998\n",
       "Column3    1.385383\n",
       "Column5    1.000000\n",
       "Column6    3.370426\n",
       "Name: A, dtype: float64"
      ]
     },
     "execution_count": 35,
     "metadata": {},
     "output_type": "execute_result"
    }
   ],
   "source": [
    "df.iloc[0] # 1.index yani B"
   ]
  },
  {
   "cell_type": "code",
   "execution_count": 37,
   "metadata": {
    "colab": {
     "base_uri": "https://localhost:8080/",
     "height": 143
    },
    "executionInfo": {
     "elapsed": 278,
     "status": "ok",
     "timestamp": 1707142418659,
     "user": {
      "displayName": "Sertaç ARISOY",
      "userId": "02064369477291648466"
     },
     "user_tz": -180
    },
    "id": "94Hahtpywyu8",
    "outputId": "1ecdd92c-1f51-4927-a687-2fe002b10821"
   },
   "outputs": [
    {
     "data": {
      "text/html": [
       "<div>\n",
       "<style scoped>\n",
       "    .dataframe tbody tr th:only-of-type {\n",
       "        vertical-align: middle;\n",
       "    }\n",
       "\n",
       "    .dataframe tbody tr th {\n",
       "        vertical-align: top;\n",
       "    }\n",
       "\n",
       "    .dataframe thead th {\n",
       "        text-align: right;\n",
       "    }\n",
       "</style>\n",
       "<table border=\"1\" class=\"dataframe\">\n",
       "  <thead>\n",
       "    <tr style=\"text-align: right;\">\n",
       "      <th></th>\n",
       "      <th>Column1</th>\n",
       "      <th>Column2</th>\n",
       "      <th>Column3</th>\n",
       "      <th>Column5</th>\n",
       "      <th>Column6</th>\n",
       "    </tr>\n",
       "  </thead>\n",
       "  <tbody>\n",
       "    <tr>\n",
       "      <th>A</th>\n",
       "      <td>1.020045</td>\n",
       "      <td>0.964998</td>\n",
       "      <td>1.385383</td>\n",
       "      <td>1</td>\n",
       "      <td>3.370426</td>\n",
       "    </tr>\n",
       "    <tr>\n",
       "      <th>B</th>\n",
       "      <td>-0.875599</td>\n",
       "      <td>-1.149330</td>\n",
       "      <td>-0.817648</td>\n",
       "      <td>1</td>\n",
       "      <td>-2.842577</td>\n",
       "    </tr>\n",
       "    <tr>\n",
       "      <th>C</th>\n",
       "      <td>0.615912</td>\n",
       "      <td>0.231193</td>\n",
       "      <td>1.318507</td>\n",
       "      <td>1</td>\n",
       "      <td>2.165612</td>\n",
       "    </tr>\n",
       "  </tbody>\n",
       "</table>\n",
       "</div>"
      ],
      "text/plain": [
       "    Column1   Column2   Column3  Column5   Column6\n",
       "A  1.020045  0.964998  1.385383        1  3.370426\n",
       "B -0.875599 -1.149330 -0.817648        1 -2.842577\n",
       "C  0.615912  0.231193  1.318507        1  2.165612"
      ]
     },
     "execution_count": 37,
     "metadata": {},
     "output_type": "execute_result"
    }
   ],
   "source": [
    "df"
   ]
  },
  {
   "cell_type": "code",
   "execution_count": 38,
   "metadata": {
    "colab": {
     "base_uri": "https://localhost:8080/"
    },
    "executionInfo": {
     "elapsed": 269,
     "status": "ok",
     "timestamp": 1707142429397,
     "user": {
      "displayName": "Sertaç ARISOY",
      "userId": "02064369477291648466"
     },
     "user_tz": -180
    },
    "id": "E3-hSQXUkm_F",
    "outputId": "22d9d8cd-2b46-4ae4-b30b-50b5ad9d1a18"
   },
   "outputs": [
    {
     "data": {
      "text/plain": [
       "1.0200448044633057"
      ]
     },
     "execution_count": 38,
     "metadata": {},
     "output_type": "execute_result"
    }
   ],
   "source": [
    "df.loc[\"A\",\"Column1\"]"
   ]
  },
  {
   "cell_type": "code",
   "execution_count": 39,
   "metadata": {
    "colab": {
     "base_uri": "https://localhost:8080/"
    },
    "executionInfo": {
     "elapsed": 1,
     "status": "ok",
     "timestamp": 1707142431263,
     "user": {
      "displayName": "Sertaç ARISOY",
      "userId": "02064369477291648466"
     },
     "user_tz": -180
    },
    "id": "eULLdJ-Jkm_F",
    "outputId": "0140f626-4907-49e6-ce6b-6f1384e10c56"
   },
   "outputs": [
    {
     "data": {
      "text/plain": [
       "-1.1493300008357699"
      ]
     },
     "execution_count": 39,
     "metadata": {},
     "output_type": "execute_result"
    }
   ],
   "source": [
    "df.loc[\"B\",\"Column2\"]"
   ]
  },
  {
   "cell_type": "code",
   "execution_count": 40,
   "metadata": {
    "colab": {
     "base_uri": "https://localhost:8080/",
     "height": 112
    },
    "executionInfo": {
     "elapsed": 305,
     "status": "ok",
     "timestamp": 1707142434502,
     "user": {
      "displayName": "Sertaç ARISOY",
      "userId": "02064369477291648466"
     },
     "user_tz": -180
    },
    "id": "mZVi2MbKkm_F",
    "outputId": "f78717d4-b5ab-4b7a-daae-5f11aa344d65"
   },
   "outputs": [
    {
     "data": {
      "text/html": [
       "<div>\n",
       "<style scoped>\n",
       "    .dataframe tbody tr th:only-of-type {\n",
       "        vertical-align: middle;\n",
       "    }\n",
       "\n",
       "    .dataframe tbody tr th {\n",
       "        vertical-align: top;\n",
       "    }\n",
       "\n",
       "    .dataframe thead th {\n",
       "        text-align: right;\n",
       "    }\n",
       "</style>\n",
       "<table border=\"1\" class=\"dataframe\">\n",
       "  <thead>\n",
       "    <tr style=\"text-align: right;\">\n",
       "      <th></th>\n",
       "      <th>Column1</th>\n",
       "      <th>Column2</th>\n",
       "    </tr>\n",
       "  </thead>\n",
       "  <tbody>\n",
       "    <tr>\n",
       "      <th>A</th>\n",
       "      <td>1.020045</td>\n",
       "      <td>0.964998</td>\n",
       "    </tr>\n",
       "    <tr>\n",
       "      <th>B</th>\n",
       "      <td>-0.875599</td>\n",
       "      <td>-1.149330</td>\n",
       "    </tr>\n",
       "  </tbody>\n",
       "</table>\n",
       "</div>"
      ],
      "text/plain": [
       "    Column1   Column2\n",
       "A  1.020045  0.964998\n",
       "B -0.875599 -1.149330"
      ]
     },
     "execution_count": 40,
     "metadata": {},
     "output_type": "execute_result"
    }
   ],
   "source": [
    "df.loc[[\"A\",\"B\"],[\"Column1\",\"Column2\"]]"
   ]
  },
  {
   "cell_type": "code",
   "execution_count": 41,
   "metadata": {
    "colab": {
     "base_uri": "https://localhost:8080/",
     "height": 143
    },
    "executionInfo": {
     "elapsed": 294,
     "status": "ok",
     "timestamp": 1707142438171,
     "user": {
      "displayName": "Sertaç ARISOY",
      "userId": "02064369477291648466"
     },
     "user_tz": -180
    },
    "id": "rKdYLZ9ukm_F",
    "outputId": "6f5da54d-ef78-4433-82ad-16931bc1f240"
   },
   "outputs": [
    {
     "data": {
      "text/html": [
       "<div>\n",
       "<style scoped>\n",
       "    .dataframe tbody tr th:only-of-type {\n",
       "        vertical-align: middle;\n",
       "    }\n",
       "\n",
       "    .dataframe tbody tr th {\n",
       "        vertical-align: top;\n",
       "    }\n",
       "\n",
       "    .dataframe thead th {\n",
       "        text-align: right;\n",
       "    }\n",
       "</style>\n",
       "<table border=\"1\" class=\"dataframe\">\n",
       "  <thead>\n",
       "    <tr style=\"text-align: right;\">\n",
       "      <th></th>\n",
       "      <th>Column1</th>\n",
       "      <th>Column2</th>\n",
       "      <th>Column3</th>\n",
       "      <th>Column5</th>\n",
       "      <th>Column6</th>\n",
       "    </tr>\n",
       "  </thead>\n",
       "  <tbody>\n",
       "    <tr>\n",
       "      <th>A</th>\n",
       "      <td>1.020045</td>\n",
       "      <td>0.964998</td>\n",
       "      <td>1.385383</td>\n",
       "      <td>1</td>\n",
       "      <td>3.370426</td>\n",
       "    </tr>\n",
       "    <tr>\n",
       "      <th>B</th>\n",
       "      <td>-0.875599</td>\n",
       "      <td>-1.149330</td>\n",
       "      <td>-0.817648</td>\n",
       "      <td>1</td>\n",
       "      <td>-2.842577</td>\n",
       "    </tr>\n",
       "    <tr>\n",
       "      <th>C</th>\n",
       "      <td>0.615912</td>\n",
       "      <td>0.231193</td>\n",
       "      <td>1.318507</td>\n",
       "      <td>1</td>\n",
       "      <td>2.165612</td>\n",
       "    </tr>\n",
       "  </tbody>\n",
       "</table>\n",
       "</div>"
      ],
      "text/plain": [
       "    Column1   Column2   Column3  Column5   Column6\n",
       "A  1.020045  0.964998  1.385383        1  3.370426\n",
       "B -0.875599 -1.149330 -0.817648        1 -2.842577\n",
       "C  0.615912  0.231193  1.318507        1  2.165612"
      ]
     },
     "execution_count": 41,
     "metadata": {},
     "output_type": "execute_result"
    }
   ],
   "source": [
    "df"
   ]
  },
  {
   "cell_type": "code",
   "execution_count": 45,
   "metadata": {
    "colab": {
     "base_uri": "https://localhost:8080/",
     "height": 112
    },
    "executionInfo": {
     "elapsed": 860,
     "status": "ok",
     "timestamp": 1681224205728,
     "user": {
      "displayName": "Arcibiyo",
      "userId": "09818246554955965434"
     },
     "user_tz": -180
    },
    "id": "LlxH_Vl7w-6N",
    "outputId": "c7f07dc1-faa0-4770-b83c-36b46bb3aa58"
   },
   "outputs": [
    {
     "data": {
      "text/html": [
       "<div>\n",
       "<style scoped>\n",
       "    .dataframe tbody tr th:only-of-type {\n",
       "        vertical-align: middle;\n",
       "    }\n",
       "\n",
       "    .dataframe tbody tr th {\n",
       "        vertical-align: top;\n",
       "    }\n",
       "\n",
       "    .dataframe thead th {\n",
       "        text-align: right;\n",
       "    }\n",
       "</style>\n",
       "<table border=\"1\" class=\"dataframe\">\n",
       "  <thead>\n",
       "    <tr style=\"text-align: right;\">\n",
       "      <th></th>\n",
       "      <th>Column1</th>\n",
       "      <th>Column2</th>\n",
       "    </tr>\n",
       "  </thead>\n",
       "  <tbody>\n",
       "    <tr>\n",
       "      <th>A</th>\n",
       "      <td>1.020045</td>\n",
       "      <td>0.964998</td>\n",
       "    </tr>\n",
       "    <tr>\n",
       "      <th>B</th>\n",
       "      <td>-0.875599</td>\n",
       "      <td>-1.149330</td>\n",
       "    </tr>\n",
       "  </tbody>\n",
       "</table>\n",
       "</div>"
      ],
      "text/plain": [
       "    Column1   Column2\n",
       "A  1.020045  0.964998\n",
       "B -0.875599 -1.149330"
      ]
     },
     "execution_count": 45,
     "metadata": {},
     "output_type": "execute_result"
    }
   ],
   "source": [
    "df.iloc[0:2,0:2]"
   ]
  },
  {
   "cell_type": "code",
   "execution_count": null,
   "metadata": {},
   "outputs": [],
   "source": []
  }
 ],
 "metadata": {
  "colab": {
   "provenance": []
  },
  "kernelspec": {
   "display_name": "Python 3 (ipykernel)",
   "language": "python",
   "name": "python3"
  },
  "language_info": {
   "codemirror_mode": {
    "name": "ipython",
    "version": 3
   },
   "file_extension": ".py",
   "mimetype": "text/x-python",
   "name": "python",
   "nbconvert_exporter": "python",
   "pygments_lexer": "ipython3",
   "version": "3.10.9"
  }
 },
 "nbformat": 4,
 "nbformat_minor": 1
}
