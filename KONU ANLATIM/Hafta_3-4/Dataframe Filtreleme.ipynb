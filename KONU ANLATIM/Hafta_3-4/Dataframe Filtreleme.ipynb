{
 "cells": [
  {
   "cell_type": "code",
   "execution_count": 1,
   "metadata": {
    "executionInfo": {
     "elapsed": 432,
     "status": "ok",
     "timestamp": 1707142539672,
     "user": {
      "displayName": "Sertaç ARISOY",
      "userId": "02064369477291648466"
     },
     "user_tz": -180
    },
    "id": "k_34wghVxhKA"
   },
   "outputs": [],
   "source": [
    "import numpy as np\n",
    "import pandas as pd\n",
    "\n",
    "from numpy.random import randn"
   ]
  },
  {
   "cell_type": "code",
   "execution_count": 2,
   "metadata": {
    "executionInfo": {
     "elapsed": 297,
     "status": "ok",
     "timestamp": 1707142547607,
     "user": {
      "displayName": "Sertaç ARISOY",
      "userId": "02064369477291648466"
     },
     "user_tz": -180
    },
    "id": "-gilEmkrxhKE"
   },
   "outputs": [],
   "source": [
    "df = pd.DataFrame(randn(4,3),[\"A\",\"B\",\"C\",\"D\"],[\"Column1\",\"Column2\",\"Column3\"])"
   ]
  },
  {
   "cell_type": "code",
   "execution_count": 3,
   "metadata": {
    "colab": {
     "base_uri": "https://localhost:8080/",
     "height": 175
    },
    "executionInfo": {
     "elapsed": 273,
     "status": "ok",
     "timestamp": 1707142574087,
     "user": {
      "displayName": "Sertaç ARISOY",
      "userId": "02064369477291648466"
     },
     "user_tz": -180
    },
    "id": "Ifcc1hinxhKF",
    "outputId": "dacf8cfe-eec2-4f82-a6db-170829c685f1"
   },
   "outputs": [
    {
     "data": {
      "text/html": [
       "<div>\n",
       "<style scoped>\n",
       "    .dataframe tbody tr th:only-of-type {\n",
       "        vertical-align: middle;\n",
       "    }\n",
       "\n",
       "    .dataframe tbody tr th {\n",
       "        vertical-align: top;\n",
       "    }\n",
       "\n",
       "    .dataframe thead th {\n",
       "        text-align: right;\n",
       "    }\n",
       "</style>\n",
       "<table border=\"1\" class=\"dataframe\">\n",
       "  <thead>\n",
       "    <tr style=\"text-align: right;\">\n",
       "      <th></th>\n",
       "      <th>Column1</th>\n",
       "      <th>Column2</th>\n",
       "      <th>Column3</th>\n",
       "    </tr>\n",
       "  </thead>\n",
       "  <tbody>\n",
       "    <tr>\n",
       "      <th>A</th>\n",
       "      <td>-0.704980</td>\n",
       "      <td>-1.873072</td>\n",
       "      <td>-0.171943</td>\n",
       "    </tr>\n",
       "    <tr>\n",
       "      <th>B</th>\n",
       "      <td>-1.596641</td>\n",
       "      <td>-0.482766</td>\n",
       "      <td>-1.738505</td>\n",
       "    </tr>\n",
       "    <tr>\n",
       "      <th>C</th>\n",
       "      <td>-0.360503</td>\n",
       "      <td>0.020648</td>\n",
       "      <td>1.038469</td>\n",
       "    </tr>\n",
       "    <tr>\n",
       "      <th>D</th>\n",
       "      <td>-0.882796</td>\n",
       "      <td>0.528096</td>\n",
       "      <td>-0.631152</td>\n",
       "    </tr>\n",
       "  </tbody>\n",
       "</table>\n",
       "</div>"
      ],
      "text/plain": [
       "    Column1   Column2   Column3\n",
       "A -0.704980 -1.873072 -0.171943\n",
       "B -1.596641 -0.482766 -1.738505\n",
       "C -0.360503  0.020648  1.038469\n",
       "D -0.882796  0.528096 -0.631152"
      ]
     },
     "execution_count": 3,
     "metadata": {},
     "output_type": "execute_result"
    }
   ],
   "source": [
    "df"
   ]
  },
  {
   "cell_type": "code",
   "execution_count": 4,
   "metadata": {
    "colab": {
     "base_uri": "https://localhost:8080/",
     "height": 175
    },
    "executionInfo": {
     "elapsed": 284,
     "status": "ok",
     "timestamp": 1707142577192,
     "user": {
      "displayName": "Sertaç ARISOY",
      "userId": "02064369477291648466"
     },
     "user_tz": -180
    },
    "id": "4LlZBIzWxhKG",
    "outputId": "01c52c5a-47ba-463a-c5a1-a2f99b3e8a83"
   },
   "outputs": [
    {
     "data": {
      "text/html": [
       "<div>\n",
       "<style scoped>\n",
       "    .dataframe tbody tr th:only-of-type {\n",
       "        vertical-align: middle;\n",
       "    }\n",
       "\n",
       "    .dataframe tbody tr th {\n",
       "        vertical-align: top;\n",
       "    }\n",
       "\n",
       "    .dataframe thead th {\n",
       "        text-align: right;\n",
       "    }\n",
       "</style>\n",
       "<table border=\"1\" class=\"dataframe\">\n",
       "  <thead>\n",
       "    <tr style=\"text-align: right;\">\n",
       "      <th></th>\n",
       "      <th>Column1</th>\n",
       "      <th>Column2</th>\n",
       "      <th>Column3</th>\n",
       "    </tr>\n",
       "  </thead>\n",
       "  <tbody>\n",
       "    <tr>\n",
       "      <th>A</th>\n",
       "      <td>True</td>\n",
       "      <td>False</td>\n",
       "      <td>True</td>\n",
       "    </tr>\n",
       "    <tr>\n",
       "      <th>B</th>\n",
       "      <td>False</td>\n",
       "      <td>True</td>\n",
       "      <td>False</td>\n",
       "    </tr>\n",
       "    <tr>\n",
       "      <th>C</th>\n",
       "      <td>True</td>\n",
       "      <td>True</td>\n",
       "      <td>True</td>\n",
       "    </tr>\n",
       "    <tr>\n",
       "      <th>D</th>\n",
       "      <td>True</td>\n",
       "      <td>True</td>\n",
       "      <td>True</td>\n",
       "    </tr>\n",
       "  </tbody>\n",
       "</table>\n",
       "</div>"
      ],
      "text/plain": [
       "   Column1  Column2  Column3\n",
       "A     True    False     True\n",
       "B    False     True    False\n",
       "C     True     True     True\n",
       "D     True     True     True"
      ]
     },
     "execution_count": 4,
     "metadata": {},
     "output_type": "execute_result"
    }
   ],
   "source": [
    "df > -1"
   ]
  },
  {
   "cell_type": "code",
   "execution_count": 5,
   "metadata": {
    "executionInfo": {
     "elapsed": 273,
     "status": "ok",
     "timestamp": 1707142583031,
     "user": {
      "displayName": "Sertaç ARISOY",
      "userId": "02064369477291648466"
     },
     "user_tz": -180
    },
    "id": "2tLbdNX2xhKG"
   },
   "outputs": [],
   "source": [
    "boolDf = df > -1"
   ]
  },
  {
   "cell_type": "code",
   "execution_count": 6,
   "metadata": {
    "colab": {
     "base_uri": "https://localhost:8080/",
     "height": 175
    },
    "executionInfo": {
     "elapsed": 3,
     "status": "ok",
     "timestamp": 1707142584942,
     "user": {
      "displayName": "Sertaç ARISOY",
      "userId": "02064369477291648466"
     },
     "user_tz": -180
    },
    "id": "Dacz605WxhKH",
    "outputId": "1623403e-0e10-4715-eb23-7845f3fe805d"
   },
   "outputs": [
    {
     "data": {
      "text/html": [
       "<div>\n",
       "<style scoped>\n",
       "    .dataframe tbody tr th:only-of-type {\n",
       "        vertical-align: middle;\n",
       "    }\n",
       "\n",
       "    .dataframe tbody tr th {\n",
       "        vertical-align: top;\n",
       "    }\n",
       "\n",
       "    .dataframe thead th {\n",
       "        text-align: right;\n",
       "    }\n",
       "</style>\n",
       "<table border=\"1\" class=\"dataframe\">\n",
       "  <thead>\n",
       "    <tr style=\"text-align: right;\">\n",
       "      <th></th>\n",
       "      <th>Column1</th>\n",
       "      <th>Column2</th>\n",
       "      <th>Column3</th>\n",
       "    </tr>\n",
       "  </thead>\n",
       "  <tbody>\n",
       "    <tr>\n",
       "      <th>A</th>\n",
       "      <td>True</td>\n",
       "      <td>False</td>\n",
       "      <td>True</td>\n",
       "    </tr>\n",
       "    <tr>\n",
       "      <th>B</th>\n",
       "      <td>False</td>\n",
       "      <td>True</td>\n",
       "      <td>False</td>\n",
       "    </tr>\n",
       "    <tr>\n",
       "      <th>C</th>\n",
       "      <td>True</td>\n",
       "      <td>True</td>\n",
       "      <td>True</td>\n",
       "    </tr>\n",
       "    <tr>\n",
       "      <th>D</th>\n",
       "      <td>True</td>\n",
       "      <td>True</td>\n",
       "      <td>True</td>\n",
       "    </tr>\n",
       "  </tbody>\n",
       "</table>\n",
       "</div>"
      ],
      "text/plain": [
       "   Column1  Column2  Column3\n",
       "A     True    False     True\n",
       "B    False     True    False\n",
       "C     True     True     True\n",
       "D     True     True     True"
      ]
     },
     "execution_count": 6,
     "metadata": {},
     "output_type": "execute_result"
    }
   ],
   "source": [
    "boolDf"
   ]
  },
  {
   "cell_type": "code",
   "execution_count": 7,
   "metadata": {
    "colab": {
     "base_uri": "https://localhost:8080/",
     "height": 175
    },
    "executionInfo": {
     "elapsed": 282,
     "status": "ok",
     "timestamp": 1707142595528,
     "user": {
      "displayName": "Sertaç ARISOY",
      "userId": "02064369477291648466"
     },
     "user_tz": -180
    },
    "id": "aRxoDpBbxhKH",
    "outputId": "55bf01b5-6d07-4a90-b3a4-abee8bea25b9"
   },
   "outputs": [
    {
     "data": {
      "text/html": [
       "<div>\n",
       "<style scoped>\n",
       "    .dataframe tbody tr th:only-of-type {\n",
       "        vertical-align: middle;\n",
       "    }\n",
       "\n",
       "    .dataframe tbody tr th {\n",
       "        vertical-align: top;\n",
       "    }\n",
       "\n",
       "    .dataframe thead th {\n",
       "        text-align: right;\n",
       "    }\n",
       "</style>\n",
       "<table border=\"1\" class=\"dataframe\">\n",
       "  <thead>\n",
       "    <tr style=\"text-align: right;\">\n",
       "      <th></th>\n",
       "      <th>Column1</th>\n",
       "      <th>Column2</th>\n",
       "      <th>Column3</th>\n",
       "    </tr>\n",
       "  </thead>\n",
       "  <tbody>\n",
       "    <tr>\n",
       "      <th>A</th>\n",
       "      <td>-0.704980</td>\n",
       "      <td>NaN</td>\n",
       "      <td>-0.171943</td>\n",
       "    </tr>\n",
       "    <tr>\n",
       "      <th>B</th>\n",
       "      <td>NaN</td>\n",
       "      <td>-0.482766</td>\n",
       "      <td>NaN</td>\n",
       "    </tr>\n",
       "    <tr>\n",
       "      <th>C</th>\n",
       "      <td>-0.360503</td>\n",
       "      <td>0.020648</td>\n",
       "      <td>1.038469</td>\n",
       "    </tr>\n",
       "    <tr>\n",
       "      <th>D</th>\n",
       "      <td>-0.882796</td>\n",
       "      <td>0.528096</td>\n",
       "      <td>-0.631152</td>\n",
       "    </tr>\n",
       "  </tbody>\n",
       "</table>\n",
       "</div>"
      ],
      "text/plain": [
       "    Column1   Column2   Column3\n",
       "A -0.704980       NaN -0.171943\n",
       "B       NaN -0.482766       NaN\n",
       "C -0.360503  0.020648  1.038469\n",
       "D -0.882796  0.528096 -0.631152"
      ]
     },
     "execution_count": 7,
     "metadata": {},
     "output_type": "execute_result"
    }
   ],
   "source": [
    "df[boolDf]"
   ]
  },
  {
   "cell_type": "code",
   "execution_count": 8,
   "metadata": {
    "colab": {
     "base_uri": "https://localhost:8080/",
     "height": 174
    },
    "executionInfo": {
     "elapsed": 297,
     "status": "ok",
     "timestamp": 1681224524445,
     "user": {
      "displayName": "Arcibiyo",
      "userId": "09818246554955965434"
     },
     "user_tz": -180
    },
    "id": "jFC8Gvh2ylAL",
    "outputId": "71530bf0-873a-46b4-ed78-5e16e95495ba"
   },
   "outputs": [
    {
     "data": {
      "text/html": [
       "<div>\n",
       "<style scoped>\n",
       "    .dataframe tbody tr th:only-of-type {\n",
       "        vertical-align: middle;\n",
       "    }\n",
       "\n",
       "    .dataframe tbody tr th {\n",
       "        vertical-align: top;\n",
       "    }\n",
       "\n",
       "    .dataframe thead th {\n",
       "        text-align: right;\n",
       "    }\n",
       "</style>\n",
       "<table border=\"1\" class=\"dataframe\">\n",
       "  <thead>\n",
       "    <tr style=\"text-align: right;\">\n",
       "      <th></th>\n",
       "      <th>Column1</th>\n",
       "      <th>Column2</th>\n",
       "      <th>Column3</th>\n",
       "    </tr>\n",
       "  </thead>\n",
       "  <tbody>\n",
       "    <tr>\n",
       "      <th>A</th>\n",
       "      <td>-0.704980</td>\n",
       "      <td>-1.873072</td>\n",
       "      <td>-0.171943</td>\n",
       "    </tr>\n",
       "    <tr>\n",
       "      <th>B</th>\n",
       "      <td>-1.596641</td>\n",
       "      <td>-0.482766</td>\n",
       "      <td>-1.738505</td>\n",
       "    </tr>\n",
       "    <tr>\n",
       "      <th>C</th>\n",
       "      <td>-0.360503</td>\n",
       "      <td>0.020648</td>\n",
       "      <td>1.038469</td>\n",
       "    </tr>\n",
       "    <tr>\n",
       "      <th>D</th>\n",
       "      <td>-0.882796</td>\n",
       "      <td>0.528096</td>\n",
       "      <td>-0.631152</td>\n",
       "    </tr>\n",
       "  </tbody>\n",
       "</table>\n",
       "</div>"
      ],
      "text/plain": [
       "    Column1   Column2   Column3\n",
       "A -0.704980 -1.873072 -0.171943\n",
       "B -1.596641 -0.482766 -1.738505\n",
       "C -0.360503  0.020648  1.038469\n",
       "D -0.882796  0.528096 -0.631152"
      ]
     },
     "execution_count": 8,
     "metadata": {},
     "output_type": "execute_result"
    }
   ],
   "source": [
    "df"
   ]
  },
  {
   "cell_type": "code",
   "execution_count": 9,
   "metadata": {
    "colab": {
     "base_uri": "https://localhost:8080/",
     "height": 175
    },
    "executionInfo": {
     "elapsed": 252,
     "status": "ok",
     "timestamp": 1707142647724,
     "user": {
      "displayName": "Sertaç ARISOY",
      "userId": "02064369477291648466"
     },
     "user_tz": -180
    },
    "id": "OUnkM8NqxhKH",
    "outputId": "a948c65f-f071-4544-a275-f4b301f2fc01"
   },
   "outputs": [
    {
     "data": {
      "text/html": [
       "<div>\n",
       "<style scoped>\n",
       "    .dataframe tbody tr th:only-of-type {\n",
       "        vertical-align: middle;\n",
       "    }\n",
       "\n",
       "    .dataframe tbody tr th {\n",
       "        vertical-align: top;\n",
       "    }\n",
       "\n",
       "    .dataframe thead th {\n",
       "        text-align: right;\n",
       "    }\n",
       "</style>\n",
       "<table border=\"1\" class=\"dataframe\">\n",
       "  <thead>\n",
       "    <tr style=\"text-align: right;\">\n",
       "      <th></th>\n",
       "      <th>Column1</th>\n",
       "      <th>Column2</th>\n",
       "      <th>Column3</th>\n",
       "    </tr>\n",
       "  </thead>\n",
       "  <tbody>\n",
       "    <tr>\n",
       "      <th>A</th>\n",
       "      <td>NaN</td>\n",
       "      <td>NaN</td>\n",
       "      <td>NaN</td>\n",
       "    </tr>\n",
       "    <tr>\n",
       "      <th>B</th>\n",
       "      <td>NaN</td>\n",
       "      <td>NaN</td>\n",
       "      <td>NaN</td>\n",
       "    </tr>\n",
       "    <tr>\n",
       "      <th>C</th>\n",
       "      <td>NaN</td>\n",
       "      <td>0.020648</td>\n",
       "      <td>1.038469</td>\n",
       "    </tr>\n",
       "    <tr>\n",
       "      <th>D</th>\n",
       "      <td>NaN</td>\n",
       "      <td>0.528096</td>\n",
       "      <td>NaN</td>\n",
       "    </tr>\n",
       "  </tbody>\n",
       "</table>\n",
       "</div>"
      ],
      "text/plain": [
       "   Column1   Column2   Column3\n",
       "A      NaN       NaN       NaN\n",
       "B      NaN       NaN       NaN\n",
       "C      NaN  0.020648  1.038469\n",
       "D      NaN  0.528096       NaN"
      ]
     },
     "execution_count": 9,
     "metadata": {},
     "output_type": "execute_result"
    }
   ],
   "source": [
    "df[df > 0]"
   ]
  },
  {
   "cell_type": "code",
   "execution_count": 10,
   "metadata": {
    "colab": {
     "base_uri": "https://localhost:8080/",
     "height": 175
    },
    "executionInfo": {
     "elapsed": 320,
     "status": "ok",
     "timestamp": 1707142683999,
     "user": {
      "displayName": "Sertaç ARISOY",
      "userId": "02064369477291648466"
     },
     "user_tz": -180
    },
    "id": "0EERhcy1xhKI",
    "outputId": "4f905fb6-921c-49c9-acfa-47fb30ece081"
   },
   "outputs": [
    {
     "data": {
      "text/html": [
       "<div>\n",
       "<style scoped>\n",
       "    .dataframe tbody tr th:only-of-type {\n",
       "        vertical-align: middle;\n",
       "    }\n",
       "\n",
       "    .dataframe tbody tr th {\n",
       "        vertical-align: top;\n",
       "    }\n",
       "\n",
       "    .dataframe thead th {\n",
       "        text-align: right;\n",
       "    }\n",
       "</style>\n",
       "<table border=\"1\" class=\"dataframe\">\n",
       "  <thead>\n",
       "    <tr style=\"text-align: right;\">\n",
       "      <th></th>\n",
       "      <th>Column1</th>\n",
       "      <th>Column2</th>\n",
       "      <th>Column3</th>\n",
       "    </tr>\n",
       "  </thead>\n",
       "  <tbody>\n",
       "    <tr>\n",
       "      <th>A</th>\n",
       "      <td>-0.704980</td>\n",
       "      <td>-1.873072</td>\n",
       "      <td>-0.171943</td>\n",
       "    </tr>\n",
       "    <tr>\n",
       "      <th>B</th>\n",
       "      <td>-1.596641</td>\n",
       "      <td>-0.482766</td>\n",
       "      <td>-1.738505</td>\n",
       "    </tr>\n",
       "    <tr>\n",
       "      <th>C</th>\n",
       "      <td>-0.360503</td>\n",
       "      <td>0.020648</td>\n",
       "      <td>1.038469</td>\n",
       "    </tr>\n",
       "    <tr>\n",
       "      <th>D</th>\n",
       "      <td>-0.882796</td>\n",
       "      <td>0.528096</td>\n",
       "      <td>-0.631152</td>\n",
       "    </tr>\n",
       "  </tbody>\n",
       "</table>\n",
       "</div>"
      ],
      "text/plain": [
       "    Column1   Column2   Column3\n",
       "A -0.704980 -1.873072 -0.171943\n",
       "B -1.596641 -0.482766 -1.738505\n",
       "C -0.360503  0.020648  1.038469\n",
       "D -0.882796  0.528096 -0.631152"
      ]
     },
     "execution_count": 10,
     "metadata": {},
     "output_type": "execute_result"
    }
   ],
   "source": [
    "df"
   ]
  },
  {
   "cell_type": "code",
   "execution_count": 11,
   "metadata": {
    "colab": {
     "base_uri": "https://localhost:8080/"
    },
    "executionInfo": {
     "elapsed": 264,
     "status": "ok",
     "timestamp": 1707142685447,
     "user": {
      "displayName": "Sertaç ARISOY",
      "userId": "02064369477291648466"
     },
     "user_tz": -180
    },
    "id": "p6nGeZXLxhKI",
    "outputId": "288d8adc-65a5-4378-e557-5ffc2515468a"
   },
   "outputs": [
    {
     "data": {
      "text/plain": [
       "A   -0.704980\n",
       "B   -1.596641\n",
       "C   -0.360503\n",
       "D   -0.882796\n",
       "Name: Column1, dtype: float64"
      ]
     },
     "execution_count": 11,
     "metadata": {},
     "output_type": "execute_result"
    }
   ],
   "source": [
    "df[\"Column1\"]"
   ]
  },
  {
   "cell_type": "code",
   "execution_count": 18,
   "metadata": {
    "colab": {
     "base_uri": "https://localhost:8080/"
    },
    "executionInfo": {
     "elapsed": 250,
     "status": "ok",
     "timestamp": 1707142687863,
     "user": {
      "displayName": "Sertaç ARISOY",
      "userId": "02064369477291648466"
     },
     "user_tz": -180
    },
    "id": "KaJA8sSyxhKI",
    "outputId": "78792dc2-a53f-4c5f-c1e1-67cf84c32fcf"
   },
   "outputs": [
    {
     "data": {
      "text/plain": [
       "A     True\n",
       "B    False\n",
       "C     True\n",
       "D     True\n",
       "Name: Column1, dtype: bool"
      ]
     },
     "execution_count": 18,
     "metadata": {},
     "output_type": "execute_result"
    }
   ],
   "source": [
    "df[\"Column1\"] > -1"
   ]
  },
  {
   "cell_type": "code",
   "execution_count": 39,
   "metadata": {
    "colab": {
     "base_uri": "https://localhost:8080/",
     "height": 143
    },
    "executionInfo": {
     "elapsed": 298,
     "status": "ok",
     "timestamp": 1707142764974,
     "user": {
      "displayName": "Sertaç ARISOY",
      "userId": "02064369477291648466"
     },
     "user_tz": -180
    },
    "id": "QXhpFRJ5xhKJ",
    "outputId": "db7bc5b6-8851-4037-de40-3b8aaa86f264"
   },
   "outputs": [
    {
     "data": {
      "text/html": [
       "<div>\n",
       "<style scoped>\n",
       "    .dataframe tbody tr th:only-of-type {\n",
       "        vertical-align: middle;\n",
       "    }\n",
       "\n",
       "    .dataframe tbody tr th {\n",
       "        vertical-align: top;\n",
       "    }\n",
       "\n",
       "    .dataframe thead th {\n",
       "        text-align: right;\n",
       "    }\n",
       "</style>\n",
       "<table border=\"1\" class=\"dataframe\">\n",
       "  <thead>\n",
       "    <tr style=\"text-align: right;\">\n",
       "      <th></th>\n",
       "      <th>Column1</th>\n",
       "      <th>Column2</th>\n",
       "      <th>Column3</th>\n",
       "    </tr>\n",
       "  </thead>\n",
       "  <tbody>\n",
       "    <tr>\n",
       "      <th>A</th>\n",
       "      <td>-0.704980</td>\n",
       "      <td>-1.873072</td>\n",
       "      <td>-0.171943</td>\n",
       "    </tr>\n",
       "    <tr>\n",
       "      <th>C</th>\n",
       "      <td>-0.360503</td>\n",
       "      <td>0.020648</td>\n",
       "      <td>1.038469</td>\n",
       "    </tr>\n",
       "    <tr>\n",
       "      <th>D</th>\n",
       "      <td>-0.882796</td>\n",
       "      <td>0.528096</td>\n",
       "      <td>-0.631152</td>\n",
       "    </tr>\n",
       "  </tbody>\n",
       "</table>\n",
       "</div>"
      ],
      "text/plain": [
       "    Column1   Column2   Column3\n",
       "A -0.704980 -1.873072 -0.171943\n",
       "C -0.360503  0.020648  1.038469\n",
       "D -0.882796  0.528096 -0.631152"
      ]
     },
     "execution_count": 39,
     "metadata": {},
     "output_type": "execute_result"
    }
   ],
   "source": [
    "df[df[\"Column1\"] > -1]"
   ]
  },
  {
   "cell_type": "code",
   "execution_count": 34,
   "metadata": {
    "colab": {
     "base_uri": "https://localhost:8080/",
     "height": 174
    },
    "executionInfo": {
     "elapsed": 382,
     "status": "ok",
     "timestamp": 1681224627140,
     "user": {
      "displayName": "Arcibiyo",
      "userId": "09818246554955965434"
     },
     "user_tz": -180
    },
    "id": "T7bU4BgYxhKJ",
    "outputId": "2f36e84c-0cd5-47aa-839b-017532ad7044"
   },
   "outputs": [
    {
     "data": {
      "text/html": [
       "<div>\n",
       "<style scoped>\n",
       "    .dataframe tbody tr th:only-of-type {\n",
       "        vertical-align: middle;\n",
       "    }\n",
       "\n",
       "    .dataframe tbody tr th {\n",
       "        vertical-align: top;\n",
       "    }\n",
       "\n",
       "    .dataframe thead th {\n",
       "        text-align: right;\n",
       "    }\n",
       "</style>\n",
       "<table border=\"1\" class=\"dataframe\">\n",
       "  <thead>\n",
       "    <tr style=\"text-align: right;\">\n",
       "      <th></th>\n",
       "      <th>Column1</th>\n",
       "      <th>Column2</th>\n",
       "      <th>Column3</th>\n",
       "    </tr>\n",
       "  </thead>\n",
       "  <tbody>\n",
       "    <tr>\n",
       "      <th>A</th>\n",
       "      <td>-0.704980</td>\n",
       "      <td>-1.873072</td>\n",
       "      <td>-0.171943</td>\n",
       "    </tr>\n",
       "    <tr>\n",
       "      <th>B</th>\n",
       "      <td>-1.596641</td>\n",
       "      <td>-0.482766</td>\n",
       "      <td>-1.738505</td>\n",
       "    </tr>\n",
       "    <tr>\n",
       "      <th>C</th>\n",
       "      <td>-0.360503</td>\n",
       "      <td>0.020648</td>\n",
       "      <td>1.038469</td>\n",
       "    </tr>\n",
       "    <tr>\n",
       "      <th>D</th>\n",
       "      <td>-0.882796</td>\n",
       "      <td>0.528096</td>\n",
       "      <td>-0.631152</td>\n",
       "    </tr>\n",
       "  </tbody>\n",
       "</table>\n",
       "</div>"
      ],
      "text/plain": [
       "    Column1   Column2   Column3\n",
       "A -0.704980 -1.873072 -0.171943\n",
       "B -1.596641 -0.482766 -1.738505\n",
       "C -0.360503  0.020648  1.038469\n",
       "D -0.882796  0.528096 -0.631152"
      ]
     },
     "execution_count": 34,
     "metadata": {},
     "output_type": "execute_result"
    }
   ],
   "source": [
    "df"
   ]
  },
  {
   "cell_type": "code",
   "execution_count": 35,
   "metadata": {
    "colab": {
     "base_uri": "https://localhost:8080/"
    },
    "executionInfo": {
     "elapsed": 261,
     "status": "ok",
     "timestamp": 1707142772463,
     "user": {
      "displayName": "Sertaç ARISOY",
      "userId": "02064369477291648466"
     },
     "user_tz": -180
    },
    "id": "QgMwsRPZxhKJ",
    "outputId": "149ee959-5d0a-4d03-8928-fb3b3d38c5ea"
   },
   "outputs": [
    {
     "data": {
      "text/plain": [
       "A     True\n",
       "B     True\n",
       "C    False\n",
       "D     True\n",
       "Name: Column3, dtype: bool"
      ]
     },
     "execution_count": 35,
     "metadata": {},
     "output_type": "execute_result"
    }
   ],
   "source": [
    "df[\"Column3\"] < 0"
   ]
  },
  {
   "cell_type": "code",
   "execution_count": 40,
   "metadata": {
    "colab": {
     "base_uri": "https://localhost:8080/",
     "height": 143
    },
    "executionInfo": {
     "elapsed": 262,
     "status": "ok",
     "timestamp": 1707142778419,
     "user": {
      "displayName": "Sertaç ARISOY",
      "userId": "02064369477291648466"
     },
     "user_tz": -180
    },
    "id": "MA6VFpCsxhKJ",
    "outputId": "32d4330d-79d4-4e13-9046-4ad0b16d87c1"
   },
   "outputs": [
    {
     "data": {
      "text/html": [
       "<div>\n",
       "<style scoped>\n",
       "    .dataframe tbody tr th:only-of-type {\n",
       "        vertical-align: middle;\n",
       "    }\n",
       "\n",
       "    .dataframe tbody tr th {\n",
       "        vertical-align: top;\n",
       "    }\n",
       "\n",
       "    .dataframe thead th {\n",
       "        text-align: right;\n",
       "    }\n",
       "</style>\n",
       "<table border=\"1\" class=\"dataframe\">\n",
       "  <thead>\n",
       "    <tr style=\"text-align: right;\">\n",
       "      <th></th>\n",
       "      <th>Column1</th>\n",
       "      <th>Column2</th>\n",
       "      <th>Column3</th>\n",
       "    </tr>\n",
       "  </thead>\n",
       "  <tbody>\n",
       "    <tr>\n",
       "      <th>A</th>\n",
       "      <td>-0.704980</td>\n",
       "      <td>-1.873072</td>\n",
       "      <td>-0.171943</td>\n",
       "    </tr>\n",
       "    <tr>\n",
       "      <th>B</th>\n",
       "      <td>-1.596641</td>\n",
       "      <td>-0.482766</td>\n",
       "      <td>-1.738505</td>\n",
       "    </tr>\n",
       "    <tr>\n",
       "      <th>D</th>\n",
       "      <td>-0.882796</td>\n",
       "      <td>0.528096</td>\n",
       "      <td>-0.631152</td>\n",
       "    </tr>\n",
       "  </tbody>\n",
       "</table>\n",
       "</div>"
      ],
      "text/plain": [
       "    Column1   Column2   Column3\n",
       "A -0.704980 -1.873072 -0.171943\n",
       "B -1.596641 -0.482766 -1.738505\n",
       "D -0.882796  0.528096 -0.631152"
      ]
     },
     "execution_count": 40,
     "metadata": {},
     "output_type": "execute_result"
    }
   ],
   "source": [
    "df[df[\"Column3\"] < 0]"
   ]
  },
  {
   "cell_type": "code",
   "execution_count": 31,
   "metadata": {
    "colab": {
     "base_uri": "https://localhost:8080/"
    },
    "executionInfo": {
     "elapsed": 281,
     "status": "ok",
     "timestamp": 1707142786931,
     "user": {
      "displayName": "Sertaç ARISOY",
      "userId": "02064369477291648466"
     },
     "user_tz": -180
    },
    "id": "y9x_iBubxhKK",
    "outputId": "6fbf0384-b2a4-4f54-e0ef-1d17672c7027"
   },
   "outputs": [
    {
     "data": {
      "text/plain": [
       "A     True\n",
       "B    False\n",
       "C     True\n",
       "D     True\n",
       "Name: Column1, dtype: bool"
      ]
     },
     "execution_count": 31,
     "metadata": {},
     "output_type": "execute_result"
    }
   ],
   "source": [
    "df[\"Column1\"] > -1"
   ]
  },
  {
   "cell_type": "code",
   "execution_count": 41,
   "metadata": {
    "colab": {
     "base_uri": "https://localhost:8080/",
     "height": 143
    },
    "executionInfo": {
     "elapsed": 350,
     "status": "ok",
     "timestamp": 1707142794158,
     "user": {
      "displayName": "Sertaç ARISOY",
      "userId": "02064369477291648466"
     },
     "user_tz": -180
    },
    "id": "VIHBMW8bxhKK",
    "outputId": "48d059dc-5355-451d-827b-ea557dcf676a"
   },
   "outputs": [
    {
     "data": {
      "text/html": [
       "<div>\n",
       "<style scoped>\n",
       "    .dataframe tbody tr th:only-of-type {\n",
       "        vertical-align: middle;\n",
       "    }\n",
       "\n",
       "    .dataframe tbody tr th {\n",
       "        vertical-align: top;\n",
       "    }\n",
       "\n",
       "    .dataframe thead th {\n",
       "        text-align: right;\n",
       "    }\n",
       "</style>\n",
       "<table border=\"1\" class=\"dataframe\">\n",
       "  <thead>\n",
       "    <tr style=\"text-align: right;\">\n",
       "      <th></th>\n",
       "      <th>Column1</th>\n",
       "      <th>Column2</th>\n",
       "      <th>Column3</th>\n",
       "    </tr>\n",
       "  </thead>\n",
       "  <tbody>\n",
       "    <tr>\n",
       "      <th>A</th>\n",
       "      <td>-0.704980</td>\n",
       "      <td>-1.873072</td>\n",
       "      <td>-0.171943</td>\n",
       "    </tr>\n",
       "    <tr>\n",
       "      <th>C</th>\n",
       "      <td>-0.360503</td>\n",
       "      <td>0.020648</td>\n",
       "      <td>1.038469</td>\n",
       "    </tr>\n",
       "    <tr>\n",
       "      <th>D</th>\n",
       "      <td>-0.882796</td>\n",
       "      <td>0.528096</td>\n",
       "      <td>-0.631152</td>\n",
       "    </tr>\n",
       "  </tbody>\n",
       "</table>\n",
       "</div>"
      ],
      "text/plain": [
       "    Column1   Column2   Column3\n",
       "A -0.704980 -1.873072 -0.171943\n",
       "C -0.360503  0.020648  1.038469\n",
       "D -0.882796  0.528096 -0.631152"
      ]
     },
     "execution_count": 41,
     "metadata": {},
     "output_type": "execute_result"
    }
   ],
   "source": [
    "df[df[\"Column1\"] > -1]"
   ]
  },
  {
   "cell_type": "code",
   "execution_count": 42,
   "metadata": {
    "colab": {
     "base_uri": "https://localhost:8080/"
    },
    "executionInfo": {
     "elapsed": 385,
     "status": "ok",
     "timestamp": 1707142789337,
     "user": {
      "displayName": "Sertaç ARISOY",
      "userId": "02064369477291648466"
     },
     "user_tz": -180
    },
    "id": "vT6ya0XWxhKK",
    "outputId": "71c6285b-13cf-4356-80e7-e9367d6f04c5"
   },
   "outputs": [
    {
     "data": {
      "text/plain": [
       "A    False\n",
       "B    False\n",
       "C     True\n",
       "D    False\n",
       "Name: Column3, dtype: bool"
      ]
     },
     "execution_count": 42,
     "metadata": {},
     "output_type": "execute_result"
    }
   ],
   "source": [
    "df[\"Column3\"] > 0"
   ]
  },
  {
   "cell_type": "code",
   "execution_count": 50,
   "metadata": {
    "colab": {
     "base_uri": "https://localhost:8080/",
     "height": 81
    },
    "executionInfo": {
     "elapsed": 255,
     "status": "ok",
     "timestamp": 1707142802436,
     "user": {
      "displayName": "Sertaç ARISOY",
      "userId": "02064369477291648466"
     },
     "user_tz": -180
    },
    "id": "8TRoaE_HxhKK",
    "outputId": "360ffeab-71e9-435d-9470-ec0ba73ea80e"
   },
   "outputs": [
    {
     "data": {
      "text/plain": [
       "C    1.038469\n",
       "Name: Column3, dtype: float64"
      ]
     },
     "execution_count": 50,
     "metadata": {},
     "output_type": "execute_result"
    }
   ],
   "source": [
    "df[df[\"Column3\"] > 0][\"Column3\"]"
   ]
  },
  {
   "cell_type": "code",
   "execution_count": 56,
   "metadata": {
    "colab": {
     "base_uri": "https://localhost:8080/",
     "height": 81
    },
    "executionInfo": {
     "elapsed": 257,
     "status": "ok",
     "timestamp": 1707142822503,
     "user": {
      "displayName": "Sertaç ARISOY",
      "userId": "02064369477291648466"
     },
     "user_tz": -180
    },
    "id": "ObVkkUjXxhKL",
    "outputId": "71da778b-866d-4b3e-d601-f86b7422916c"
   },
   "outputs": [
    {
     "data": {
      "text/html": [
       "<div>\n",
       "<style scoped>\n",
       "    .dataframe tbody tr th:only-of-type {\n",
       "        vertical-align: middle;\n",
       "    }\n",
       "\n",
       "    .dataframe tbody tr th {\n",
       "        vertical-align: top;\n",
       "    }\n",
       "\n",
       "    .dataframe thead th {\n",
       "        text-align: right;\n",
       "    }\n",
       "</style>\n",
       "<table border=\"1\" class=\"dataframe\">\n",
       "  <thead>\n",
       "    <tr style=\"text-align: right;\">\n",
       "      <th></th>\n",
       "      <th>Column1</th>\n",
       "      <th>Column2</th>\n",
       "      <th>Column3</th>\n",
       "    </tr>\n",
       "  </thead>\n",
       "  <tbody>\n",
       "    <tr>\n",
       "      <th>C</th>\n",
       "      <td>-0.360503</td>\n",
       "      <td>0.020648</td>\n",
       "      <td>1.038469</td>\n",
       "    </tr>\n",
       "  </tbody>\n",
       "</table>\n",
       "</div>"
      ],
      "text/plain": [
       "    Column1   Column2   Column3\n",
       "C -0.360503  0.020648  1.038469"
      ]
     },
     "execution_count": 56,
     "metadata": {},
     "output_type": "execute_result"
    }
   ],
   "source": [
    "df[(df[\"Column1\"] > -1) & (df[\"Column3\"] > 0)]"
   ]
  },
  {
   "cell_type": "code",
   "execution_count": 57,
   "metadata": {
    "colab": {
     "base_uri": "https://localhost:8080/",
     "height": 143
    },
    "executionInfo": {
     "elapsed": 252,
     "status": "ok",
     "timestamp": 1707142842250,
     "user": {
      "displayName": "Sertaç ARISOY",
      "userId": "02064369477291648466"
     },
     "user_tz": -180
    },
    "id": "wfTIXMWXxhKL",
    "outputId": "685bd95a-163a-48aa-9fdc-840b7bd45314",
    "scrolled": true
   },
   "outputs": [
    {
     "data": {
      "text/html": [
       "<div>\n",
       "<style scoped>\n",
       "    .dataframe tbody tr th:only-of-type {\n",
       "        vertical-align: middle;\n",
       "    }\n",
       "\n",
       "    .dataframe tbody tr th {\n",
       "        vertical-align: top;\n",
       "    }\n",
       "\n",
       "    .dataframe thead th {\n",
       "        text-align: right;\n",
       "    }\n",
       "</style>\n",
       "<table border=\"1\" class=\"dataframe\">\n",
       "  <thead>\n",
       "    <tr style=\"text-align: right;\">\n",
       "      <th></th>\n",
       "      <th>Column1</th>\n",
       "      <th>Column2</th>\n",
       "      <th>Column3</th>\n",
       "    </tr>\n",
       "  </thead>\n",
       "  <tbody>\n",
       "    <tr>\n",
       "      <th>A</th>\n",
       "      <td>-0.704980</td>\n",
       "      <td>-1.873072</td>\n",
       "      <td>-0.171943</td>\n",
       "    </tr>\n",
       "    <tr>\n",
       "      <th>C</th>\n",
       "      <td>-0.360503</td>\n",
       "      <td>0.020648</td>\n",
       "      <td>1.038469</td>\n",
       "    </tr>\n",
       "    <tr>\n",
       "      <th>D</th>\n",
       "      <td>-0.882796</td>\n",
       "      <td>0.528096</td>\n",
       "      <td>-0.631152</td>\n",
       "    </tr>\n",
       "  </tbody>\n",
       "</table>\n",
       "</div>"
      ],
      "text/plain": [
       "    Column1   Column2   Column3\n",
       "A -0.704980 -1.873072 -0.171943\n",
       "C -0.360503  0.020648  1.038469\n",
       "D -0.882796  0.528096 -0.631152"
      ]
     },
     "execution_count": 57,
     "metadata": {},
     "output_type": "execute_result"
    }
   ],
   "source": [
    "df[(df[\"Column1\"] > -1) | (df[\"Column3\"] > 0)]"
   ]
  },
  {
   "cell_type": "markdown",
   "metadata": {
    "id": "kkkmoYIqxhKL"
   },
   "source": [
    "#### DataFrame'e Yeni Sütun Ekleme Yöntemleri"
   ]
  },
  {
   "cell_type": "markdown",
   "metadata": {
    "id": "4Hks_x3sxhKO"
   },
   "source": [
    "#### 1. Yöntem"
   ]
  },
  {
   "cell_type": "code",
   "execution_count": 59,
   "metadata": {},
   "outputs": [
    {
     "data": {
      "text/html": [
       "<div>\n",
       "<style scoped>\n",
       "    .dataframe tbody tr th:only-of-type {\n",
       "        vertical-align: middle;\n",
       "    }\n",
       "\n",
       "    .dataframe tbody tr th {\n",
       "        vertical-align: top;\n",
       "    }\n",
       "\n",
       "    .dataframe thead th {\n",
       "        text-align: right;\n",
       "    }\n",
       "</style>\n",
       "<table border=\"1\" class=\"dataframe\">\n",
       "  <thead>\n",
       "    <tr style=\"text-align: right;\">\n",
       "      <th></th>\n",
       "      <th>Column1</th>\n",
       "      <th>Column2</th>\n",
       "      <th>Column3</th>\n",
       "    </tr>\n",
       "  </thead>\n",
       "  <tbody>\n",
       "    <tr>\n",
       "      <th>A</th>\n",
       "      <td>-0.704980</td>\n",
       "      <td>-1.873072</td>\n",
       "      <td>-0.171943</td>\n",
       "    </tr>\n",
       "    <tr>\n",
       "      <th>B</th>\n",
       "      <td>-1.596641</td>\n",
       "      <td>-0.482766</td>\n",
       "      <td>-1.738505</td>\n",
       "    </tr>\n",
       "    <tr>\n",
       "      <th>C</th>\n",
       "      <td>-0.360503</td>\n",
       "      <td>0.020648</td>\n",
       "      <td>1.038469</td>\n",
       "    </tr>\n",
       "    <tr>\n",
       "      <th>D</th>\n",
       "      <td>-0.882796</td>\n",
       "      <td>0.528096</td>\n",
       "      <td>-0.631152</td>\n",
       "    </tr>\n",
       "  </tbody>\n",
       "</table>\n",
       "</div>"
      ],
      "text/plain": [
       "    Column1   Column2   Column3\n",
       "A -0.704980 -1.873072 -0.171943\n",
       "B -1.596641 -0.482766 -1.738505\n",
       "C -0.360503  0.020648  1.038469\n",
       "D -0.882796  0.528096 -0.631152"
      ]
     },
     "execution_count": 59,
     "metadata": {},
     "output_type": "execute_result"
    }
   ],
   "source": [
    "df"
   ]
  },
  {
   "cell_type": "code",
   "execution_count": 60,
   "metadata": {
    "executionInfo": {
     "elapsed": 266,
     "status": "ok",
     "timestamp": 1707142845367,
     "user": {
      "displayName": "Sertaç ARISOY",
      "userId": "02064369477291648466"
     },
     "user_tz": -180
    },
    "id": "sbUN2Ed7zkRx"
   },
   "outputs": [],
   "source": [
    "df['Column0'] = 0"
   ]
  },
  {
   "cell_type": "code",
   "execution_count": 62,
   "metadata": {
    "colab": {
     "base_uri": "https://localhost:8080/"
    },
    "executionInfo": {
     "elapsed": 307,
     "status": "ok",
     "timestamp": 1707142851430,
     "user": {
      "displayName": "Sertaç ARISOY",
      "userId": "02064369477291648466"
     },
     "user_tz": -180
    },
    "id": "52z76RAMxhKP",
    "outputId": "12b1691f-52a3-47b2-de4c-0a15f7ade298"
   },
   "outputs": [
    {
     "data": {
      "text/plain": [
       "A    0\n",
       "B    0\n",
       "C    0\n",
       "D    0\n",
       "Name: Column0, dtype: int64"
      ]
     },
     "execution_count": 62,
     "metadata": {},
     "output_type": "execute_result"
    }
   ],
   "source": [
    "df['Column0']"
   ]
  },
  {
   "cell_type": "code",
   "execution_count": 63,
   "metadata": {
    "colab": {
     "base_uri": "https://localhost:8080/",
     "height": 175
    },
    "executionInfo": {
     "elapsed": 266,
     "status": "ok",
     "timestamp": 1707142853078,
     "user": {
      "displayName": "Sertaç ARISOY",
      "userId": "02064369477291648466"
     },
     "user_tz": -180
    },
    "id": "3SpH2nghzzrw",
    "outputId": "178982c2-8a10-465e-8645-3f5bfc07e8c8"
   },
   "outputs": [
    {
     "data": {
      "text/html": [
       "<div>\n",
       "<style scoped>\n",
       "    .dataframe tbody tr th:only-of-type {\n",
       "        vertical-align: middle;\n",
       "    }\n",
       "\n",
       "    .dataframe tbody tr th {\n",
       "        vertical-align: top;\n",
       "    }\n",
       "\n",
       "    .dataframe thead th {\n",
       "        text-align: right;\n",
       "    }\n",
       "</style>\n",
       "<table border=\"1\" class=\"dataframe\">\n",
       "  <thead>\n",
       "    <tr style=\"text-align: right;\">\n",
       "      <th></th>\n",
       "      <th>Column1</th>\n",
       "      <th>Column2</th>\n",
       "      <th>Column3</th>\n",
       "      <th>Column0</th>\n",
       "    </tr>\n",
       "  </thead>\n",
       "  <tbody>\n",
       "    <tr>\n",
       "      <th>A</th>\n",
       "      <td>-0.704980</td>\n",
       "      <td>-1.873072</td>\n",
       "      <td>-0.171943</td>\n",
       "      <td>0</td>\n",
       "    </tr>\n",
       "    <tr>\n",
       "      <th>B</th>\n",
       "      <td>-1.596641</td>\n",
       "      <td>-0.482766</td>\n",
       "      <td>-1.738505</td>\n",
       "      <td>0</td>\n",
       "    </tr>\n",
       "    <tr>\n",
       "      <th>C</th>\n",
       "      <td>-0.360503</td>\n",
       "      <td>0.020648</td>\n",
       "      <td>1.038469</td>\n",
       "      <td>0</td>\n",
       "    </tr>\n",
       "    <tr>\n",
       "      <th>D</th>\n",
       "      <td>-0.882796</td>\n",
       "      <td>0.528096</td>\n",
       "      <td>-0.631152</td>\n",
       "      <td>0</td>\n",
       "    </tr>\n",
       "  </tbody>\n",
       "</table>\n",
       "</div>"
      ],
      "text/plain": [
       "    Column1   Column2   Column3  Column0\n",
       "A -0.704980 -1.873072 -0.171943        0\n",
       "B -1.596641 -0.482766 -1.738505        0\n",
       "C -0.360503  0.020648  1.038469        0\n",
       "D -0.882796  0.528096 -0.631152        0"
      ]
     },
     "execution_count": 63,
     "metadata": {},
     "output_type": "execute_result"
    }
   ],
   "source": [
    "df"
   ]
  },
  {
   "cell_type": "code",
   "execution_count": 68,
   "metadata": {
    "executionInfo": {
     "elapsed": 247,
     "status": "ok",
     "timestamp": 1707142856587,
     "user": {
      "displayName": "Sertaç ARISOY",
      "userId": "02064369477291648466"
     },
     "user_tz": -180
    },
    "id": "k-7xownbxhKQ"
   },
   "outputs": [],
   "source": [
    "df[\"Column4\"] = pd.Series(randn(4),index = [\"A\",\"B\",\"C\",\"D\"])"
   ]
  },
  {
   "cell_type": "code",
   "execution_count": 69,
   "metadata": {
    "colab": {
     "base_uri": "https://localhost:8080/",
     "height": 174
    },
    "executionInfo": {
     "elapsed": 12,
     "status": "ok",
     "timestamp": 1681224859388,
     "user": {
      "displayName": "Arcibiyo",
      "userId": "09818246554955965434"
     },
     "user_tz": -180
    },
    "id": "cPM1qkhXxhKS",
    "outputId": "903fa5eb-db9b-4f27-a5a2-0c4a27fa6e5c"
   },
   "outputs": [
    {
     "data": {
      "text/html": [
       "<div>\n",
       "<style scoped>\n",
       "    .dataframe tbody tr th:only-of-type {\n",
       "        vertical-align: middle;\n",
       "    }\n",
       "\n",
       "    .dataframe tbody tr th {\n",
       "        vertical-align: top;\n",
       "    }\n",
       "\n",
       "    .dataframe thead th {\n",
       "        text-align: right;\n",
       "    }\n",
       "</style>\n",
       "<table border=\"1\" class=\"dataframe\">\n",
       "  <thead>\n",
       "    <tr style=\"text-align: right;\">\n",
       "      <th></th>\n",
       "      <th>Column1</th>\n",
       "      <th>Column2</th>\n",
       "      <th>Column3</th>\n",
       "      <th>Column0</th>\n",
       "      <th>Column4</th>\n",
       "    </tr>\n",
       "  </thead>\n",
       "  <tbody>\n",
       "    <tr>\n",
       "      <th>A</th>\n",
       "      <td>-0.704980</td>\n",
       "      <td>-1.873072</td>\n",
       "      <td>-0.171943</td>\n",
       "      <td>0</td>\n",
       "      <td>-0.945452</td>\n",
       "    </tr>\n",
       "    <tr>\n",
       "      <th>B</th>\n",
       "      <td>-1.596641</td>\n",
       "      <td>-0.482766</td>\n",
       "      <td>-1.738505</td>\n",
       "      <td>0</td>\n",
       "      <td>0.581994</td>\n",
       "    </tr>\n",
       "    <tr>\n",
       "      <th>C</th>\n",
       "      <td>-0.360503</td>\n",
       "      <td>0.020648</td>\n",
       "      <td>1.038469</td>\n",
       "      <td>0</td>\n",
       "      <td>0.627332</td>\n",
       "    </tr>\n",
       "    <tr>\n",
       "      <th>D</th>\n",
       "      <td>-0.882796</td>\n",
       "      <td>0.528096</td>\n",
       "      <td>-0.631152</td>\n",
       "      <td>0</td>\n",
       "      <td>-0.258933</td>\n",
       "    </tr>\n",
       "  </tbody>\n",
       "</table>\n",
       "</div>"
      ],
      "text/plain": [
       "    Column1   Column2   Column3  Column0   Column4\n",
       "A -0.704980 -1.873072 -0.171943        0 -0.945452\n",
       "B -1.596641 -0.482766 -1.738505        0  0.581994\n",
       "C -0.360503  0.020648  1.038469        0  0.627332\n",
       "D -0.882796  0.528096 -0.631152        0 -0.258933"
      ]
     },
     "execution_count": 69,
     "metadata": {},
     "output_type": "execute_result"
    }
   ],
   "source": [
    "df"
   ]
  },
  {
   "cell_type": "markdown",
   "metadata": {
    "id": "h5IXIqI-xhKT"
   },
   "source": [
    "#### 2.Yöntem"
   ]
  },
  {
   "cell_type": "code",
   "execution_count": 70,
   "metadata": {
    "executionInfo": {
     "elapsed": 241,
     "status": "ok",
     "timestamp": 1707142862226,
     "user": {
      "displayName": "Sertaç ARISOY",
      "userId": "02064369477291648466"
     },
     "user_tz": -180
    },
    "id": "iEIHDMB4xhKU"
   },
   "outputs": [],
   "source": [
    "df[\"Column5\"] = randn(4)"
   ]
  },
  {
   "cell_type": "code",
   "execution_count": 71,
   "metadata": {
    "id": "4KnAZ8JaxhKU",
    "outputId": "09511f20-41d9-42f2-cf14-18dda4b13685"
   },
   "outputs": [
    {
     "data": {
      "text/html": [
       "<div>\n",
       "<style scoped>\n",
       "    .dataframe tbody tr th:only-of-type {\n",
       "        vertical-align: middle;\n",
       "    }\n",
       "\n",
       "    .dataframe tbody tr th {\n",
       "        vertical-align: top;\n",
       "    }\n",
       "\n",
       "    .dataframe thead th {\n",
       "        text-align: right;\n",
       "    }\n",
       "</style>\n",
       "<table border=\"1\" class=\"dataframe\">\n",
       "  <thead>\n",
       "    <tr style=\"text-align: right;\">\n",
       "      <th></th>\n",
       "      <th>Column1</th>\n",
       "      <th>Column2</th>\n",
       "      <th>Column3</th>\n",
       "      <th>Column0</th>\n",
       "      <th>Column4</th>\n",
       "      <th>Column5</th>\n",
       "    </tr>\n",
       "  </thead>\n",
       "  <tbody>\n",
       "    <tr>\n",
       "      <th>A</th>\n",
       "      <td>-0.704980</td>\n",
       "      <td>-1.873072</td>\n",
       "      <td>-0.171943</td>\n",
       "      <td>0</td>\n",
       "      <td>-0.945452</td>\n",
       "      <td>-1.279518</td>\n",
       "    </tr>\n",
       "    <tr>\n",
       "      <th>B</th>\n",
       "      <td>-1.596641</td>\n",
       "      <td>-0.482766</td>\n",
       "      <td>-1.738505</td>\n",
       "      <td>0</td>\n",
       "      <td>0.581994</td>\n",
       "      <td>0.726357</td>\n",
       "    </tr>\n",
       "    <tr>\n",
       "      <th>C</th>\n",
       "      <td>-0.360503</td>\n",
       "      <td>0.020648</td>\n",
       "      <td>1.038469</td>\n",
       "      <td>0</td>\n",
       "      <td>0.627332</td>\n",
       "      <td>-0.741875</td>\n",
       "    </tr>\n",
       "    <tr>\n",
       "      <th>D</th>\n",
       "      <td>-0.882796</td>\n",
       "      <td>0.528096</td>\n",
       "      <td>-0.631152</td>\n",
       "      <td>0</td>\n",
       "      <td>-0.258933</td>\n",
       "      <td>-0.807154</td>\n",
       "    </tr>\n",
       "  </tbody>\n",
       "</table>\n",
       "</div>"
      ],
      "text/plain": [
       "    Column1   Column2   Column3  Column0   Column4   Column5\n",
       "A -0.704980 -1.873072 -0.171943        0 -0.945452 -1.279518\n",
       "B -1.596641 -0.482766 -1.738505        0  0.581994  0.726357\n",
       "C -0.360503  0.020648  1.038469        0  0.627332 -0.741875\n",
       "D -0.882796  0.528096 -0.631152        0 -0.258933 -0.807154"
      ]
     },
     "execution_count": 71,
     "metadata": {},
     "output_type": "execute_result"
    }
   ],
   "source": [
    "df"
   ]
  },
  {
   "cell_type": "markdown",
   "metadata": {
    "id": "LyNMa93txhKU"
   },
   "source": [
    "### Set Index ve Indeksi Değiştirme"
   ]
  },
  {
   "cell_type": "code",
   "execution_count": 72,
   "metadata": {
    "colab": {
     "base_uri": "https://localhost:8080/",
     "height": 175
    },
    "executionInfo": {
     "elapsed": 279,
     "status": "ok",
     "timestamp": 1707142866460,
     "user": {
      "displayName": "Sertaç ARISOY",
      "userId": "02064369477291648466"
     },
     "user_tz": -180
    },
    "id": "2gCYMbi3xhKV",
    "outputId": "5aefa011-3bea-45df-cd0d-d3def786a1c3"
   },
   "outputs": [
    {
     "data": {
      "text/html": [
       "<div>\n",
       "<style scoped>\n",
       "    .dataframe tbody tr th:only-of-type {\n",
       "        vertical-align: middle;\n",
       "    }\n",
       "\n",
       "    .dataframe tbody tr th {\n",
       "        vertical-align: top;\n",
       "    }\n",
       "\n",
       "    .dataframe thead th {\n",
       "        text-align: right;\n",
       "    }\n",
       "</style>\n",
       "<table border=\"1\" class=\"dataframe\">\n",
       "  <thead>\n",
       "    <tr style=\"text-align: right;\">\n",
       "      <th></th>\n",
       "      <th>Column1</th>\n",
       "      <th>Column2</th>\n",
       "      <th>Column3</th>\n",
       "      <th>Column0</th>\n",
       "      <th>Column4</th>\n",
       "      <th>Column5</th>\n",
       "    </tr>\n",
       "  </thead>\n",
       "  <tbody>\n",
       "    <tr>\n",
       "      <th>A</th>\n",
       "      <td>-0.704980</td>\n",
       "      <td>-1.873072</td>\n",
       "      <td>-0.171943</td>\n",
       "      <td>0</td>\n",
       "      <td>-0.945452</td>\n",
       "      <td>-1.279518</td>\n",
       "    </tr>\n",
       "    <tr>\n",
       "      <th>B</th>\n",
       "      <td>-1.596641</td>\n",
       "      <td>-0.482766</td>\n",
       "      <td>-1.738505</td>\n",
       "      <td>0</td>\n",
       "      <td>0.581994</td>\n",
       "      <td>0.726357</td>\n",
       "    </tr>\n",
       "    <tr>\n",
       "      <th>C</th>\n",
       "      <td>-0.360503</td>\n",
       "      <td>0.020648</td>\n",
       "      <td>1.038469</td>\n",
       "      <td>0</td>\n",
       "      <td>0.627332</td>\n",
       "      <td>-0.741875</td>\n",
       "    </tr>\n",
       "    <tr>\n",
       "      <th>D</th>\n",
       "      <td>-0.882796</td>\n",
       "      <td>0.528096</td>\n",
       "      <td>-0.631152</td>\n",
       "      <td>0</td>\n",
       "      <td>-0.258933</td>\n",
       "      <td>-0.807154</td>\n",
       "    </tr>\n",
       "  </tbody>\n",
       "</table>\n",
       "</div>"
      ],
      "text/plain": [
       "    Column1   Column2   Column3  Column0   Column4   Column5\n",
       "A -0.704980 -1.873072 -0.171943        0 -0.945452 -1.279518\n",
       "B -1.596641 -0.482766 -1.738505        0  0.581994  0.726357\n",
       "C -0.360503  0.020648  1.038469        0  0.627332 -0.741875\n",
       "D -0.882796  0.528096 -0.631152        0 -0.258933 -0.807154"
      ]
     },
     "execution_count": 72,
     "metadata": {},
     "output_type": "execute_result"
    }
   ],
   "source": [
    "df"
   ]
  },
  {
   "cell_type": "code",
   "execution_count": 79,
   "metadata": {
    "executionInfo": {
     "elapsed": 237,
     "status": "ok",
     "timestamp": 1707142880837,
     "user": {
      "displayName": "Sertaç ARISOY",
      "userId": "02064369477291648466"
     },
     "user_tz": -180
    },
    "id": "cit42bSgxhKV"
   },
   "outputs": [],
   "source": [
    "df[\"Column6\"] = [\"5\",\"0\",\"1\",\"4\"]"
   ]
  },
  {
   "cell_type": "code",
   "execution_count": 83,
   "metadata": {
    "colab": {
     "base_uri": "https://localhost:8080/",
     "height": 175
    },
    "executionInfo": {
     "elapsed": 269,
     "status": "ok",
     "timestamp": 1707142882576,
     "user": {
      "displayName": "Sertaç ARISOY",
      "userId": "02064369477291648466"
     },
     "user_tz": -180
    },
    "id": "xCNYXIRExhKV",
    "outputId": "ff20a8f3-d37e-4406-bb69-9d463d932c54"
   },
   "outputs": [
    {
     "data": {
      "text/html": [
       "<div>\n",
       "<style scoped>\n",
       "    .dataframe tbody tr th:only-of-type {\n",
       "        vertical-align: middle;\n",
       "    }\n",
       "\n",
       "    .dataframe tbody tr th {\n",
       "        vertical-align: top;\n",
       "    }\n",
       "\n",
       "    .dataframe thead th {\n",
       "        text-align: right;\n",
       "    }\n",
       "</style>\n",
       "<table border=\"1\" class=\"dataframe\">\n",
       "  <thead>\n",
       "    <tr style=\"text-align: right;\">\n",
       "      <th></th>\n",
       "      <th>Column1</th>\n",
       "      <th>Column2</th>\n",
       "      <th>Column3</th>\n",
       "      <th>Column0</th>\n",
       "      <th>Column4</th>\n",
       "      <th>Column5</th>\n",
       "      <th>Column6</th>\n",
       "    </tr>\n",
       "  </thead>\n",
       "  <tbody>\n",
       "    <tr>\n",
       "      <th>A</th>\n",
       "      <td>-0.704980</td>\n",
       "      <td>-1.873072</td>\n",
       "      <td>-0.171943</td>\n",
       "      <td>0</td>\n",
       "      <td>-0.945452</td>\n",
       "      <td>-1.279518</td>\n",
       "      <td>5</td>\n",
       "    </tr>\n",
       "    <tr>\n",
       "      <th>B</th>\n",
       "      <td>-1.596641</td>\n",
       "      <td>-0.482766</td>\n",
       "      <td>-1.738505</td>\n",
       "      <td>0</td>\n",
       "      <td>0.581994</td>\n",
       "      <td>0.726357</td>\n",
       "      <td>0</td>\n",
       "    </tr>\n",
       "    <tr>\n",
       "      <th>C</th>\n",
       "      <td>-0.360503</td>\n",
       "      <td>0.020648</td>\n",
       "      <td>1.038469</td>\n",
       "      <td>0</td>\n",
       "      <td>0.627332</td>\n",
       "      <td>-0.741875</td>\n",
       "      <td>1</td>\n",
       "    </tr>\n",
       "    <tr>\n",
       "      <th>D</th>\n",
       "      <td>-0.882796</td>\n",
       "      <td>0.528096</td>\n",
       "      <td>-0.631152</td>\n",
       "      <td>0</td>\n",
       "      <td>-0.258933</td>\n",
       "      <td>-0.807154</td>\n",
       "      <td>4</td>\n",
       "    </tr>\n",
       "  </tbody>\n",
       "</table>\n",
       "</div>"
      ],
      "text/plain": [
       "    Column1   Column2   Column3  Column0   Column4   Column5 Column6\n",
       "A -0.704980 -1.873072 -0.171943        0 -0.945452 -1.279518       5\n",
       "B -1.596641 -0.482766 -1.738505        0  0.581994  0.726357       0\n",
       "C -0.360503  0.020648  1.038469        0  0.627332 -0.741875       1\n",
       "D -0.882796  0.528096 -0.631152        0 -0.258933 -0.807154       4"
      ]
     },
     "execution_count": 83,
     "metadata": {},
     "output_type": "execute_result"
    }
   ],
   "source": [
    "df"
   ]
  },
  {
   "cell_type": "code",
   "execution_count": 84,
   "metadata": {
    "colab": {
     "base_uri": "https://localhost:8080/",
     "height": 206
    },
    "executionInfo": {
     "elapsed": 274,
     "status": "ok",
     "timestamp": 1707142891420,
     "user": {
      "displayName": "Sertaç ARISOY",
      "userId": "02064369477291648466"
     },
     "user_tz": -180
    },
    "id": "IU60kFEtxhKW",
    "outputId": "f28a2a76-8fc3-48ca-ecda-4b73503fa441"
   },
   "outputs": [
    {
     "data": {
      "text/html": [
       "<div>\n",
       "<style scoped>\n",
       "    .dataframe tbody tr th:only-of-type {\n",
       "        vertical-align: middle;\n",
       "    }\n",
       "\n",
       "    .dataframe tbody tr th {\n",
       "        vertical-align: top;\n",
       "    }\n",
       "\n",
       "    .dataframe thead th {\n",
       "        text-align: right;\n",
       "    }\n",
       "</style>\n",
       "<table border=\"1\" class=\"dataframe\">\n",
       "  <thead>\n",
       "    <tr style=\"text-align: right;\">\n",
       "      <th></th>\n",
       "      <th>Column1</th>\n",
       "      <th>Column2</th>\n",
       "      <th>Column3</th>\n",
       "      <th>Column0</th>\n",
       "      <th>Column4</th>\n",
       "      <th>Column5</th>\n",
       "    </tr>\n",
       "    <tr>\n",
       "      <th>Column6</th>\n",
       "      <th></th>\n",
       "      <th></th>\n",
       "      <th></th>\n",
       "      <th></th>\n",
       "      <th></th>\n",
       "      <th></th>\n",
       "    </tr>\n",
       "  </thead>\n",
       "  <tbody>\n",
       "    <tr>\n",
       "      <th>5</th>\n",
       "      <td>-0.704980</td>\n",
       "      <td>-1.873072</td>\n",
       "      <td>-0.171943</td>\n",
       "      <td>0</td>\n",
       "      <td>-0.945452</td>\n",
       "      <td>-1.279518</td>\n",
       "    </tr>\n",
       "    <tr>\n",
       "      <th>0</th>\n",
       "      <td>-1.596641</td>\n",
       "      <td>-0.482766</td>\n",
       "      <td>-1.738505</td>\n",
       "      <td>0</td>\n",
       "      <td>0.581994</td>\n",
       "      <td>0.726357</td>\n",
       "    </tr>\n",
       "    <tr>\n",
       "      <th>1</th>\n",
       "      <td>-0.360503</td>\n",
       "      <td>0.020648</td>\n",
       "      <td>1.038469</td>\n",
       "      <td>0</td>\n",
       "      <td>0.627332</td>\n",
       "      <td>-0.741875</td>\n",
       "    </tr>\n",
       "    <tr>\n",
       "      <th>4</th>\n",
       "      <td>-0.882796</td>\n",
       "      <td>0.528096</td>\n",
       "      <td>-0.631152</td>\n",
       "      <td>0</td>\n",
       "      <td>-0.258933</td>\n",
       "      <td>-0.807154</td>\n",
       "    </tr>\n",
       "  </tbody>\n",
       "</table>\n",
       "</div>"
      ],
      "text/plain": [
       "          Column1   Column2   Column3  Column0   Column4   Column5\n",
       "Column6                                                           \n",
       "5       -0.704980 -1.873072 -0.171943        0 -0.945452 -1.279518\n",
       "0       -1.596641 -0.482766 -1.738505        0  0.581994  0.726357\n",
       "1       -0.360503  0.020648  1.038469        0  0.627332 -0.741875\n",
       "4       -0.882796  0.528096 -0.631152        0 -0.258933 -0.807154"
      ]
     },
     "execution_count": 84,
     "metadata": {},
     "output_type": "execute_result"
    }
   ],
   "source": [
    "df.set_index(\"Column6\")"
   ]
  },
  {
   "cell_type": "code",
   "execution_count": 95,
   "metadata": {
    "colab": {
     "base_uri": "https://localhost:8080/",
     "height": 175
    },
    "executionInfo": {
     "elapsed": 276,
     "status": "ok",
     "timestamp": 1707142902359,
     "user": {
      "displayName": "Sertaç ARISOY",
      "userId": "02064369477291648466"
     },
     "user_tz": -180
    },
    "id": "27laLqPixhKW",
    "outputId": "f3d4a32f-e1cd-4389-ed67-3a7289794ee2"
   },
   "outputs": [
    {
     "data": {
      "text/html": [
       "<div>\n",
       "<style scoped>\n",
       "    .dataframe tbody tr th:only-of-type {\n",
       "        vertical-align: middle;\n",
       "    }\n",
       "\n",
       "    .dataframe tbody tr th {\n",
       "        vertical-align: top;\n",
       "    }\n",
       "\n",
       "    .dataframe thead th {\n",
       "        text-align: right;\n",
       "    }\n",
       "</style>\n",
       "<table border=\"1\" class=\"dataframe\">\n",
       "  <thead>\n",
       "    <tr style=\"text-align: right;\">\n",
       "      <th></th>\n",
       "      <th>Column1</th>\n",
       "      <th>Column2</th>\n",
       "      <th>Column3</th>\n",
       "      <th>Column0</th>\n",
       "      <th>Column4</th>\n",
       "      <th>Column5</th>\n",
       "    </tr>\n",
       "    <tr>\n",
       "      <th>Column6</th>\n",
       "      <th></th>\n",
       "      <th></th>\n",
       "      <th></th>\n",
       "      <th></th>\n",
       "      <th></th>\n",
       "      <th></th>\n",
       "    </tr>\n",
       "  </thead>\n",
       "  <tbody>\n",
       "    <tr>\n",
       "      <th>5</th>\n",
       "      <td>-0.704980</td>\n",
       "      <td>-1.873072</td>\n",
       "      <td>-0.171943</td>\n",
       "      <td>0</td>\n",
       "      <td>-0.945452</td>\n",
       "      <td>-1.279518</td>\n",
       "    </tr>\n",
       "    <tr>\n",
       "      <th>0</th>\n",
       "      <td>-1.596641</td>\n",
       "      <td>-0.482766</td>\n",
       "      <td>-1.738505</td>\n",
       "      <td>0</td>\n",
       "      <td>0.581994</td>\n",
       "      <td>0.726357</td>\n",
       "    </tr>\n",
       "    <tr>\n",
       "      <th>1</th>\n",
       "      <td>-0.360503</td>\n",
       "      <td>0.020648</td>\n",
       "      <td>1.038469</td>\n",
       "      <td>0</td>\n",
       "      <td>0.627332</td>\n",
       "      <td>-0.741875</td>\n",
       "    </tr>\n",
       "    <tr>\n",
       "      <th>4</th>\n",
       "      <td>-0.882796</td>\n",
       "      <td>0.528096</td>\n",
       "      <td>-0.631152</td>\n",
       "      <td>0</td>\n",
       "      <td>-0.258933</td>\n",
       "      <td>-0.807154</td>\n",
       "    </tr>\n",
       "  </tbody>\n",
       "</table>\n",
       "</div>"
      ],
      "text/plain": [
       "          Column1   Column2   Column3  Column0   Column4   Column5\n",
       "Column6                                                           \n",
       "5       -0.704980 -1.873072 -0.171943        0 -0.945452 -1.279518\n",
       "0       -1.596641 -0.482766 -1.738505        0  0.581994  0.726357\n",
       "1       -0.360503  0.020648  1.038469        0  0.627332 -0.741875\n",
       "4       -0.882796  0.528096 -0.631152        0 -0.258933 -0.807154"
      ]
     },
     "execution_count": 95,
     "metadata": {},
     "output_type": "execute_result"
    }
   ],
   "source": [
    "df # Değişikliği geçerli yapmak için inplace parametresi gerekir."
   ]
  },
  {
   "cell_type": "code",
   "execution_count": 97,
   "metadata": {
    "executionInfo": {
     "elapsed": 244,
     "status": "ok",
     "timestamp": 1707142905287,
     "user": {
      "displayName": "Sertaç ARISOY",
      "userId": "02064369477291648466"
     },
     "user_tz": -180
    },
    "id": "sJjWIszfxhKW"
   },
   "outputs": [],
   "source": [
    "df.set_index(\"Column4\",inplace=True)"
   ]
  },
  {
   "cell_type": "code",
   "execution_count": 98,
   "metadata": {
    "colab": {
     "base_uri": "https://localhost:8080/",
     "height": 206
    },
    "executionInfo": {
     "elapsed": 22,
     "status": "ok",
     "timestamp": 1681224961093,
     "user": {
      "displayName": "Arcibiyo",
      "userId": "09818246554955965434"
     },
     "user_tz": -180
    },
    "id": "R1nzioN_xhKf",
    "outputId": "c38d9c2e-db2b-4d07-ad31-e58c2da019b8"
   },
   "outputs": [
    {
     "data": {
      "text/html": [
       "<div>\n",
       "<style scoped>\n",
       "    .dataframe tbody tr th:only-of-type {\n",
       "        vertical-align: middle;\n",
       "    }\n",
       "\n",
       "    .dataframe tbody tr th {\n",
       "        vertical-align: top;\n",
       "    }\n",
       "\n",
       "    .dataframe thead th {\n",
       "        text-align: right;\n",
       "    }\n",
       "</style>\n",
       "<table border=\"1\" class=\"dataframe\">\n",
       "  <thead>\n",
       "    <tr style=\"text-align: right;\">\n",
       "      <th></th>\n",
       "      <th>Column1</th>\n",
       "      <th>Column2</th>\n",
       "      <th>Column3</th>\n",
       "      <th>Column0</th>\n",
       "      <th>Column5</th>\n",
       "    </tr>\n",
       "    <tr>\n",
       "      <th>Column4</th>\n",
       "      <th></th>\n",
       "      <th></th>\n",
       "      <th></th>\n",
       "      <th></th>\n",
       "      <th></th>\n",
       "    </tr>\n",
       "  </thead>\n",
       "  <tbody>\n",
       "    <tr>\n",
       "      <th>-0.945452</th>\n",
       "      <td>-0.704980</td>\n",
       "      <td>-1.873072</td>\n",
       "      <td>-0.171943</td>\n",
       "      <td>0</td>\n",
       "      <td>-1.279518</td>\n",
       "    </tr>\n",
       "    <tr>\n",
       "      <th>0.581994</th>\n",
       "      <td>-1.596641</td>\n",
       "      <td>-0.482766</td>\n",
       "      <td>-1.738505</td>\n",
       "      <td>0</td>\n",
       "      <td>0.726357</td>\n",
       "    </tr>\n",
       "    <tr>\n",
       "      <th>0.627332</th>\n",
       "      <td>-0.360503</td>\n",
       "      <td>0.020648</td>\n",
       "      <td>1.038469</td>\n",
       "      <td>0</td>\n",
       "      <td>-0.741875</td>\n",
       "    </tr>\n",
       "    <tr>\n",
       "      <th>-0.258933</th>\n",
       "      <td>-0.882796</td>\n",
       "      <td>0.528096</td>\n",
       "      <td>-0.631152</td>\n",
       "      <td>0</td>\n",
       "      <td>-0.807154</td>\n",
       "    </tr>\n",
       "  </tbody>\n",
       "</table>\n",
       "</div>"
      ],
      "text/plain": [
       "            Column1   Column2   Column3  Column0   Column5\n",
       "Column4                                                   \n",
       "-0.945452 -0.704980 -1.873072 -0.171943        0 -1.279518\n",
       " 0.581994 -1.596641 -0.482766 -1.738505        0  0.726357\n",
       " 0.627332 -0.360503  0.020648  1.038469        0 -0.741875\n",
       "-0.258933 -0.882796  0.528096 -0.631152        0 -0.807154"
      ]
     },
     "execution_count": 98,
     "metadata": {},
     "output_type": "execute_result"
    }
   ],
   "source": [
    "df"
   ]
  },
  {
   "cell_type": "code",
   "execution_count": 99,
   "metadata": {
    "colab": {
     "base_uri": "https://localhost:8080/"
    },
    "executionInfo": {
     "elapsed": 250,
     "status": "ok",
     "timestamp": 1707142910414,
     "user": {
      "displayName": "Sertaç ARISOY",
      "userId": "02064369477291648466"
     },
     "user_tz": -180
    },
    "id": "940hcW5PxhKf",
    "outputId": "f89ea84d-c3a2-40a3-a25d-1e36b0b87c44"
   },
   "outputs": [
    {
     "data": {
      "text/plain": [
       "FrozenList(['Column4'])"
      ]
     },
     "execution_count": 99,
     "metadata": {},
     "output_type": "execute_result"
    }
   ],
   "source": [
    "df.index.names # Indekslerin ismi"
   ]
  },
  {
   "cell_type": "code",
   "execution_count": null,
   "metadata": {
    "id": "pSUZfH1CxhKg"
   },
   "outputs": [],
   "source": []
  },
  {
   "cell_type": "code",
   "execution_count": null,
   "metadata": {
    "id": "vKQTC6uAn3u7"
   },
   "outputs": [],
   "source": []
  }
 ],
 "metadata": {
  "colab": {
   "provenance": []
  },
  "kernelspec": {
   "display_name": "Python 3 (ipykernel)",
   "language": "python",
   "name": "python3"
  },
  "language_info": {
   "codemirror_mode": {
    "name": "ipython",
    "version": 3
   },
   "file_extension": ".py",
   "mimetype": "text/x-python",
   "name": "python",
   "nbconvert_exporter": "python",
   "pygments_lexer": "ipython3",
   "version": "3.10.9"
  }
 },
 "nbformat": 4,
 "nbformat_minor": 1
}
