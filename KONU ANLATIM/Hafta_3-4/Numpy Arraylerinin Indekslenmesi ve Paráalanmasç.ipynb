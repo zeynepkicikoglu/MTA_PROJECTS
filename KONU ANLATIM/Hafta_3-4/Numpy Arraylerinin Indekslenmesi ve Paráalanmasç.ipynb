{
 "cells": [
  {
   "cell_type": "markdown",
   "metadata": {
    "id": "gPF5ocvdk10e"
   },
   "source": [
    "## Numpy Array Indekslenmesi ve Parçalanması"
   ]
  },
  {
   "cell_type": "code",
   "execution_count": 1,
   "metadata": {
    "executionInfo": {
     "elapsed": 1,
     "status": "ok",
     "timestamp": 1707139473030,
     "user": {
      "displayName": "Sertaç ARISOY",
      "userId": "02064369477291648466"
     },
     "user_tz": -180
    },
    "id": "FZrNgUc7k10j"
   },
   "outputs": [],
   "source": [
    "import numpy as np"
   ]
  },
  {
   "cell_type": "code",
   "execution_count": 2,
   "metadata": {
    "executionInfo": {
     "elapsed": 256,
     "status": "ok",
     "timestamp": 1707139476750,
     "user": {
      "displayName": "Sertaç ARISOY",
      "userId": "02064369477291648466"
     },
     "user_tz": -180
    },
    "id": "Vx7et0pik10l"
   },
   "outputs": [],
   "source": [
    "arr = np.arange(1,10)"
   ]
  },
  {
   "cell_type": "code",
   "execution_count": 3,
   "metadata": {
    "colab": {
     "base_uri": "https://localhost:8080/"
    },
    "executionInfo": {
     "elapsed": 13,
     "status": "ok",
     "timestamp": 1680619520273,
     "user": {
      "displayName": "Arcibiyo",
      "userId": "09818246554955965434"
     },
     "user_tz": -180
    },
    "id": "jAjA4oklk10l",
    "outputId": "15db8c8f-633f-46ef-f22c-dc167e2eeda8"
   },
   "outputs": [
    {
     "data": {
      "text/plain": [
       "array([1, 2, 3, 4, 5, 6, 7, 8, 9])"
      ]
     },
     "execution_count": 3,
     "metadata": {},
     "output_type": "execute_result"
    }
   ],
   "source": [
    "arr"
   ]
  },
  {
   "cell_type": "code",
   "execution_count": 4,
   "metadata": {
    "colab": {
     "base_uri": "https://localhost:8080/"
    },
    "executionInfo": {
     "elapsed": 279,
     "status": "ok",
     "timestamp": 1707139480586,
     "user": {
      "displayName": "Sertaç ARISOY",
      "userId": "02064369477291648466"
     },
     "user_tz": -180
    },
    "id": "nmaixagqk10m",
    "outputId": "c8e7ac52-1c7f-480d-8c89-624a4a0e8e33"
   },
   "outputs": [
    {
     "data": {
      "text/plain": [
       "2"
      ]
     },
     "execution_count": 4,
     "metadata": {},
     "output_type": "execute_result"
    }
   ],
   "source": [
    "arr[1]"
   ]
  },
  {
   "cell_type": "code",
   "execution_count": 5,
   "metadata": {
    "colab": {
     "base_uri": "https://localhost:8080/"
    },
    "executionInfo": {
     "elapsed": 2,
     "status": "ok",
     "timestamp": 1707139482446,
     "user": {
      "displayName": "Sertaç ARISOY",
      "userId": "02064369477291648466"
     },
     "user_tz": -180
    },
    "id": "vARKU9Ock10m",
    "outputId": "4b1573a7-41ce-4b6d-d61b-d76056475368"
   },
   "outputs": [
    {
     "data": {
      "text/plain": [
       "3"
      ]
     },
     "execution_count": 5,
     "metadata": {},
     "output_type": "execute_result"
    }
   ],
   "source": [
    "arr[2]"
   ]
  },
  {
   "cell_type": "code",
   "execution_count": 6,
   "metadata": {
    "colab": {
     "base_uri": "https://localhost:8080/"
    },
    "executionInfo": {
     "elapsed": 237,
     "status": "ok",
     "timestamp": 1707139486504,
     "user": {
      "displayName": "Sertaç ARISOY",
      "userId": "02064369477291648466"
     },
     "user_tz": -180
    },
    "id": "mQMZFiNPuvjR",
    "outputId": "09586dc5-c080-4ea4-87a3-00f45e1eab8b"
   },
   "outputs": [
    {
     "data": {
      "text/plain": [
       "[1, 2, 3, 4, 5, 6, 7, 8, 9]"
      ]
     },
     "execution_count": 6,
     "metadata": {},
     "output_type": "execute_result"
    }
   ],
   "source": [
    "liste = [i for i in range(1,10)]\n",
    "liste"
   ]
  },
  {
   "cell_type": "code",
   "execution_count": 7,
   "metadata": {
    "colab": {
     "base_uri": "https://localhost:8080/"
    },
    "executionInfo": {
     "elapsed": 258,
     "status": "ok",
     "timestamp": 1707139495486,
     "user": {
      "displayName": "Sertaç ARISOY",
      "userId": "02064369477291648466"
     },
     "user_tz": -180
    },
    "id": "VET5hRWJvX7f",
    "outputId": "44511549-f51c-41b9-8038-7fb624f5ad76"
   },
   "outputs": [
    {
     "data": {
      "text/plain": [
       "[2, 3, 4, 5]"
      ]
     },
     "execution_count": 7,
     "metadata": {},
     "output_type": "execute_result"
    }
   ],
   "source": [
    "liste[1:5]"
   ]
  },
  {
   "cell_type": "code",
   "execution_count": 8,
   "metadata": {
    "colab": {
     "base_uri": "https://localhost:8080/"
    },
    "executionInfo": {
     "elapsed": 266,
     "status": "ok",
     "timestamp": 1707140256324,
     "user": {
      "displayName": "Sertaç ARISOY",
      "userId": "02064369477291648466"
     },
     "user_tz": -180
    },
    "id": "6yHpkUpWk10m",
    "outputId": "49baa46a-29c0-4d3d-a5e3-c3fa8815734d"
   },
   "outputs": [
    {
     "data": {
      "text/plain": [
       "array([2, 3])"
      ]
     },
     "execution_count": 8,
     "metadata": {},
     "output_type": "execute_result"
    }
   ],
   "source": [
    "arr[1:3]"
   ]
  },
  {
   "cell_type": "code",
   "execution_count": 9,
   "metadata": {
    "colab": {
     "base_uri": "https://localhost:8080/"
    },
    "executionInfo": {
     "elapsed": 241,
     "status": "ok",
     "timestamp": 1707139567692,
     "user": {
      "displayName": "Sertaç ARISOY",
      "userId": "02064369477291648466"
     },
     "user_tz": -180
    },
    "id": "b0lA7j2Mk10n",
    "outputId": "769a9662-9ef6-44e9-ad21-952538954013"
   },
   "outputs": [
    {
     "data": {
      "text/plain": [
       "array([2, 3, 4, 5, 6, 7, 8, 9])"
      ]
     },
     "execution_count": 9,
     "metadata": {},
     "output_type": "execute_result"
    }
   ],
   "source": [
    "arr[1:]"
   ]
  },
  {
   "cell_type": "code",
   "execution_count": 10,
   "metadata": {
    "colab": {
     "base_uri": "https://localhost:8080/"
    },
    "executionInfo": {
     "elapsed": 258,
     "status": "ok",
     "timestamp": 1707139585039,
     "user": {
      "displayName": "Sertaç ARISOY",
      "userId": "02064369477291648466"
     },
     "user_tz": -180
    },
    "id": "urIcKKAjk10n",
    "outputId": "ddc2b80c-ec1c-433f-829b-f841ea97c404"
   },
   "outputs": [
    {
     "data": {
      "text/plain": [
       "array([1, 2, 3, 4])"
      ]
     },
     "execution_count": 10,
     "metadata": {},
     "output_type": "execute_result"
    }
   ],
   "source": [
    "arr[0:4]"
   ]
  },
  {
   "cell_type": "code",
   "execution_count": 11,
   "metadata": {
    "colab": {
     "base_uri": "https://localhost:8080/"
    },
    "executionInfo": {
     "elapsed": 235,
     "status": "ok",
     "timestamp": 1707139588559,
     "user": {
      "displayName": "Sertaç ARISOY",
      "userId": "02064369477291648466"
     },
     "user_tz": -180
    },
    "id": "DSZ2Gtqxvguz",
    "outputId": "c69b6a46-25a2-4fd0-b39d-df0f405675cb"
   },
   "outputs": [
    {
     "data": {
      "text/plain": [
       "array([1, 2, 3, 4, 5, 6, 7, 8, 9])"
      ]
     },
     "execution_count": 11,
     "metadata": {},
     "output_type": "execute_result"
    }
   ],
   "source": [
    "arr"
   ]
  },
  {
   "cell_type": "code",
   "execution_count": 12,
   "metadata": {
    "colab": {
     "base_uri": "https://localhost:8080/"
    },
    "executionInfo": {
     "elapsed": 263,
     "status": "ok",
     "timestamp": 1707139594919,
     "user": {
      "displayName": "Sertaç ARISOY",
      "userId": "02064369477291648466"
     },
     "user_tz": -180
    },
    "id": "24buOhCkk10n",
    "outputId": "462c075c-efc0-46d9-a83e-4924d211ae02"
   },
   "outputs": [
    {
     "data": {
      "text/plain": [
       "array([1, 3, 5, 7, 9])"
      ]
     },
     "execution_count": 12,
     "metadata": {},
     "output_type": "execute_result"
    }
   ],
   "source": [
    "arr[::2]"
   ]
  },
  {
   "cell_type": "code",
   "execution_count": 13,
   "metadata": {
    "colab": {
     "base_uri": "https://localhost:8080/"
    },
    "executionInfo": {
     "elapsed": 264,
     "status": "ok",
     "timestamp": 1707139598128,
     "user": {
      "displayName": "Sertaç ARISOY",
      "userId": "02064369477291648466"
     },
     "user_tz": -180
    },
    "id": "AoCwWDIpk10o",
    "outputId": "907fc923-2881-4a23-fae6-40525cd66799"
   },
   "outputs": [
    {
     "data": {
      "text/plain": [
       "array([1, 2, 3, 4, 5, 6, 7, 8, 9])"
      ]
     },
     "execution_count": 13,
     "metadata": {},
     "output_type": "execute_result"
    }
   ],
   "source": [
    "arr"
   ]
  },
  {
   "cell_type": "code",
   "execution_count": 14,
   "metadata": {
    "executionInfo": {
     "elapsed": 262,
     "status": "ok",
     "timestamp": 1707139675797,
     "user": {
      "displayName": "Sertaç ARISOY",
      "userId": "02064369477291648466"
     },
     "user_tz": -180
    },
    "id": "xdt1VOoCk10p"
   },
   "outputs": [],
   "source": [
    "arr[0:3] = 25"
   ]
  },
  {
   "cell_type": "code",
   "execution_count": 15,
   "metadata": {
    "colab": {
     "base_uri": "https://localhost:8080/"
    },
    "executionInfo": {
     "elapsed": 230,
     "status": "ok",
     "timestamp": 1707139692289,
     "user": {
      "displayName": "Sertaç ARISOY",
      "userId": "02064369477291648466"
     },
     "user_tz": -180
    },
    "id": "oqGoLrrCk10p",
    "outputId": "639c100e-0685-4da1-c8bc-24d90c4d1648"
   },
   "outputs": [
    {
     "data": {
      "text/plain": [
       "array([25, 25, 25,  4,  5,  6,  7,  8,  9])"
      ]
     },
     "execution_count": 15,
     "metadata": {},
     "output_type": "execute_result"
    }
   ],
   "source": [
    "arr"
   ]
  },
  {
   "cell_type": "code",
   "execution_count": 17,
   "metadata": {
    "executionInfo": {
     "elapsed": 241,
     "status": "ok",
     "timestamp": 1707139703184,
     "user": {
      "displayName": "Sertaç ARISOY",
      "userId": "02064369477291648466"
     },
     "user_tz": -180
    },
    "id": "6f8u5uhmk10p"
   },
   "outputs": [],
   "source": [
    "arr = np.arange(1,10)"
   ]
  },
  {
   "cell_type": "code",
   "execution_count": 18,
   "metadata": {
    "colab": {
     "base_uri": "https://localhost:8080/"
    },
    "executionInfo": {
     "elapsed": 3,
     "status": "ok",
     "timestamp": 1680619777078,
     "user": {
      "displayName": "Arcibiyo",
      "userId": "09818246554955965434"
     },
     "user_tz": -180
    },
    "id": "X3BVwenEk10q",
    "outputId": "620827ab-d682-430f-c4bf-c0d94061c5b7"
   },
   "outputs": [
    {
     "data": {
      "text/plain": [
       "array([1, 2, 3, 4, 5, 6, 7, 8, 9])"
      ]
     },
     "execution_count": 18,
     "metadata": {},
     "output_type": "execute_result"
    }
   ],
   "source": [
    "arr"
   ]
  },
  {
   "cell_type": "code",
   "execution_count": 19,
   "metadata": {
    "executionInfo": {
     "elapsed": 226,
     "status": "ok",
     "timestamp": 1707139708973,
     "user": {
      "displayName": "Sertaç ARISOY",
      "userId": "02064369477291648466"
     },
     "user_tz": -180
    },
    "id": "SvM7xxYGk10q"
   },
   "outputs": [],
   "source": [
    "arr2 = arr # Aynı değerleri gösteren iki tane değişken"
   ]
  },
  {
   "cell_type": "code",
   "execution_count": 20,
   "metadata": {
    "colab": {
     "base_uri": "https://localhost:8080/"
    },
    "executionInfo": {
     "elapsed": 2,
     "status": "ok",
     "timestamp": 1707139710633,
     "user": {
      "displayName": "Sertaç ARISOY",
      "userId": "02064369477291648466"
     },
     "user_tz": -180
    },
    "id": "GzxHSEVHk10q",
    "outputId": "08a0d4ad-d5cb-4242-963b-8afd17588ab1"
   },
   "outputs": [
    {
     "data": {
      "text/plain": [
       "array([1, 2, 3, 4, 5, 6, 7, 8, 9])"
      ]
     },
     "execution_count": 20,
     "metadata": {},
     "output_type": "execute_result"
    }
   ],
   "source": [
    "arr2"
   ]
  },
  {
   "cell_type": "code",
   "execution_count": 21,
   "metadata": {
    "executionInfo": {
     "elapsed": 244,
     "status": "ok",
     "timestamp": 1707139715072,
     "user": {
      "displayName": "Sertaç ARISOY",
      "userId": "02064369477291648466"
     },
     "user_tz": -180
    },
    "id": "TYW2k1Xsk10q"
   },
   "outputs": [],
   "source": [
    "arr2[:3] =  25"
   ]
  },
  {
   "cell_type": "code",
   "execution_count": 22,
   "metadata": {
    "colab": {
     "base_uri": "https://localhost:8080/"
    },
    "executionInfo": {
     "elapsed": 236,
     "status": "ok",
     "timestamp": 1707139718154,
     "user": {
      "displayName": "Sertaç ARISOY",
      "userId": "02064369477291648466"
     },
     "user_tz": -180
    },
    "id": "F_CWrOMmk10q",
    "outputId": "0e8ab1f1-9408-4448-ba79-6280093b215c"
   },
   "outputs": [
    {
     "data": {
      "text/plain": [
       "array([25, 25, 25,  4,  5,  6,  7,  8,  9])"
      ]
     },
     "execution_count": 22,
     "metadata": {},
     "output_type": "execute_result"
    }
   ],
   "source": [
    "arr2"
   ]
  },
  {
   "cell_type": "code",
   "execution_count": 23,
   "metadata": {
    "colab": {
     "base_uri": "https://localhost:8080/"
    },
    "executionInfo": {
     "elapsed": 258,
     "status": "ok",
     "timestamp": 1707139721432,
     "user": {
      "displayName": "Sertaç ARISOY",
      "userId": "02064369477291648466"
     },
     "user_tz": -180
    },
    "id": "GTSZcsNqk10r",
    "outputId": "8c9df296-08e0-43bb-dc7b-713c943e6eb2"
   },
   "outputs": [
    {
     "data": {
      "text/plain": [
       "array([25, 25, 25,  4,  5,  6,  7,  8,  9])"
      ]
     },
     "execution_count": 23,
     "metadata": {},
     "output_type": "execute_result"
    }
   ],
   "source": [
    "arr"
   ]
  },
  {
   "cell_type": "code",
   "execution_count": 24,
   "metadata": {
    "executionInfo": {
     "elapsed": 242,
     "status": "ok",
     "timestamp": 1707139746622,
     "user": {
      "displayName": "Sertaç ARISOY",
      "userId": "02064369477291648466"
     },
     "user_tz": -180
    },
    "id": "Ct3ne-zok10r"
   },
   "outputs": [],
   "source": [
    "arr = np.arange(1,10)"
   ]
  },
  {
   "cell_type": "code",
   "execution_count": 25,
   "metadata": {
    "colab": {
     "base_uri": "https://localhost:8080/"
    },
    "executionInfo": {
     "elapsed": 3,
     "status": "ok",
     "timestamp": 1707139748299,
     "user": {
      "displayName": "Sertaç ARISOY",
      "userId": "02064369477291648466"
     },
     "user_tz": -180
    },
    "id": "kr0HYxwrk10r",
    "outputId": "0def9249-8a41-4882-df56-606405e98dfc"
   },
   "outputs": [
    {
     "data": {
      "text/plain": [
       "array([1, 2, 3, 4, 5, 6, 7, 8, 9])"
      ]
     },
     "execution_count": 25,
     "metadata": {},
     "output_type": "execute_result"
    }
   ],
   "source": [
    "arr"
   ]
  },
  {
   "cell_type": "code",
   "execution_count": 26,
   "metadata": {
    "executionInfo": {
     "elapsed": 251,
     "status": "ok",
     "timestamp": 1707139811116,
     "user": {
      "displayName": "Sertaç ARISOY",
      "userId": "02064369477291648466"
     },
     "user_tz": -180
    },
    "id": "TPXjz2o0k10r"
   },
   "outputs": [],
   "source": [
    "arrCopy = arr.copy() # Değerler kopyalanıyor.Original array bozulmuyor."
   ]
  },
  {
   "cell_type": "code",
   "execution_count": 27,
   "metadata": {
    "executionInfo": {
     "elapsed": 241,
     "status": "ok",
     "timestamp": 1707139817315,
     "user": {
      "displayName": "Sertaç ARISOY",
      "userId": "02064369477291648466"
     },
     "user_tz": -180
    },
    "id": "WM1vUuyik10s"
   },
   "outputs": [],
   "source": [
    "arrCopy[:3] = 25"
   ]
  },
  {
   "cell_type": "code",
   "execution_count": 28,
   "metadata": {
    "colab": {
     "base_uri": "https://localhost:8080/"
    },
    "executionInfo": {
     "elapsed": 237,
     "status": "ok",
     "timestamp": 1707139818705,
     "user": {
      "displayName": "Sertaç ARISOY",
      "userId": "02064369477291648466"
     },
     "user_tz": -180
    },
    "id": "LFmgNRzHk10s",
    "outputId": "20d138d5-aa8a-4569-ee1b-bfcc711fe45f"
   },
   "outputs": [
    {
     "data": {
      "text/plain": [
       "array([25, 25, 25,  4,  5,  6,  7,  8,  9])"
      ]
     },
     "execution_count": 28,
     "metadata": {},
     "output_type": "execute_result"
    }
   ],
   "source": [
    "arrCopy"
   ]
  },
  {
   "cell_type": "code",
   "execution_count": 29,
   "metadata": {
    "colab": {
     "base_uri": "https://localhost:8080/"
    },
    "executionInfo": {
     "elapsed": 248,
     "status": "ok",
     "timestamp": 1707139820836,
     "user": {
      "displayName": "Sertaç ARISOY",
      "userId": "02064369477291648466"
     },
     "user_tz": -180
    },
    "id": "JufQ5nj3k10s",
    "outputId": "898032fc-1a86-43c7-f7b3-319ed125093c"
   },
   "outputs": [
    {
     "data": {
      "text/plain": [
       "array([1, 2, 3, 4, 5, 6, 7, 8, 9])"
      ]
     },
     "execution_count": 29,
     "metadata": {},
     "output_type": "execute_result"
    }
   ],
   "source": [
    "arr"
   ]
  },
  {
   "cell_type": "code",
   "execution_count": 30,
   "metadata": {
    "executionInfo": {
     "elapsed": 256,
     "status": "ok",
     "timestamp": 1707139823308,
     "user": {
      "displayName": "Sertaç ARISOY",
      "userId": "02064369477291648466"
     },
     "user_tz": -180
    },
    "id": "cdpbDoIfk10s"
   },
   "outputs": [],
   "source": [
    "newArray = np.arange(1,21)"
   ]
  },
  {
   "cell_type": "code",
   "execution_count": 31,
   "metadata": {
    "colab": {
     "base_uri": "https://localhost:8080/"
    },
    "executionInfo": {
     "elapsed": 2,
     "status": "ok",
     "timestamp": 1707139825052,
     "user": {
      "displayName": "Sertaç ARISOY",
      "userId": "02064369477291648466"
     },
     "user_tz": -180
    },
    "id": "v6HFxFNFk10s",
    "outputId": "c7804821-cd88-4573-e42f-78a3b62f6a0b"
   },
   "outputs": [
    {
     "data": {
      "text/plain": [
       "array([ 1,  2,  3,  4,  5,  6,  7,  8,  9, 10, 11, 12, 13, 14, 15, 16, 17,\n",
       "       18, 19, 20])"
      ]
     },
     "execution_count": 31,
     "metadata": {},
     "output_type": "execute_result"
    }
   ],
   "source": [
    "newArray"
   ]
  },
  {
   "cell_type": "code",
   "execution_count": 32,
   "metadata": {
    "colab": {
     "base_uri": "https://localhost:8080/"
    },
    "executionInfo": {
     "elapsed": 225,
     "status": "ok",
     "timestamp": 1707139830458,
     "user": {
      "displayName": "Sertaç ARISOY",
      "userId": "02064369477291648466"
     },
     "user_tz": -180
    },
    "id": "4uJ8TC_Lk10s",
    "outputId": "748c7a4b-b9b3-4538-d4ac-779e98916858"
   },
   "outputs": [
    {
     "data": {
      "text/plain": [
       "array([[ 1,  2,  3,  4,  5],\n",
       "       [ 6,  7,  8,  9, 10],\n",
       "       [11, 12, 13, 14, 15],\n",
       "       [16, 17, 18, 19, 20]])"
      ]
     },
     "execution_count": 32,
     "metadata": {},
     "output_type": "execute_result"
    }
   ],
   "source": [
    "newArray = newArray.reshape(4,5);newArray"
   ]
  },
  {
   "cell_type": "code",
   "execution_count": 33,
   "metadata": {
    "colab": {
     "base_uri": "https://localhost:8080/"
    },
    "executionInfo": {
     "elapsed": 260,
     "status": "ok",
     "timestamp": 1707139832910,
     "user": {
      "displayName": "Sertaç ARISOY",
      "userId": "02064369477291648466"
     },
     "user_tz": -180
    },
    "id": "_cMExgxIk10t",
    "outputId": "30817d0a-8df9-46b8-e80c-8eb4e035cb5e"
   },
   "outputs": [
    {
     "data": {
      "text/plain": [
       "1"
      ]
     },
     "execution_count": 33,
     "metadata": {},
     "output_type": "execute_result"
    }
   ],
   "source": [
    "newArray[0,0]"
   ]
  },
  {
   "cell_type": "code",
   "execution_count": 34,
   "metadata": {
    "colab": {
     "base_uri": "https://localhost:8080/"
    },
    "executionInfo": {
     "elapsed": 245,
     "status": "ok",
     "timestamp": 1707139836166,
     "user": {
      "displayName": "Sertaç ARISOY",
      "userId": "02064369477291648466"
     },
     "user_tz": -180
    },
    "id": "sPpRJI5xk10t",
    "outputId": "0f040663-27c8-4467-c3be-f363a8e23437"
   },
   "outputs": [
    {
     "data": {
      "text/plain": [
       "array([[ 1,  2,  3,  4,  5],\n",
       "       [ 6,  7,  8,  9, 10],\n",
       "       [11, 12, 13, 14, 15],\n",
       "       [16, 17, 18, 19, 20]])"
      ]
     },
     "execution_count": 34,
     "metadata": {},
     "output_type": "execute_result"
    }
   ],
   "source": [
    "newArray"
   ]
  },
  {
   "cell_type": "code",
   "execution_count": 35,
   "metadata": {
    "colab": {
     "base_uri": "https://localhost:8080/"
    },
    "executionInfo": {
     "elapsed": 270,
     "status": "ok",
     "timestamp": 1707139843913,
     "user": {
      "displayName": "Sertaç ARISOY",
      "userId": "02064369477291648466"
     },
     "user_tz": -180
    },
    "id": "OBqtvhZqk10t",
    "outputId": "96c8d5f1-c60d-4b86-aca5-82b8583800f9"
   },
   "outputs": [
    {
     "data": {
      "text/plain": [
       "array([[ 1,  2],\n",
       "       [ 6,  7],\n",
       "       [11, 12],\n",
       "       [16, 17]])"
      ]
     },
     "execution_count": 35,
     "metadata": {},
     "output_type": "execute_result"
    }
   ],
   "source": [
    "newArray[:,:2]"
   ]
  },
  {
   "cell_type": "code",
   "execution_count": 36,
   "metadata": {
    "colab": {
     "base_uri": "https://localhost:8080/"
    },
    "executionInfo": {
     "elapsed": 301,
     "status": "ok",
     "timestamp": 1707139953209,
     "user": {
      "displayName": "Sertaç ARISOY",
      "userId": "02064369477291648466"
     },
     "user_tz": -180
    },
    "id": "gqSpYbY5k10t",
    "outputId": "0d90164a-9189-4a9a-9b15-9656709f11d1"
   },
   "outputs": [
    {
     "data": {
      "text/plain": [
       "array([[1, 2],\n",
       "       [6, 7]])"
      ]
     },
     "execution_count": 36,
     "metadata": {},
     "output_type": "execute_result"
    }
   ],
   "source": [
    "newArray[0:2,0:2]"
   ]
  },
  {
   "cell_type": "code",
   "execution_count": 37,
   "metadata": {},
   "outputs": [
    {
     "data": {
      "text/plain": [
       "array([11, 12, 13, 14, 15])"
      ]
     },
     "execution_count": 37,
     "metadata": {},
     "output_type": "execute_result"
    }
   ],
   "source": [
    "newArray[2]"
   ]
  },
  {
   "cell_type": "code",
   "execution_count": 38,
   "metadata": {
    "colab": {
     "base_uri": "https://localhost:8080/"
    },
    "executionInfo": {
     "elapsed": 244,
     "status": "ok",
     "timestamp": 1707139976329,
     "user": {
      "displayName": "Sertaç ARISOY",
      "userId": "02064369477291648466"
     },
     "user_tz": -180
    },
    "id": "yx3zxF4Ok10t",
    "outputId": "a7527044-7616-4c76-a3ee-c9f69838985a"
   },
   "outputs": [
    {
     "data": {
      "text/plain": [
       "array([[11, 12, 13, 14, 15],\n",
       "       [16, 17, 18, 19, 20]])"
      ]
     },
     "execution_count": 38,
     "metadata": {},
     "output_type": "execute_result"
    }
   ],
   "source": [
    "newArray[2:]"
   ]
  },
  {
   "cell_type": "markdown",
   "metadata": {
    "id": "oWDsVac3k10t"
   },
   "source": [
    "## Numpy Arraylerinin Filtrelenmesi"
   ]
  },
  {
   "cell_type": "code",
   "execution_count": 39,
   "metadata": {
    "executionInfo": {
     "elapsed": 245,
     "status": "ok",
     "timestamp": 1707139979098,
     "user": {
      "displayName": "Sertaç ARISOY",
      "userId": "02064369477291648466"
     },
     "user_tz": -180
    },
    "id": "KOowsgL4k10t"
   },
   "outputs": [],
   "source": [
    "arr = np.arange(1,10)"
   ]
  },
  {
   "cell_type": "code",
   "execution_count": 40,
   "metadata": {
    "colab": {
     "base_uri": "https://localhost:8080/"
    },
    "executionInfo": {
     "elapsed": 230,
     "status": "ok",
     "timestamp": 1707139980426,
     "user": {
      "displayName": "Sertaç ARISOY",
      "userId": "02064369477291648466"
     },
     "user_tz": -180
    },
    "id": "yYNq1BMck10u",
    "outputId": "7564393e-dfbc-4797-a7de-d0d2a27d3647"
   },
   "outputs": [
    {
     "data": {
      "text/plain": [
       "array([1, 2, 3, 4, 5, 6, 7, 8, 9])"
      ]
     },
     "execution_count": 40,
     "metadata": {},
     "output_type": "execute_result"
    }
   ],
   "source": [
    "arr"
   ]
  },
  {
   "cell_type": "code",
   "execution_count": 41,
   "metadata": {
    "colab": {
     "base_uri": "https://localhost:8080/"
    },
    "executionInfo": {
     "elapsed": 224,
     "status": "ok",
     "timestamp": 1707139985359,
     "user": {
      "displayName": "Sertaç ARISOY",
      "userId": "02064369477291648466"
     },
     "user_tz": -180
    },
    "id": "2Gp5df-Jk10u",
    "outputId": "8c813891-42f5-4548-e50b-03452dc7fe7f"
   },
   "outputs": [
    {
     "data": {
      "text/plain": [
       "array([False, False, False, False, False,  True,  True,  True,  True])"
      ]
     },
     "execution_count": 41,
     "metadata": {},
     "output_type": "execute_result"
    }
   ],
   "source": [
    "arr > 5"
   ]
  },
  {
   "cell_type": "code",
   "execution_count": 42,
   "metadata": {
    "colab": {
     "base_uri": "https://localhost:8080/"
    },
    "executionInfo": {
     "elapsed": 220,
     "status": "ok",
     "timestamp": 1707139998609,
     "user": {
      "displayName": "Sertaç ARISOY",
      "userId": "02064369477291648466"
     },
     "user_tz": -180
    },
    "id": "1i-eiFiIk10u",
    "outputId": "5623f470-f0c7-4b1a-f2b6-55cbf5640d16"
   },
   "outputs": [
    {
     "data": {
      "text/plain": [
       "array([False, False, False, False, False,  True,  True,  True,  True])"
      ]
     },
     "execution_count": 42,
     "metadata": {},
     "output_type": "execute_result"
    }
   ],
   "source": [
    "boolValuesArray = arr > 5\n",
    "boolValuesArray"
   ]
  },
  {
   "cell_type": "code",
   "execution_count": 43,
   "metadata": {
    "colab": {
     "base_uri": "https://localhost:8080/"
    },
    "executionInfo": {
     "elapsed": 247,
     "status": "ok",
     "timestamp": 1707140015150,
     "user": {
      "displayName": "Sertaç ARISOY",
      "userId": "02064369477291648466"
     },
     "user_tz": -180
    },
    "id": "jAQmtxdsk10u",
    "outputId": "4b41b312-ad7c-4835-8ce2-ee718367da57"
   },
   "outputs": [
    {
     "data": {
      "text/plain": [
       "array([False, False, False, False, False,  True,  True,  True,  True])"
      ]
     },
     "execution_count": 43,
     "metadata": {},
     "output_type": "execute_result"
    }
   ],
   "source": [
    "boolValuesArray"
   ]
  },
  {
   "cell_type": "code",
   "execution_count": 43,
   "metadata": {
    "colab": {
     "base_uri": "https://localhost:8080/"
    },
    "executionInfo": {
     "elapsed": 231,
     "status": "ok",
     "timestamp": 1707140027285,
     "user": {
      "displayName": "Sertaç ARISOY",
      "userId": "02064369477291648466"
     },
     "user_tz": -180
    },
    "id": "SmlgMAIpk10u",
    "outputId": "f71af3d0-c146-49e3-e524-3da163b151eb"
   },
   "outputs": [
    {
     "data": {
      "text/plain": [
       "array([6, 7, 8, 9])"
      ]
     },
     "execution_count": 43,
     "metadata": {},
     "output_type": "execute_result"
    }
   ],
   "source": [
    "arr[boolValuesArray] # True olanlar filtrelenir."
   ]
  },
  {
   "cell_type": "code",
   "execution_count": 44,
   "metadata": {
    "colab": {
     "base_uri": "https://localhost:8080/"
    },
    "executionInfo": {
     "elapsed": 232,
     "status": "ok",
     "timestamp": 1707140036823,
     "user": {
      "displayName": "Sertaç ARISOY",
      "userId": "02064369477291648466"
     },
     "user_tz": -180
    },
    "id": "ntZg1BUCk10u",
    "outputId": "34b0229f-3dd8-4ba2-bc7d-eedc5b3fccc8"
   },
   "outputs": [
    {
     "data": {
      "text/plain": [
       "array([6, 7, 8, 9])"
      ]
     },
     "execution_count": 44,
     "metadata": {},
     "output_type": "execute_result"
    }
   ],
   "source": [
    "arr[arr > 5] # Daha kısa hali."
   ]
  },
  {
   "cell_type": "code",
   "execution_count": null,
   "metadata": {},
   "outputs": [],
   "source": []
  }
 ],
 "metadata": {
  "colab": {
   "provenance": []
  },
  "kernelspec": {
   "display_name": "Python 3 (ipykernel)",
   "language": "python",
   "name": "python3"
  },
  "language_info": {
   "codemirror_mode": {
    "name": "ipython",
    "version": 3
   },
   "file_extension": ".py",
   "mimetype": "text/x-python",
   "name": "python",
   "nbconvert_exporter": "python",
   "pygments_lexer": "ipython3",
   "version": "3.10.9"
  }
 },
 "nbformat": 4,
 "nbformat_minor": 1
}
